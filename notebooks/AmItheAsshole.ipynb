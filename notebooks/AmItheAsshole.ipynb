{
 "cells": [
  {
   "cell_type": "markdown",
   "metadata": {},
   "source": [
    "# Am I the AHole Dataset Construction\n",
    "\n",
    "Constructing datasets for the AITA subreddit as an exercise using AllenNLP."
   ]
  },
  {
   "cell_type": "code",
   "execution_count": 1,
   "metadata": {
    "ExecuteTime": {
     "end_time": "2020-02-11T14:04:00.463708Z",
     "start_time": "2020-02-11T14:04:00.008023Z"
    }
   },
   "outputs": [],
   "source": [
    "import sys\n",
    "sys.path.append('.')\n",
    "sys.path.append('..')\n",
    "\n",
    "from subreddit_frequency import load_dataframe_from_jsonl\n",
    "from tqdm import tqdm\n",
    "tqdm.pandas()\n",
    "\n",
    "import seaborn as sns\n",
    "from datetime import datetime\n",
    "sns.set('paper')\n",
    "\n",
    "from ipywidgets import interact\n",
    "import pandas as pd\n",
    "from pathlib import Path\n",
    "from matplotlib import pyplot as plt"
   ]
  },
  {
   "cell_type": "markdown",
   "metadata": {},
   "source": [
    "## Data Loading\n",
    "\n",
    "Loads the data from sharded files, need to rebuild and concatonate.\n",
    "May take up a lot of memory, so runon a computer with enough RAM."
   ]
  },
  {
   "cell_type": "code",
   "execution_count": 5,
   "metadata": {
    "ExecuteTime": {
     "end_time": "2020-02-11T14:22:31.573284Z",
     "start_time": "2020-02-11T14:22:14.506800Z"
    }
   },
   "outputs": [
    {
     "name": "stderr",
     "output_type": "stream",
     "text": [
      "93it [00:00, 15161.90it/s]\n",
      "104it [00:00, 22277.09it/s]\n",
      "94it [00:00, 32770.72it/s]\n",
      "128it [00:00, 36671.51it/s]\n",
      "0it [00:00, ?it/s]\n",
      "360it [00:00, 15763.62it/s]\n",
      "116it [00:00, 42753.89it/s]\n",
      "104it [00:00, 34515.56it/s]\n",
      "130it [00:00, 43655.69it/s]\n",
      "106it [00:00, 29422.03it/s]\n",
      "333it [00:00, 27925.13it/s]\n",
      "110it [00:00, 32102.24it/s]\n",
      "0it [00:00, ?it/s]"
     ]
    },
    {
     "name": "stdout",
     "output_type": "stream",
     "text": [
      "../data/RS_2016-04.zst_AmItheAsshole.dump\n",
      "../data/RS_2016-08.zst_AmItheAsshole.dump\n",
      "../data/RS_2016-06.zst_AmItheAsshole.dump\n",
      "../data/RS_2016-01.zst_AmItheAsshole.dump\n",
      "../data/RS_2019-09.zst_AmItheAsshole.dump\n",
      "../data/RS_2017-09.bz2_AmItheAsshole.dump\n",
      "../data/RS_2016-09.zst_AmItheAsshole.dump\n",
      "../data/RS_2017-05.bz2_AmItheAsshole.dump\n",
      "../data/RS_2017-01.bz2_AmItheAsshole.dump\n",
      "../data/RS_2017-03.bz2_AmItheAsshole.dump\n",
      "../data/RS_2017-11.bz2_AmItheAsshole.dump\n",
      "../data/RS_2016-07.zst_AmItheAsshole.dump\n",
      "../data/RS_2019-05.zst_AmItheAsshole.dump\n"
     ]
    },
    {
     "name": "stderr",
     "output_type": "stream",
     "text": [
      "27375it [00:00, 31432.17it/s]\n",
      "154it [00:00, 18068.28it/s]\n",
      "102it [00:00, 24686.61it/s]\n",
      "339it [00:00, 28921.53it/s]\n",
      "113it [00:00, 27907.69it/s]\n",
      "5415it [00:00, 26640.99it/s]"
     ]
    },
    {
     "name": "stdout",
     "output_type": "stream",
     "text": [
      "../data/RS_2016-12.zst_AmItheAsshole.dump\n",
      "../data/RS_2016-11.zst_AmItheAsshole.dump\n",
      "../data/RS_2017-10.bz2_AmItheAsshole.dump\n",
      "../data/RS_2017-06.bz2_AmItheAsshole.dump\n",
      "../data/RS_2019-06.zst_AmItheAsshole.dump\n"
     ]
    },
    {
     "name": "stderr",
     "output_type": "stream",
     "text": [
      "28643it [00:01, 21486.90it/s]\n",
      "136it [00:00, 35133.37it/s]\n",
      "88it [00:00, 41369.51it/s]\n",
      "98it [00:00, 46096.42it/s]\n",
      "2244it [00:00, 22436.54it/s]"
     ]
    },
    {
     "name": "stdout",
     "output_type": "stream",
     "text": [
      "../data/RS_2017-07.bz2_AmItheAsshole.dump\n",
      "../data/RS_2016-05.zst_AmItheAsshole.dump\n",
      "../data/RS_2016-03.zst_AmItheAsshole.dump\n",
      "../data/RS_2018-12.zst_AmItheAsshole.dump\n"
     ]
    },
    {
     "name": "stderr",
     "output_type": "stream",
     "text": [
      "7561it [00:00, 23697.00it/s]\n",
      "104it [00:00, 30269.07it/s]\n",
      "918it [00:00, 24402.80it/s]\n",
      "97it [00:00, 34823.89it/s]\n",
      "0it [00:00, ?it/s]"
     ]
    },
    {
     "name": "stdout",
     "output_type": "stream",
     "text": [
      "../data/RS_2017-08.bz2_AmItheAsshole.dump\n",
      "../data/RS_2019-07.zst_AmItheAsshole.dump\n",
      "../data/RS_2016-10.zst_AmItheAsshole.dump\n",
      "../data/RS_2018-11.zst_AmItheAsshole.dump\n"
     ]
    },
    {
     "name": "stderr",
     "output_type": "stream",
     "text": [
      "6479it [00:00, 21614.69it/s]\n",
      "2284it [00:00, 22831.31it/s]"
     ]
    },
    {
     "name": "stdout",
     "output_type": "stream",
     "text": [
      "../data/RS_2019-01.zst_AmItheAsshole.dump\n"
     ]
    },
    {
     "name": "stderr",
     "output_type": "stream",
     "text": [
      "11577it [00:00, 27126.95it/s]\n",
      "3349it [00:00, 4932.91it/s] "
     ]
    },
    {
     "name": "stdout",
     "output_type": "stream",
     "text": [
      "../data/RS_2019-08.zst_AmItheAsshole.dump\n"
     ]
    },
    {
     "name": "stderr",
     "output_type": "stream",
     "text": [
      "34476it [00:01, 22079.99it/s]\n",
      "2407it [00:00, 23417.25it/s]"
     ]
    },
    {
     "name": "stdout",
     "output_type": "stream",
     "text": [
      "../data/RS_2019-04.zst_AmItheAsshole.dump\n"
     ]
    },
    {
     "name": "stderr",
     "output_type": "stream",
     "text": [
      "26443it [00:01, 18042.18it/s]\n",
      "139it [00:00, 34318.83it/s]\n",
      "2224it [00:00, 22239.12it/s]"
     ]
    },
    {
     "name": "stdout",
     "output_type": "stream",
     "text": [
      "../data/RS_2017-04.bz2_AmItheAsshole.dump\n",
      "../data/RS_2019-03.zst_AmItheAsshole.dump\n"
     ]
    },
    {
     "name": "stderr",
     "output_type": "stream",
     "text": [
      "23976it [00:00, 30005.96it/s]\n",
      "2361it [00:00, 23602.71it/s]"
     ]
    },
    {
     "name": "stdout",
     "output_type": "stream",
     "text": [
      "../data/RS_2019-02.zst_AmItheAsshole.dump\n"
     ]
    },
    {
     "name": "stderr",
     "output_type": "stream",
     "text": [
      "15621it [00:00, 27998.60it/s]\n",
      "94it [00:00, 33674.80it/s]\n",
      "115it [00:00, 24706.50it/s]"
     ]
    },
    {
     "name": "stdout",
     "output_type": "stream",
     "text": [
      "../data/RS_2017-02.bz2_AmItheAsshole.dump\n",
      "../data/RS_2016-02.zst_AmItheAsshole.dump\n"
     ]
    },
    {
     "name": "stderr",
     "output_type": "stream",
     "text": [
      "\n",
      "/home/johnkeszler/anaconda3/lib/python3.7/site-packages/ipykernel_launcher.py:4: FutureWarning: Sorting because non-concatenation axis is not aligned. A future version\n",
      "of pandas will change to not sort by default.\n",
      "\n",
      "To accept the future behavior, pass 'sort=False'.\n",
      "\n",
      "To retain the current behavior and silence the warning, pass 'sort=True'.\n",
      "\n",
      "  after removing the cwd from sys.path.\n"
     ]
    }
   ],
   "source": [
    "submissions_df = pd.concat([\n",
    "    load_dataframe_from_jsonl(a)\n",
    "    for a in Path(\"../data\").glob(\"RS_*Asshole.dump\")\n",
    "],axis=0)"
   ]
  },
  {
   "cell_type": "code",
   "execution_count": null,
   "metadata": {},
   "outputs": [],
   "source": []
  },
  {
   "cell_type": "code",
   "execution_count": 6,
   "metadata": {
    "ExecuteTime": {
     "end_time": "2020-02-11T14:30:58.999361Z",
     "start_time": "2020-02-11T14:22:32.537834Z"
    }
   },
   "outputs": [
    {
     "name": "stderr",
     "output_type": "stream",
     "text": [
      "2035it [00:00, 60691.49it/s]\n",
      "4925it [00:00, 49244.18it/s]"
     ]
    },
    {
     "name": "stdout",
     "output_type": "stream",
     "text": [
      "../data/RC_2016-11.bz2_AmItheAsshole.dump\n",
      "../data/RC_2019-05.zst_AmItheAsshole.dump\n"
     ]
    },
    {
     "name": "stderr",
     "output_type": "stream",
     "text": [
      "1120561it [00:28, 38889.94it/s]\n",
      "1555it [00:00, 17322.58it/s]\n",
      "2288it [00:00, 122274.19it/s]\n",
      "1186it [00:00, 39470.95it/s]"
     ]
    },
    {
     "name": "stdout",
     "output_type": "stream",
     "text": [
      "../data/RC_2016-09.bz2_AmItheAsshole.dump\n",
      "../data/RC_2016-12.bz2_AmItheAsshole.dump\n",
      "../data/RC_2016-03.bz2_AmItheAsshole.dump\n"
     ]
    },
    {
     "name": "stderr",
     "output_type": "stream",
     "text": [
      "\n",
      "4782it [00:00, 47816.17it/s]"
     ]
    },
    {
     "name": "stdout",
     "output_type": "stream",
     "text": [
      "../data/RC_2019-02.zst_AmItheAsshole.dump\n"
     ]
    },
    {
     "name": "stderr",
     "output_type": "stream",
     "text": [
      "508604it [00:13, 37687.05it/s]\n",
      "1731it [00:00, 26579.08it/s]\n",
      "4884it [00:00, 48836.09it/s]"
     ]
    },
    {
     "name": "stdout",
     "output_type": "stream",
     "text": [
      "../data/RC_2017-07.bz2_AmItheAsshole.dump\n",
      "../data/RC_2019-04.zst_AmItheAsshole.dump\n"
     ]
    },
    {
     "name": "stderr",
     "output_type": "stream",
     "text": [
      "107953it [00:02, 48405.24it/s]"
     ]
    },
    {
     "data": {
      "text/html": [
       "<b>limit_output extension: Maximum message size of 10000 exceeded with 10021 characters</b>"
      ]
     },
     "metadata": {},
     "output_type": "display_data"
    }
   ],
   "source": [
    "comments_df = pd.concat([\n",
    "    load_dataframe_from_jsonl(a)\n",
    "    for a in Path(\"../data\").glob(\"RC_*Asshole.dump\")\n",
    "],axis=0)"
   ]
  },
  {
   "cell_type": "markdown",
   "metadata": {},
   "source": [
    "## Dataset Statistics"
   ]
  },
  {
   "cell_type": "code",
   "execution_count": 7,
   "metadata": {
    "ExecuteTime": {
     "end_time": "2020-02-11T14:31:21.003908Z",
     "start_time": "2020-02-11T14:31:15.022409Z"
    }
   },
   "outputs": [
    {
     "data": {
      "image/png": "[encoded data removed]",
      "text/plain": [
       "<Figure size 432x288 with 1 Axes>"
      ]
     },
     "metadata": {
      "needs_background": "light"
     },
     "output_type": "display_data"
    }
   ],
   "source": [
    "#print(comments_df.created_utc.conve.describe())\n",
    "sns.distplot(submissions_df.num_comments,bins=5000, kde=True);\n",
    "plt.xlim(0,200)\n",
    "plt.show()"
   ]
  },
  {
   "cell_type": "code",
   "execution_count": 9,
   "metadata": {
    "ExecuteTime": {
     "end_time": "2020-02-11T14:31:48.306056Z",
     "start_time": "2020-02-11T14:31:48.293424Z"
    }
   },
   "outputs": [
    {
     "data": {
      "text/plain": [
       "count    186326.000000\n",
       "mean        101.364587\n",
       "std        1051.081844\n",
       "min           0.000000\n",
       "25%           1.000000\n",
       "50%           2.000000\n",
       "75%           7.000000\n",
       "max       66384.000000\n",
       "Name: score, dtype: float64"
      ]
     },
     "execution_count": 9,
     "metadata": {},
     "output_type": "execute_result"
    }
   ],
   "source": [
    "submissions_df.score.describe()"
   ]
  },
  {
   "cell_type": "code",
   "execution_count": 7,
   "metadata": {
    "ExecuteTime": {
     "end_time": "2020-02-09T13:21:58.871049Z",
     "start_time": "2020-02-09T13:21:58.291997Z"
    }
   },
   "outputs": [
    {
     "data": {
      "image/png": "[encoded data removed]",
      "text/plain": [
       "<Figure size 432x288 with 1 Axes>"
      ]
     },
     "metadata": {
      "needs_background": "light"
     },
     "output_type": "display_data"
    }
   ],
   "source": [
    "sns.regplot(x='score', y='num_comments', data=submissions_df)\n",
    "plt.show()"
   ]
  },
  {
   "cell_type": "markdown",
   "metadata": {},
   "source": [
    "Preprocess the comment to have:\n",
    "* the id of the previous post that it is a comment to\n",
    "* the absolute value of the score"
   ]
  },
  {
   "cell_type": "markdown",
   "metadata": {},
   "source": [
    "## Helper Functions\n",
    "\n",
    "Helper functions to:\n",
    "1. Get comments from ID\n",
    "2. Determine if someone is an AH"
   ]
  },
  {
   "cell_type": "code",
   "execution_count": 10,
   "metadata": {
    "ExecuteTime": {
     "end_time": "2020-02-11T14:31:59.735265Z",
     "start_time": "2020-02-11T14:31:59.729810Z"
    }
   },
   "outputs": [],
   "source": [
    "def get_comments_from_id(df, parent_id):\n",
    "    cols = ['author_flair_text', 'stickied', 'author', 'body', 'score', 'score_abs', 'judgement']\n",
    "    return df[df.prev_id == parent_id][cols]"
   ]
  },
  {
   "cell_type": "code",
   "execution_count": 11,
   "metadata": {
    "ExecuteTime": {
     "end_time": "2020-02-11T14:32:00.565748Z",
     "start_time": "2020-02-11T14:32:00.558687Z"
    }
   },
   "outputs": [],
   "source": [
    "def determine_AH(body):\n",
    "    \"\"\"Determines if poster thinks asshole or not asshole.\"\"\"\n",
    "    if body.startswith(\"YTA\"):\n",
    "        return \"YTA\"\n",
    "    elif body.startswith(\"ESH\"):\n",
    "        return \"ESH\"\n",
    "    elif body.startswith(\"NAH\"):\n",
    "        return \"NAH\"\n",
    "    elif body.startswith(\"NTA\"):\n",
    "        return \"NTA\"\n",
    "    else:\n",
    "        return \"UNK\""
   ]
  },
  {
   "cell_type": "code",
   "execution_count": 12,
   "metadata": {
    "ExecuteTime": {
     "end_time": "2020-02-11T14:32:18.833072Z",
     "start_time": "2020-02-11T14:32:02.730329Z"
    }
   },
   "outputs": [],
   "source": [
    "comments_df['prev_id'] = comments_df.parent_id.map(lambda x: x.split('_')[-1])\n",
    "comments_df['score_abs'] = comments_df.score.map(abs)\n",
    "comments_df['judgement'] = comments_df.body.map(determine_AH)\n",
    "submissions_df['timestamp'] = submissions_df.created_utc.map(datetime.fromtimestamp)\n",
    "submissions_df = submissions_df.sort_values('num_comments', ascending=False)"
   ]
  },
  {
   "cell_type": "markdown",
   "metadata": {},
   "source": [
    "Only get the most popular titles with the highest number of comments."
   ]
  },
  {
   "cell_type": "code",
   "execution_count": 13,
   "metadata": {
    "ExecuteTime": {
     "end_time": "2020-02-11T14:32:27.518159Z",
     "start_time": "2020-02-11T14:32:27.455953Z"
    }
   },
   "outputs": [],
   "source": [
    "pd.set_option('display.max_rows', 500)\n",
    "good_submissions_df = submissions_df[submissions_df.num_comments > 30]"
   ]
  },
  {
   "cell_type": "code",
   "execution_count": 14,
   "metadata": {
    "ExecuteTime": {
     "end_time": "2020-02-11T14:32:29.122067Z",
     "start_time": "2020-02-11T14:32:29.116329Z"
    }
   },
   "outputs": [
    {
     "data": {
      "text/plain": [
       "33043"
      ]
     },
     "execution_count": 14,
     "metadata": {},
     "output_type": "execute_result"
    }
   ],
   "source": [
    "len(good_submissions_df)"
   ]
  },
  {
   "cell_type": "code",
   "execution_count": 15,
   "metadata": {
    "ExecuteTime": {
     "end_time": "2020-02-11T14:32:38.083854Z",
     "start_time": "2020-02-11T14:32:38.073202Z"
    }
   },
   "outputs": [
    {
     "data": {
      "text/plain": [
       "['AITA for giving my concert ticket to another girl after my friend said she only wanted to go with me as \"friends\"?',\n",
       " 'AITA for refusing to pay back my cousin after my baby ruined her blouse?',\n",
       " 'AITA for cancelling my wedding because fiancee almost got my dog killed?',\n",
       " 'AITA for wanting my girlfriend to wear makeup and take care of body hair?',\n",
       " 'AITA for telling a friend’s friend that he couldn’t keep the “jackpot” that he hit on my antique slot machine? (About $700)']"
      ]
     },
     "metadata": {},
     "output_type": "display_data"
    },
    {
     "data": {
      "text/plain": [
       "['c5y237', 'cw43oc', 'bmi2qj', 'cqin60', 'cm0bft']"
      ]
     },
     "metadata": {},
     "output_type": "display_data"
    }
   ],
   "source": [
    "display(list(good_submissions_df.head().title))\n",
    "display(list(good_submissions_df.head().id))"
   ]
  },
  {
   "cell_type": "markdown",
   "metadata": {},
   "source": [
    "For matching, filter by if the comment actually makes a judgement."
   ]
  },
  {
   "cell_type": "code",
   "execution_count": 16,
   "metadata": {
    "ExecuteTime": {
     "end_time": "2020-02-11T14:32:50.373274Z",
     "start_time": "2020-02-11T14:32:49.905517Z"
    }
   },
   "outputs": [
    {
     "data": {
      "text/plain": [
       "UNK    6157208\n",
       "NTA    1662273\n",
       "YTA     822422\n",
       "NAH     287302\n",
       "ESH     212204\n",
       "Name: judgement, dtype: int64"
      ]
     },
     "execution_count": 16,
     "metadata": {},
     "output_type": "execute_result"
    }
   ],
   "source": [
    "comments_df.judgement.value_counts()"
   ]
  },
  {
   "cell_type": "code",
   "execution_count": 17,
   "metadata": {
    "ExecuteTime": {
     "end_time": "2020-02-11T14:34:10.193124Z",
     "start_time": "2020-02-11T14:33:08.511813Z"
    }
   },
   "outputs": [],
   "source": [
    "# Determine label and label_fine for each prev_id\n",
    "judgement_df = comments_df[comments_df.judgement != \"UNK\"].reset_index()\n",
    "for judge in judgement_df.judgement.unique():\n",
    "    judgement_df[judge] = (judgement_df.judgement == judge).astype(int)\n",
    "count_df = judgement_df.groupby(['prev_id'])[judgement_df.judgement.unique()].sum()\n",
    "count_df['label_fine'] = count_df.apply(lambda x : dict(x), axis=1)\n",
    "count_df['label'] = count_df[judgement_df.judgement.unique()].idxmax(axis=1)\n",
    "count_df['id'] = count_df.index"
   ]
  },
  {
   "cell_type": "code",
   "execution_count": 18,
   "metadata": {
    "ExecuteTime": {
     "end_time": "2020-02-11T14:34:24.186111Z",
     "start_time": "2020-02-11T14:34:22.771656Z"
    }
   },
   "outputs": [],
   "source": [
    "good_submissions_df = good_submissions_df.merge(count_df[['label', 'label_fine', 'id']], left_on='id', right_on='id')"
   ]
  },
  {
   "cell_type": "markdown",
   "metadata": {},
   "source": [
    "When the mode is returned, there will sometimes be ties.\n",
    "So let's get rid of the ties."
   ]
  },
  {
   "cell_type": "code",
   "execution_count": 20,
   "metadata": {
    "ExecuteTime": {
     "end_time": "2020-02-11T14:34:44.878615Z",
     "start_time": "2020-02-11T14:34:44.861296Z"
    }
   },
   "outputs": [
    {
     "data": {
      "text/plain": [
       "19685    {'NTA': 0, 'YTA': 10, 'NAH': 3, 'ESH': 0}\n",
       "17405    {'NTA': 31, 'YTA': 0, 'NAH': 1, 'ESH': 0}\n",
       "30214     {'NTA': 3, 'YTA': 3, 'NAH': 0, 'ESH': 2}\n",
       "Name: label_fine, dtype: object"
      ]
     },
     "execution_count": 20,
     "metadata": {},
     "output_type": "execute_result"
    }
   ],
   "source": [
    "good_submissions_df.label_fine.sample(3)"
   ]
  },
  {
   "cell_type": "code",
   "execution_count": 24,
   "metadata": {
    "ExecuteTime": {
     "end_time": "2020-02-11T14:35:59.430102Z",
     "start_time": "2020-02-11T14:35:59.409672Z"
    }
   },
   "outputs": [],
   "source": [
    "label_counts = good_submissions_df.label.value_counts()"
   ]
  },
  {
   "cell_type": "code",
   "execution_count": 26,
   "metadata": {
    "ExecuteTime": {
     "end_time": "2020-02-11T14:36:15.047656Z",
     "start_time": "2020-02-11T14:36:15.016455Z"
    }
   },
   "outputs": [
    {
     "data": {
      "text/plain": [
       "NTA    0.569423\n",
       "YTA    0.337666\n",
       "NAH    0.059715\n",
       "ESH    0.033197\n",
       "Name: label, dtype: float64"
      ]
     },
     "execution_count": 26,
     "metadata": {},
     "output_type": "execute_result"
    }
   ],
   "source": [
    "label_counts / label_counts.sum()"
   ]
  },
  {
   "cell_type": "code",
   "execution_count": 23,
   "metadata": {
    "ExecuteTime": {
     "end_time": "2020-02-11T14:35:38.976101Z",
     "start_time": "2020-02-11T14:35:38.704572Z"
    }
   },
   "outputs": [
    {
     "name": "stdout",
     "output_type": "stream",
     "text": [
      "Series([], Name: title, dtype: object)\n"
     ]
    }
   ],
   "source": [
    "pd.set_option('display.max_rows', None)\n",
    "pd.set_option('display.max_columns', None)\n",
    "pd.set_option('display.width', None)\n",
    "good_submissions_df[['title', 'label']].head()\n",
    "print(good_submissions_df[good_submissions_df.label == 'UNK'].title)"
   ]
  },
  {
   "cell_type": "code",
   "execution_count": 27,
   "metadata": {
    "ExecuteTime": {
     "end_time": "2020-02-11T14:36:23.373143Z",
     "start_time": "2020-02-11T14:36:23.310878Z"
    }
   },
   "outputs": [
    {
     "data": {
      "text/html": [
       "<div>\n",
       "<style scoped>\n",
       "    .dataframe tbody tr th:only-of-type {\n",
       "        vertical-align: middle;\n",
       "    }\n",
       "\n",
       "    .dataframe tbody tr th {\n",
       "        vertical-align: top;\n",
       "    }\n",
       "\n",
       "    .dataframe thead th {\n",
       "        text-align: right;\n",
       "    }\n",
       "</style>\n",
       "<table border=\"1\" class=\"dataframe\">\n",
       "  <thead>\n",
       "    <tr style=\"text-align: right;\">\n",
       "      <th></th>\n",
       "      <th>all_awardings</th>\n",
       "      <th>approved_at_utc</th>\n",
       "      <th>archived</th>\n",
       "      <th>associated_award</th>\n",
       "      <th>author</th>\n",
       "      <th>author_cakeday</th>\n",
       "      <th>author_created_utc</th>\n",
       "      <th>author_flair_background_color</th>\n",
       "      <th>author_flair_css_class</th>\n",
       "      <th>author_flair_richtext</th>\n",
       "      <th>author_flair_template_id</th>\n",
       "      <th>author_flair_text</th>\n",
       "      <th>author_flair_text_color</th>\n",
       "      <th>author_flair_type</th>\n",
       "      <th>author_fullname</th>\n",
       "      <th>author_patreon_flair</th>\n",
       "      <th>author_premium</th>\n",
       "      <th>awarders</th>\n",
       "      <th>banned_at_utc</th>\n",
       "      <th>body</th>\n",
       "      <th>can_gild</th>\n",
       "      <th>can_mod_post</th>\n",
       "      <th>collapsed</th>\n",
       "      <th>collapsed_because_crowd_control</th>\n",
       "      <th>collapsed_reason</th>\n",
       "      <th>controversiality</th>\n",
       "      <th>created_utc</th>\n",
       "      <th>distinguished</th>\n",
       "      <th>edited</th>\n",
       "      <th>gilded</th>\n",
       "      <th>gildings</th>\n",
       "      <th>id</th>\n",
       "      <th>is_submitter</th>\n",
       "      <th>link_id</th>\n",
       "      <th>locked</th>\n",
       "      <th>mod_note</th>\n",
       "      <th>mod_reason_by</th>\n",
       "      <th>mod_reason_title</th>\n",
       "      <th>no_follow</th>\n",
       "      <th>parent_id</th>\n",
       "      <th>permalink</th>\n",
       "      <th>quarantined</th>\n",
       "      <th>removal_reason</th>\n",
       "      <th>retrieved_on</th>\n",
       "      <th>score</th>\n",
       "      <th>send_replies</th>\n",
       "      <th>steward_reports</th>\n",
       "      <th>stickied</th>\n",
       "      <th>subreddit</th>\n",
       "      <th>subreddit_id</th>\n",
       "      <th>subreddit_name_prefixed</th>\n",
       "      <th>subreddit_type</th>\n",
       "      <th>total_awards_received</th>\n",
       "      <th>ups</th>\n",
       "      <th>prev_id</th>\n",
       "      <th>score_abs</th>\n",
       "      <th>judgement</th>\n",
       "    </tr>\n",
       "  </thead>\n",
       "  <tbody>\n",
       "    <tr>\n",
       "      <th>0</th>\n",
       "      <td>NaN</td>\n",
       "      <td>NaN</td>\n",
       "      <td>NaN</td>\n",
       "      <td>NaN</td>\n",
       "      <td>shadowwolfsl</td>\n",
       "      <td>NaN</td>\n",
       "      <td>NaN</td>\n",
       "      <td>NaN</td>\n",
       "      <td>None</td>\n",
       "      <td>NaN</td>\n",
       "      <td>NaN</td>\n",
       "      <td>None</td>\n",
       "      <td>NaN</td>\n",
       "      <td>NaN</td>\n",
       "      <td>NaN</td>\n",
       "      <td>NaN</td>\n",
       "      <td>NaN</td>\n",
       "      <td>NaN</td>\n",
       "      <td>NaN</td>\n",
       "      <td>I try. I feel terrible because everyone else i...</td>\n",
       "      <td>NaN</td>\n",
       "      <td>NaN</td>\n",
       "      <td>NaN</td>\n",
       "      <td>NaN</td>\n",
       "      <td>NaN</td>\n",
       "      <td>0</td>\n",
       "      <td>1477959164</td>\n",
       "      <td>None</td>\n",
       "      <td>False</td>\n",
       "      <td>0</td>\n",
       "      <td>NaN</td>\n",
       "      <td>d9g5lrn</td>\n",
       "      <td>NaN</td>\n",
       "      <td>t3_5acgc9</td>\n",
       "      <td>NaN</td>\n",
       "      <td>NaN</td>\n",
       "      <td>NaN</td>\n",
       "      <td>NaN</td>\n",
       "      <td>NaN</td>\n",
       "      <td>t1_d9fuknh</td>\n",
       "      <td>NaN</td>\n",
       "      <td>NaN</td>\n",
       "      <td>NaN</td>\n",
       "      <td>1481097920</td>\n",
       "      <td>1</td>\n",
       "      <td>NaN</td>\n",
       "      <td>NaN</td>\n",
       "      <td>False</td>\n",
       "      <td>AmItheAsshole</td>\n",
       "      <td>t5_2xhvq</td>\n",
       "      <td>NaN</td>\n",
       "      <td>NaN</td>\n",
       "      <td>NaN</td>\n",
       "      <td>NaN</td>\n",
       "      <td>d9fuknh</td>\n",
       "      <td>1</td>\n",
       "      <td>UNK</td>\n",
       "    </tr>\n",
       "    <tr>\n",
       "      <th>1</th>\n",
       "      <td>NaN</td>\n",
       "      <td>NaN</td>\n",
       "      <td>NaN</td>\n",
       "      <td>NaN</td>\n",
       "      <td>neverr_ben_better</td>\n",
       "      <td>NaN</td>\n",
       "      <td>NaN</td>\n",
       "      <td>NaN</td>\n",
       "      <td>None</td>\n",
       "      <td>NaN</td>\n",
       "      <td>NaN</td>\n",
       "      <td>None</td>\n",
       "      <td>NaN</td>\n",
       "      <td>NaN</td>\n",
       "      <td>NaN</td>\n",
       "      <td>NaN</td>\n",
       "      <td>NaN</td>\n",
       "      <td>NaN</td>\n",
       "      <td>NaN</td>\n",
       "      <td>Tbh, you're all kind of petty.\\n\\nYour sister ...</td>\n",
       "      <td>NaN</td>\n",
       "      <td>NaN</td>\n",
       "      <td>NaN</td>\n",
       "      <td>NaN</td>\n",
       "      <td>NaN</td>\n",
       "      <td>0</td>\n",
       "      <td>1477959600</td>\n",
       "      <td>None</td>\n",
       "      <td>1477959879</td>\n",
       "      <td>0</td>\n",
       "      <td>NaN</td>\n",
       "      <td>d9g5xd3</td>\n",
       "      <td>NaN</td>\n",
       "      <td>t3_5aeb1u</td>\n",
       "      <td>NaN</td>\n",
       "      <td>NaN</td>\n",
       "      <td>NaN</td>\n",
       "      <td>NaN</td>\n",
       "      <td>NaN</td>\n",
       "      <td>t3_5aeb1u</td>\n",
       "      <td>NaN</td>\n",
       "      <td>NaN</td>\n",
       "      <td>NaN</td>\n",
       "      <td>1481098097</td>\n",
       "      <td>6</td>\n",
       "      <td>NaN</td>\n",
       "      <td>NaN</td>\n",
       "      <td>False</td>\n",
       "      <td>AmItheAsshole</td>\n",
       "      <td>t5_2xhvq</td>\n",
       "      <td>NaN</td>\n",
       "      <td>NaN</td>\n",
       "      <td>NaN</td>\n",
       "      <td>NaN</td>\n",
       "      <td>5aeb1u</td>\n",
       "      <td>6</td>\n",
       "      <td>UNK</td>\n",
       "    </tr>\n",
       "    <tr>\n",
       "      <th>2</th>\n",
       "      <td>NaN</td>\n",
       "      <td>NaN</td>\n",
       "      <td>NaN</td>\n",
       "      <td>NaN</td>\n",
       "      <td>[deleted]</td>\n",
       "      <td>NaN</td>\n",
       "      <td>NaN</td>\n",
       "      <td>NaN</td>\n",
       "      <td>None</td>\n",
       "      <td>NaN</td>\n",
       "      <td>NaN</td>\n",
       "      <td>None</td>\n",
       "      <td>NaN</td>\n",
       "      <td>NaN</td>\n",
       "      <td>NaN</td>\n",
       "      <td>NaN</td>\n",
       "      <td>NaN</td>\n",
       "      <td>NaN</td>\n",
       "      <td>NaN</td>\n",
       "      <td>[deleted]</td>\n",
       "      <td>NaN</td>\n",
       "      <td>NaN</td>\n",
       "      <td>NaN</td>\n",
       "      <td>NaN</td>\n",
       "      <td>NaN</td>\n",
       "      <td>0</td>\n",
       "      <td>1477959844</td>\n",
       "      <td>None</td>\n",
       "      <td>False</td>\n",
       "      <td>0</td>\n",
       "      <td>NaN</td>\n",
       "      <td>d9g63tr</td>\n",
       "      <td>NaN</td>\n",
       "      <td>t3_5aeb1u</td>\n",
       "      <td>NaN</td>\n",
       "      <td>NaN</td>\n",
       "      <td>NaN</td>\n",
       "      <td>NaN</td>\n",
       "      <td>NaN</td>\n",
       "      <td>t1_d9g5xd3</td>\n",
       "      <td>NaN</td>\n",
       "      <td>NaN</td>\n",
       "      <td>NaN</td>\n",
       "      <td>1481098183</td>\n",
       "      <td>2</td>\n",
       "      <td>NaN</td>\n",
       "      <td>NaN</td>\n",
       "      <td>False</td>\n",
       "      <td>AmItheAsshole</td>\n",
       "      <td>t5_2xhvq</td>\n",
       "      <td>NaN</td>\n",
       "      <td>NaN</td>\n",
       "      <td>NaN</td>\n",
       "      <td>NaN</td>\n",
       "      <td>d9g5xd3</td>\n",
       "      <td>2</td>\n",
       "      <td>UNK</td>\n",
       "    </tr>\n",
       "    <tr>\n",
       "      <th>3</th>\n",
       "      <td>NaN</td>\n",
       "      <td>NaN</td>\n",
       "      <td>NaN</td>\n",
       "      <td>NaN</td>\n",
       "      <td>Celera314</td>\n",
       "      <td>NaN</td>\n",
       "      <td>NaN</td>\n",
       "      <td>NaN</td>\n",
       "      <td>None</td>\n",
       "      <td>NaN</td>\n",
       "      <td>NaN</td>\n",
       "      <td>None</td>\n",
       "      <td>NaN</td>\n",
       "      <td>NaN</td>\n",
       "      <td>NaN</td>\n",
       "      <td>NaN</td>\n",
       "      <td>NaN</td>\n",
       "      <td>NaN</td>\n",
       "      <td>NaN</td>\n",
       "      <td>How do you know he waited to contact you about...</td>\n",
       "      <td>NaN</td>\n",
       "      <td>NaN</td>\n",
       "      <td>NaN</td>\n",
       "      <td>NaN</td>\n",
       "      <td>NaN</td>\n",
       "      <td>0</td>\n",
       "      <td>1477960010</td>\n",
       "      <td>None</td>\n",
       "      <td>False</td>\n",
       "      <td>0</td>\n",
       "      <td>NaN</td>\n",
       "      <td>d9g686c</td>\n",
       "      <td>NaN</td>\n",
       "      <td>t3_5afndb</td>\n",
       "      <td>NaN</td>\n",
       "      <td>NaN</td>\n",
       "      <td>NaN</td>\n",
       "      <td>NaN</td>\n",
       "      <td>NaN</td>\n",
       "      <td>t1_d9g3bzm</td>\n",
       "      <td>NaN</td>\n",
       "      <td>NaN</td>\n",
       "      <td>NaN</td>\n",
       "      <td>1481098245</td>\n",
       "      <td>5</td>\n",
       "      <td>NaN</td>\n",
       "      <td>NaN</td>\n",
       "      <td>False</td>\n",
       "      <td>AmItheAsshole</td>\n",
       "      <td>t5_2xhvq</td>\n",
       "      <td>NaN</td>\n",
       "      <td>NaN</td>\n",
       "      <td>NaN</td>\n",
       "      <td>NaN</td>\n",
       "      <td>d9g3bzm</td>\n",
       "      <td>5</td>\n",
       "      <td>UNK</td>\n",
       "    </tr>\n",
       "    <tr>\n",
       "      <th>4</th>\n",
       "      <td>NaN</td>\n",
       "      <td>NaN</td>\n",
       "      <td>NaN</td>\n",
       "      <td>NaN</td>\n",
       "      <td>Ce-Jay</td>\n",
       "      <td>NaN</td>\n",
       "      <td>NaN</td>\n",
       "      <td>NaN</td>\n",
       "      <td>None</td>\n",
       "      <td>NaN</td>\n",
       "      <td>NaN</td>\n",
       "      <td>None</td>\n",
       "      <td>NaN</td>\n",
       "      <td>NaN</td>\n",
       "      <td>NaN</td>\n",
       "      <td>NaN</td>\n",
       "      <td>NaN</td>\n",
       "      <td>NaN</td>\n",
       "      <td>NaN</td>\n",
       "      <td>Because he had to clock back in from his break...</td>\n",
       "      <td>NaN</td>\n",
       "      <td>NaN</td>\n",
       "      <td>NaN</td>\n",
       "      <td>NaN</td>\n",
       "      <td>NaN</td>\n",
       "      <td>0</td>\n",
       "      <td>1477960291</td>\n",
       "      <td>None</td>\n",
       "      <td>False</td>\n",
       "      <td>0</td>\n",
       "      <td>NaN</td>\n",
       "      <td>d9g6fnl</td>\n",
       "      <td>NaN</td>\n",
       "      <td>t3_5afndb</td>\n",
       "      <td>NaN</td>\n",
       "      <td>NaN</td>\n",
       "      <td>NaN</td>\n",
       "      <td>NaN</td>\n",
       "      <td>NaN</td>\n",
       "      <td>t1_d9g686c</td>\n",
       "      <td>NaN</td>\n",
       "      <td>NaN</td>\n",
       "      <td>NaN</td>\n",
       "      <td>1481098374</td>\n",
       "      <td>5</td>\n",
       "      <td>NaN</td>\n",
       "      <td>NaN</td>\n",
       "      <td>False</td>\n",
       "      <td>AmItheAsshole</td>\n",
       "      <td>t5_2xhvq</td>\n",
       "      <td>NaN</td>\n",
       "      <td>NaN</td>\n",
       "      <td>NaN</td>\n",
       "      <td>NaN</td>\n",
       "      <td>d9g686c</td>\n",
       "      <td>5</td>\n",
       "      <td>UNK</td>\n",
       "    </tr>\n",
       "  </tbody>\n",
       "</table>\n",
       "</div>"
      ],
      "text/plain": [
       "  all_awardings approved_at_utc archived associated_award             author  \\\n",
       "0           NaN             NaN      NaN              NaN       shadowwolfsl   \n",
       "1           NaN             NaN      NaN              NaN  neverr_ben_better   \n",
       "2           NaN             NaN      NaN              NaN          [deleted]   \n",
       "3           NaN             NaN      NaN              NaN          Celera314   \n",
       "4           NaN             NaN      NaN              NaN             Ce-Jay   \n",
       "\n",
       "  author_cakeday  author_created_utc author_flair_background_color  \\\n",
       "0            NaN                 NaN                           NaN   \n",
       "1            NaN                 NaN                           NaN   \n",
       "2            NaN                 NaN                           NaN   \n",
       "3            NaN                 NaN                           NaN   \n",
       "4            NaN                 NaN                           NaN   \n",
       "\n",
       "  author_flair_css_class author_flair_richtext author_flair_template_id  \\\n",
       "0                   None                   NaN                      NaN   \n",
       "1                   None                   NaN                      NaN   \n",
       "2                   None                   NaN                      NaN   \n",
       "3                   None                   NaN                      NaN   \n",
       "4                   None                   NaN                      NaN   \n",
       "\n",
       "  author_flair_text author_flair_text_color author_flair_type author_fullname  \\\n",
       "0              None                     NaN               NaN             NaN   \n",
       "1              None                     NaN               NaN             NaN   \n",
       "2              None                     NaN               NaN             NaN   \n",
       "3              None                     NaN               NaN             NaN   \n",
       "4              None                     NaN               NaN             NaN   \n",
       "\n",
       "  author_patreon_flair author_premium awarders  banned_at_utc  \\\n",
       "0                  NaN            NaN      NaN            NaN   \n",
       "1                  NaN            NaN      NaN            NaN   \n",
       "2                  NaN            NaN      NaN            NaN   \n",
       "3                  NaN            NaN      NaN            NaN   \n",
       "4                  NaN            NaN      NaN            NaN   \n",
       "\n",
       "                                                body can_gild can_mod_post  \\\n",
       "0  I try. I feel terrible because everyone else i...      NaN          NaN   \n",
       "1  Tbh, you're all kind of petty.\\n\\nYour sister ...      NaN          NaN   \n",
       "2                                          [deleted]      NaN          NaN   \n",
       "3  How do you know he waited to contact you about...      NaN          NaN   \n",
       "4  Because he had to clock back in from his break...      NaN          NaN   \n",
       "\n",
       "  collapsed collapsed_because_crowd_control collapsed_reason  \\\n",
       "0       NaN                             NaN              NaN   \n",
       "1       NaN                             NaN              NaN   \n",
       "2       NaN                             NaN              NaN   \n",
       "3       NaN                             NaN              NaN   \n",
       "4       NaN                             NaN              NaN   \n",
       "\n",
       "   controversiality  created_utc distinguished      edited  gilded gildings  \\\n",
       "0                 0   1477959164          None       False       0      NaN   \n",
       "1                 0   1477959600          None  1477959879       0      NaN   \n",
       "2                 0   1477959844          None       False       0      NaN   \n",
       "3                 0   1477960010          None       False       0      NaN   \n",
       "4                 0   1477960291          None       False       0      NaN   \n",
       "\n",
       "        id is_submitter    link_id locked  mod_note  mod_reason_by  \\\n",
       "0  d9g5lrn          NaN  t3_5acgc9    NaN       NaN            NaN   \n",
       "1  d9g5xd3          NaN  t3_5aeb1u    NaN       NaN            NaN   \n",
       "2  d9g63tr          NaN  t3_5aeb1u    NaN       NaN            NaN   \n",
       "3  d9g686c          NaN  t3_5afndb    NaN       NaN            NaN   \n",
       "4  d9g6fnl          NaN  t3_5afndb    NaN       NaN            NaN   \n",
       "\n",
       "   mod_reason_title no_follow   parent_id permalink quarantined  \\\n",
       "0               NaN       NaN  t1_d9fuknh       NaN         NaN   \n",
       "1               NaN       NaN   t3_5aeb1u       NaN         NaN   \n",
       "2               NaN       NaN  t1_d9g5xd3       NaN         NaN   \n",
       "3               NaN       NaN  t1_d9g3bzm       NaN         NaN   \n",
       "4               NaN       NaN  t1_d9g686c       NaN         NaN   \n",
       "\n",
       "  removal_reason  retrieved_on  score send_replies steward_reports  stickied  \\\n",
       "0            NaN    1481097920      1          NaN             NaN     False   \n",
       "1            NaN    1481098097      6          NaN             NaN     False   \n",
       "2            NaN    1481098183      2          NaN             NaN     False   \n",
       "3            NaN    1481098245      5          NaN             NaN     False   \n",
       "4            NaN    1481098374      5          NaN             NaN     False   \n",
       "\n",
       "       subreddit subreddit_id subreddit_name_prefixed subreddit_type  \\\n",
       "0  AmItheAsshole     t5_2xhvq                     NaN            NaN   \n",
       "1  AmItheAsshole     t5_2xhvq                     NaN            NaN   \n",
       "2  AmItheAsshole     t5_2xhvq                     NaN            NaN   \n",
       "3  AmItheAsshole     t5_2xhvq                     NaN            NaN   \n",
       "4  AmItheAsshole     t5_2xhvq                     NaN            NaN   \n",
       "\n",
       "   total_awards_received  ups  prev_id  score_abs judgement  \n",
       "0                    NaN  NaN  d9fuknh          1       UNK  \n",
       "1                    NaN  NaN   5aeb1u          6       UNK  \n",
       "2                    NaN  NaN  d9g5xd3          2       UNK  \n",
       "3                    NaN  NaN  d9g3bzm          5       UNK  \n",
       "4                    NaN  NaN  d9g686c          5       UNK  "
      ]
     },
     "execution_count": 27,
     "metadata": {},
     "output_type": "execute_result"
    }
   ],
   "source": [
    "comments_df.head()"
   ]
  },
  {
   "cell_type": "code",
   "execution_count": 28,
   "metadata": {
    "ExecuteTime": {
     "end_time": "2020-02-11T14:36:32.852284Z",
     "start_time": "2020-02-11T14:36:32.721639Z"
    }
   },
   "outputs": [
    {
     "data": {
      "text/plain": [
       "[]"
      ]
     },
     "execution_count": 28,
     "metadata": {},
     "output_type": "execute_result"
    },
    {
     "data": {
      "image/png": "[encoded data removed]",
      "text/plain": [
       "<Figure size 432x288 with 1 Axes>"
      ]
     },
     "metadata": {
      "needs_background": "light"
     },
     "output_type": "display_data"
    }
   ],
   "source": [
    "label_counts = good_submissions_df.label.value_counts().to_frame()\n",
    "label_counts.columns = ['counts']\n",
    "label_counts['label'] = label_counts.index\n",
    "sns.barplot(y='label', x='counts', data=label_counts)\n",
    "plt.plot()"
   ]
  },
  {
   "cell_type": "markdown",
   "metadata": {},
   "source": [
    "## Train Test Split\n",
    "\n",
    "Eliminates the posts that have an unknown label, and splits our huge dataset into a train/val/test split."
   ]
  },
  {
   "cell_type": "code",
   "execution_count": 29,
   "metadata": {
    "ExecuteTime": {
     "end_time": "2020-02-11T14:36:41.136385Z",
     "start_time": "2020-02-11T14:36:41.076816Z"
    }
   },
   "outputs": [],
   "source": [
    "dataset_df = good_submissions_df[good_submissions_df.label != 'UNK']"
   ]
  },
  {
   "cell_type": "code",
   "execution_count": 30,
   "metadata": {
    "ExecuteTime": {
     "end_time": "2020-02-11T14:36:44.271438Z",
     "start_time": "2020-02-11T14:36:44.240816Z"
    }
   },
   "outputs": [],
   "source": [
    "test_dataset_df = dataset_df.sample(frac=0.1)"
   ]
  },
  {
   "cell_type": "code",
   "execution_count": 31,
   "metadata": {
    "ExecuteTime": {
     "end_time": "2020-02-11T14:36:45.866877Z",
     "start_time": "2020-02-11T14:36:45.796559Z"
    }
   },
   "outputs": [],
   "source": [
    "traindev_dataset_df = dataset_df.drop(test_dataset_df.index)"
   ]
  },
  {
   "cell_type": "code",
   "execution_count": 32,
   "metadata": {
    "ExecuteTime": {
     "end_time": "2020-02-11T14:36:49.785199Z",
     "start_time": "2020-02-11T14:36:49.709233Z"
    }
   },
   "outputs": [],
   "source": [
    "train_dataset_df = traindev_dataset_df.sample(frac=0.8)\n",
    "dev_dataset_df = traindev_dataset_df.drop(train_dataset_df.index)"
   ]
  },
  {
   "cell_type": "code",
   "execution_count": 33,
   "metadata": {
    "ExecuteTime": {
     "end_time": "2020-02-11T14:36:55.369444Z",
     "start_time": "2020-02-11T14:36:54.450916Z"
    }
   },
   "outputs": [],
   "source": [
    "dev_dataset_df.to_pickle('../aita/aita-dev.pkl')\n",
    "train_dataset_df.to_pickle('../aita/aita-train.pkl')\n",
    "test_dataset_df.to_pickle('../aita/aita-test.pkl')"
   ]
  },
  {
   "cell_type": "code",
   "execution_count": 34,
   "metadata": {
    "ExecuteTime": {
     "end_time": "2020-02-11T14:37:42.321949Z",
     "start_time": "2020-02-11T14:37:42.306696Z"
    }
   },
   "outputs": [
    {
     "data": {
      "text/plain": [
       "NTA    0.590554\n",
       "YTA    0.326384\n",
       "NAH    0.054723\n",
       "ESH    0.028339\n",
       "Name: label, dtype: float64"
      ]
     },
     "execution_count": 34,
     "metadata": {},
     "output_type": "execute_result"
    }
   ],
   "source": [
    "test_dataset_df.label.value_counts() / test_dataset_df.label.value_counts().sum()"
   ]
  },
  {
   "cell_type": "code",
   "execution_count": 36,
   "metadata": {
    "ExecuteTime": {
     "end_time": "2020-02-11T14:38:22.698858Z",
     "start_time": "2020-02-11T14:38:22.682421Z"
    }
   },
   "outputs": [
    {
     "data": {
      "text/plain": [
       "NTA    0.561629\n",
       "YTA    0.344796\n",
       "NAH    0.059548\n",
       "ESH    0.034027\n",
       "Name: label, dtype: float64"
      ]
     },
     "execution_count": 36,
     "metadata": {},
     "output_type": "execute_result"
    }
   ],
   "source": [
    "dev_dataset_df.label.value_counts() / dev_dataset_df.label.value_counts().sum()"
   ]
  },
  {
   "cell_type": "code",
   "execution_count": null,
   "metadata": {},
   "outputs": [],
   "source": []
  }
 ],
 "metadata": {
  "kernelspec": {
   "display_name": "Python 3",
   "language": "python",
   "name": "python3"
  },
  "language_info": {
   "codemirror_mode": {
    "name": "ipython",
    "version": 3
   },
   "file_extension": ".py",
   "mimetype": "text/x-python",
   "name": "python",
   "nbconvert_exporter": "python",
   "pygments_lexer": "ipython3",
   "version": "3.7.3"
  },
  "latex_envs": {
   "LaTeX_envs_menu_present": true,
   "autoclose": false,
   "autocomplete": true,
   "bibliofile": "biblio.bib",
   "cite_by": "apalike",
   "current_citInitial": 1,
   "eqLabelWithNumbers": true,
   "eqNumInitial": 1,
   "hotkeys": {
    "equation": "Ctrl-E",
    "itemize": "Ctrl-I"
   },
   "labels_anchors": false,
   "latex_user_defs": false,
   "report_style_numbering": false,
   "user_envs_cfg": false
  },
  "toc": {
   "base_numbering": 1,
   "nav_menu": {},
   "number_sections": true,
   "sideBar": true,
   "skip_h1_title": false,
   "title_cell": "Table of Contents",
   "title_sidebar": "Contents",
   "toc_cell": false,
   "toc_position": {},
   "toc_section_display": true,
   "toc_window_display": false
  }
 },
 "nbformat": 4,
 "nbformat_minor": 4
}
