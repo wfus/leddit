{
 "cells": [
  {
   "cell_type": "markdown",
   "metadata": {},
   "source": [
    "# Am I the AHole Dataset Construction\n",
    "\n",
    "Constructing datasets for the AITA subreddit as an exercise using AllenNLP."
   ]
  },
  {
   "cell_type": "code",
   "execution_count": 1,
   "metadata": {},
   "outputs": [],
   "source": [
    "import sys\n",
    "sys.path.append('.')\n",
    "sys.path.append('..')\n",
    "\n",
    "from subreddit_frequency import load_dataframe_from_jsonl\n",
    "from tqdm import tqdm\n",
    "tqdm.pandas()\n",
    "\n",
    "import seaborn as sns\n",
    "from datetime import datetime\n",
    "sns.set('paper')\n",
    "\n",
    "from ipywidgets import interact\n",
    "import pandas as pd"
   ]
  },
  {
   "cell_type": "code",
   "execution_count": 2,
   "metadata": {},
   "outputs": [
    {
     "name": "stderr",
     "output_type": "stream",
     "text": [
      "1454892it [00:47, 30554.14it/s]\n",
      "34476it [00:01, 2588.00it/s]"
     ]
    },
    {
     "data": {
      "text/html": [
       "<b>limit_output extension: Maximum message size of 10000 exceeded with 10011 characters</b>"
      ]
     },
     "metadata": {},
     "output_type": "display_data"
    }
   ],
   "source": [
    "comments_df = load_dataframe_from_jsonl(\"../data/RC_2019-08_AmItheAsshole.dump\")\n",
    "submissions_df = load_dataframe_from_jsonl(\"../data/RS_2019-08_AmItheAsshole.dump\")"
   ]
  },
  {
   "cell_type": "markdown",
   "metadata": {},
   "source": [
    "Preprocess the comment to have:\n",
    "* the id of the previous post that it is a comment to\n",
    "* the absolute value of the score"
   ]
  },
  {
   "cell_type": "code",
   "execution_count": 3,
   "metadata": {},
   "outputs": [],
   "source": [
    "def get_comments_from_id(df, parent_id):\n",
    "    cols = ['author_flair_text', 'stickied', 'author', 'body', 'score', 'score_abs', 'judgement']\n",
    "    return df[df.prev_id == parent_id][cols]"
   ]
  },
  {
   "cell_type": "code",
   "execution_count": 4,
   "metadata": {},
   "outputs": [],
   "source": [
    "def determine_AH(body):\n",
    "    \"\"\"Determines if poster thinks asshole or not asshole.\"\"\"\n",
    "    if body.startswith(\"YTA\"):\n",
    "        return \"YTA\"\n",
    "    elif body.startswith(\"ESH\"):\n",
    "        return \"ESH\"\n",
    "    elif body.startswith(\"NAH\"):\n",
    "        return \"NAH\"\n",
    "    else:\n",
    "        return \"UNK\""
   ]
  },
  {
   "cell_type": "code",
   "execution_count": 5,
   "metadata": {},
   "outputs": [],
   "source": [
    "comments_df['prev_id'] = comments_df.parent_id.map(lambda x: x.split('_')[-1])\n",
    "comments_df['score_abs'] = comments_df.score.map(abs)\n",
    "comments_df['judgement'] = comments_df.body.map(determine_AH)\n",
    "submissions_df['timestamp'] = submissions_df.created_utc.map(datetime.fromtimestamp)\n",
    "submissions_df = submissions_df.sort_values('num_comments', ascending=False)"
   ]
  },
  {
   "cell_type": "markdown",
   "metadata": {},
   "source": [
    "Only get the most popular titles with the highest number of comments."
   ]
  },
  {
   "cell_type": "code",
   "execution_count": 6,
   "metadata": {},
   "outputs": [],
   "source": [
    "pd.set_option('display.max_rows', 500)\n",
    "good_submissions_df = submissions_df[['title', 'num_comments', 'id']].head(2000)"
   ]
  },
  {
   "cell_type": "code",
   "execution_count": 7,
   "metadata": {},
   "outputs": [
    {
     "data": {
      "text/plain": [
       "['AITA for refusing to pay back my cousin after my baby ruined her blouse?',\n",
       " 'AITA for wanting my girlfriend to wear makeup and take care of body hair?',\n",
       " 'AITA for telling a friend’s friend that he couldn’t keep the “jackpot” that he hit on my antique slot machine? (About $700)',\n",
       " 'WIBTA if I told a close family friend that her husband cheated on her 4 years ago?',\n",
       " 'AITA for catfishing my underaged sister on Tinder and humiliating her in order to teach her a lesson?']"
      ]
     },
     "metadata": {},
     "output_type": "display_data"
    },
    {
     "data": {
      "text/plain": [
       "['cw43oc', 'cqin60', 'cm0bft', 'cvlkut', 'cn7li5']"
      ]
     },
     "metadata": {},
     "output_type": "display_data"
    }
   ],
   "source": [
    "display(list(good_submissions_df.head().title))\n",
    "display(list(good_submissions_df.head().id))"
   ]
  },
  {
   "cell_type": "code",
   "execution_count": 8,
   "metadata": {},
   "outputs": [],
   "source": [
    "def get_label_from_comments(df):\n",
    "    try:\n",
    "        return df[df.judgement != \"UNK\"].groupby('judgement').score.sum().idxmax()\n",
    "    except ValueError:\n",
    "        return \"UNK\"\n",
    "    \n",
    "def get_label_from_submission(submission_id):\n",
    "    df = get_comments_from_id(comments_df, submission_id)\n",
    "    return get_label_from_comments(df)"
   ]
  },
  {
   "cell_type": "code",
   "execution_count": null,
   "metadata": {},
   "outputs": [
    {
     "name": "stderr",
     "output_type": "stream",
     "text": [
      " 10%|▉         | 198/2000 [00:29<04:37,  6.50it/s]"
     ]
    },
    {
     "data": {
      "text/html": [
       "<b>limit_output extension: Maximum message size of 10000 exceeded with 10033 characters</b>"
      ]
     },
     "metadata": {},
     "output_type": "display_data"
    }
   ],
   "source": [
    "good_submissions_df['label'] = good_submissions_df.id.progress_map(get_label_from_submission)"
   ]
  },
  {
   "cell_type": "code",
   "execution_count": 10,
   "metadata": {},
   "outputs": [
    {
     "data": {
      "text/html": [
       "<div>\n",
       "<style scoped>\n",
       "    .dataframe tbody tr th:only-of-type {\n",
       "        vertical-align: middle;\n",
       "    }\n",
       "\n",
       "    .dataframe tbody tr th {\n",
       "        vertical-align: top;\n",
       "    }\n",
       "\n",
       "    .dataframe thead th {\n",
       "        text-align: right;\n",
       "    }\n",
       "</style>\n",
       "<table border=\"1\" class=\"dataframe\">\n",
       "  <thead>\n",
       "    <tr style=\"text-align: right;\">\n",
       "      <th></th>\n",
       "      <th>title</th>\n",
       "      <th>num_comments</th>\n",
       "      <th>id</th>\n",
       "    </tr>\n",
       "  </thead>\n",
       "  <tbody>\n",
       "    <tr>\n",
       "      <th>29410</th>\n",
       "      <td>AITA for refusing to pay back my cousin after ...</td>\n",
       "      <td>8858</td>\n",
       "      <td>cw43oc</td>\n",
       "    </tr>\n",
       "    <tr>\n",
       "      <th>16142</th>\n",
       "      <td>AITA for wanting my girlfriend to wear makeup ...</td>\n",
       "      <td>7316</td>\n",
       "      <td>cqin60</td>\n",
       "    </tr>\n",
       "    <tr>\n",
       "      <th>4184</th>\n",
       "      <td>AITA for telling a friend’s friend that he cou...</td>\n",
       "      <td>7180</td>\n",
       "      <td>cm0bft</td>\n",
       "    </tr>\n",
       "    <tr>\n",
       "      <th>28267</th>\n",
       "      <td>WIBTA if I told a close family friend that her...</td>\n",
       "      <td>6236</td>\n",
       "      <td>cvlkut</td>\n",
       "    </tr>\n",
       "    <tr>\n",
       "      <th>7540</th>\n",
       "      <td>AITA for catfishing my underaged sister on Tin...</td>\n",
       "      <td>5538</td>\n",
       "      <td>cn7li5</td>\n",
       "    </tr>\n",
       "    <tr>\n",
       "      <th>...</th>\n",
       "      <td>...</td>\n",
       "      <td>...</td>\n",
       "      <td>...</td>\n",
       "    </tr>\n",
       "    <tr>\n",
       "      <th>28902</th>\n",
       "      <td>AITA for throwing out my neighbors laundry to ...</td>\n",
       "      <td>89</td>\n",
       "      <td>cvvwtx</td>\n",
       "    </tr>\n",
       "    <tr>\n",
       "      <th>8712</th>\n",
       "      <td>AITA for thinking girls who have sex can't be ...</td>\n",
       "      <td>89</td>\n",
       "      <td>cnorlu</td>\n",
       "    </tr>\n",
       "    <tr>\n",
       "      <th>33296</th>\n",
       "      <td>AITA for letting my son dye his hair when he w...</td>\n",
       "      <td>89</td>\n",
       "      <td>cxmrqq</td>\n",
       "    </tr>\n",
       "    <tr>\n",
       "      <th>22656</th>\n",
       "      <td>AITA for telling my wife that it's time to put...</td>\n",
       "      <td>89</td>\n",
       "      <td>ct99sj</td>\n",
       "    </tr>\n",
       "    <tr>\n",
       "      <th>11650</th>\n",
       "      <td>WIBTA if I tell my ex fiancee not to use the n...</td>\n",
       "      <td>89</td>\n",
       "      <td>covjt8</td>\n",
       "    </tr>\n",
       "  </tbody>\n",
       "</table>\n",
       "<p>2000 rows × 3 columns</p>\n",
       "</div>"
      ],
      "text/plain": [
       "                                                   title  num_comments      id\n",
       "29410  AITA for refusing to pay back my cousin after ...          8858  cw43oc\n",
       "16142  AITA for wanting my girlfriend to wear makeup ...          7316  cqin60\n",
       "4184   AITA for telling a friend’s friend that he cou...          7180  cm0bft\n",
       "28267  WIBTA if I told a close family friend that her...          6236  cvlkut\n",
       "7540   AITA for catfishing my underaged sister on Tin...          5538  cn7li5\n",
       "...                                                  ...           ...     ...\n",
       "28902  AITA for throwing out my neighbors laundry to ...            89  cvvwtx\n",
       "8712   AITA for thinking girls who have sex can't be ...            89  cnorlu\n",
       "33296  AITA for letting my son dye his hair when he w...            89  cxmrqq\n",
       "22656  AITA for telling my wife that it's time to put...            89  ct99sj\n",
       "11650  WIBTA if I tell my ex fiancee not to use the n...            89  covjt8\n",
       "\n",
       "[2000 rows x 3 columns]"
      ]
     },
     "execution_count": 10,
     "metadata": {},
     "output_type": "execute_result"
    }
   ],
   "source": []
  },
  {
   "cell_type": "code",
   "execution_count": null,
   "metadata": {},
   "outputs": [],
   "source": []
  }
 ],
 "metadata": {
  "kernelspec": {
   "display_name": "Python 3",
   "language": "python",
   "name": "python3"
  },
  "language_info": {
   "codemirror_mode": {
    "name": "ipython",
    "version": 3
   },
   "file_extension": ".py",
   "mimetype": "text/x-python",
   "name": "python",
   "nbconvert_exporter": "python",
   "pygments_lexer": "ipython3",
   "version": "3.6.9"
  },
  "latex_envs": {
   "LaTeX_envs_menu_present": true,
   "autoclose": false,
   "autocomplete": true,
   "bibliofile": "biblio.bib",
   "cite_by": "apalike",
   "current_citInitial": 1,
   "eqLabelWithNumbers": true,
   "eqNumInitial": 1,
   "hotkeys": {
    "equation": "Ctrl-E",
    "itemize": "Ctrl-I"
   },
   "labels_anchors": false,
   "latex_user_defs": false,
   "report_style_numbering": false,
   "user_envs_cfg": false
  },
  "toc": {
   "base_numbering": 1,
   "nav_menu": {},
   "number_sections": true,
   "sideBar": true,
   "skip_h1_title": false,
   "title_cell": "Table of Contents",
   "title_sidebar": "Contents",
   "toc_cell": false,
   "toc_position": {},
   "toc_section_display": true,
   "toc_window_display": false
  }
 },
 "nbformat": 4,
 "nbformat_minor": 4
}
