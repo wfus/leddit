{
 "cells": [
  {
   "cell_type": "markdown",
   "metadata": {},
   "source": [
    "# Am I the AHole Dataset Construction\n",
    "\n",
    "Constructing datasets for the AITA subreddit as an exercise using AllenNLP."
   ]
  },
  {
   "cell_type": "code",
   "execution_count": 1,
   "metadata": {},
   "outputs": [],
   "source": [
    "import sys\n",
    "sys.path.append('.')\n",
    "sys.path.append('..')\n",
    "\n",
    "from subreddit_frequency import load_dataframe_from_jsonl\n",
    "from tqdm import tqdm\n",
    "tqdm.pandas()\n",
    "\n",
    "import seaborn as sns\n",
    "from datetime import datetime\n",
    "sns.set('paper')\n",
    "\n",
    "from ipywidgets import interact\n",
    "import pandas as pd"
   ]
  },
  {
   "cell_type": "code",
   "execution_count": 2,
   "metadata": {},
   "outputs": [
    {
     "name": "stderr",
     "output_type": "stream",
     "text": [
      "1454892it [00:46, 31426.76it/s]\n",
      "34476it [00:01, 25498.06it/s]\n"
     ]
    }
   ],
   "source": [
    "comments_df = load_dataframe_from_jsonl(\"../data/RC_2019-08_AmItheAsshole.dump\")\n",
    "submissions_df = load_dataframe_from_jsonl(\"../data/RS_2019-08_AmItheAsshole.dump\")"
   ]
  },
  {
   "cell_type": "markdown",
   "metadata": {},
   "source": [
    "Preprocess the comment to have:\n",
    "* the id of the previous post that it is a comment to\n",
    "* the absolute value of the score"
   ]
  },
  {
   "cell_type": "code",
   "execution_count": 3,
   "metadata": {},
   "outputs": [],
   "source": [
    "def get_comments_from_id(df, parent_id):\n",
    "    cols = ['author_flair_text', 'stickied', 'author', 'body', 'score', 'score_abs', 'judgement']\n",
    "    return df[df.prev_id == parent_id][cols]"
   ]
  },
  {
   "cell_type": "code",
   "execution_count": 4,
   "metadata": {},
   "outputs": [],
   "source": [
    "def determine_AH(body):\n",
    "    \"\"\"Determines if poster thinks asshole or not asshole.\"\"\"\n",
    "    if body.startswith(\"YTA\"):\n",
    "        return \"YTA\"\n",
    "    elif body.startswith(\"ESH\"):\n",
    "        return \"ESH\"\n",
    "    elif body.startswith(\"NAH\"):\n",
    "        return \"NAH\"\n",
    "    else:\n",
    "        return \"UNK\""
   ]
  },
  {
   "cell_type": "code",
   "execution_count": 5,
   "metadata": {},
   "outputs": [],
   "source": [
    "comments_df['prev_id'] = comments_df.parent_id.map(lambda x: x.split('_')[-1])\n",
    "comments_df['score_abs'] = comments_df.score.map(abs)\n",
    "comments_df['judgement'] = comments_df.body.map(determine_AH)\n",
    "submissions_df['timestamp'] = submissions_df.created_utc.map(datetime.fromtimestamp)\n",
    "submissions_df = submissions_df.sort_values('num_comments', ascending=False)"
   ]
  },
  {
   "cell_type": "markdown",
   "metadata": {},
   "source": [
    "Only get the most popular titles with the highest number of comments."
   ]
  },
  {
   "cell_type": "code",
   "execution_count": 6,
   "metadata": {},
   "outputs": [],
   "source": [
    "pd.set_option('display.max_rows', 500)\n",
    "good_submissions_df = submissions_df.head(2000)"
   ]
  },
  {
   "cell_type": "code",
   "execution_count": 7,
   "metadata": {},
   "outputs": [
    {
     "data": {
      "text/plain": [
       "['AITA for refusing to pay back my cousin after my baby ruined her blouse?',\n",
       " 'AITA for wanting my girlfriend to wear makeup and take care of body hair?',\n",
       " 'AITA for telling a friend’s friend that he couldn’t keep the “jackpot” that he hit on my antique slot machine? (About $700)',\n",
       " 'WIBTA if I told a close family friend that her husband cheated on her 4 years ago?',\n",
       " 'AITA for catfishing my underaged sister on Tinder and humiliating her in order to teach her a lesson?']"
      ]
     },
     "metadata": {},
     "output_type": "display_data"
    },
    {
     "data": {
      "text/plain": [
       "['cw43oc', 'cqin60', 'cm0bft', 'cvlkut', 'cn7li5']"
      ]
     },
     "metadata": {},
     "output_type": "display_data"
    }
   ],
   "source": [
    "display(list(good_submissions_df.head().title))\n",
    "display(list(good_submissions_df.head().id))"
   ]
  },
  {
   "cell_type": "code",
   "execution_count": 8,
   "metadata": {},
   "outputs": [],
   "source": [
    "def get_label_from_comments(df):\n",
    "    try:\n",
    "        return df[df.judgement != \"UNK\"].groupby('judgement').score.sum().idxmax()\n",
    "    except ValueError:\n",
    "        return \"UNK\"\n",
    "    \n",
    "def get_label_from_submission(submission_id):\n",
    "    df = get_comments_from_id(comments_df, submission_id)\n",
    "    return get_label_from_comments(df)"
   ]
  },
  {
   "cell_type": "code",
   "execution_count": 9,
   "metadata": {},
   "outputs": [
    {
     "name": "stderr",
     "output_type": "stream",
     "text": [
      " 10%|▉         | 198/2000 [00:32<04:35,  6.55it/s]"
     ]
    },
    {
     "data": {
      "text/html": [
       "<b>limit_output extension: Maximum message size of 10000 exceeded with 10033 characters</b>"
      ]
     },
     "metadata": {},
     "output_type": "display_data"
    }
   ],
   "source": [
    "good_submissions_df['label'] = good_submissions_df.id.progress_map(get_label_from_submission)"
   ]
  },
  {
   "cell_type": "code",
   "execution_count": 10,
   "metadata": {},
   "outputs": [
    {
     "data": {
      "text/html": [
       "<div>\n",
       "<style scoped>\n",
       "    .dataframe tbody tr th:only-of-type {\n",
       "        vertical-align: middle;\n",
       "    }\n",
       "\n",
       "    .dataframe tbody tr th {\n",
       "        vertical-align: top;\n",
       "    }\n",
       "\n",
       "    .dataframe thead th {\n",
       "        text-align: right;\n",
       "    }\n",
       "</style>\n",
       "<table border=\"1\" class=\"dataframe\">\n",
       "  <thead>\n",
       "    <tr style=\"text-align: right;\">\n",
       "      <th></th>\n",
       "      <th>title</th>\n",
       "      <th>label</th>\n",
       "    </tr>\n",
       "  </thead>\n",
       "  <tbody>\n",
       "    <tr>\n",
       "      <th>29410</th>\n",
       "      <td>AITA for refusing to pay back my cousin after ...</td>\n",
       "      <td>ESH</td>\n",
       "    </tr>\n",
       "    <tr>\n",
       "      <th>16142</th>\n",
       "      <td>AITA for wanting my girlfriend to wear makeup ...</td>\n",
       "      <td>YTA</td>\n",
       "    </tr>\n",
       "    <tr>\n",
       "      <th>4184</th>\n",
       "      <td>AITA for telling a friend’s friend that he cou...</td>\n",
       "      <td>YTA</td>\n",
       "    </tr>\n",
       "    <tr>\n",
       "      <th>28267</th>\n",
       "      <td>WIBTA if I told a close family friend that her...</td>\n",
       "      <td>YTA</td>\n",
       "    </tr>\n",
       "    <tr>\n",
       "      <th>7540</th>\n",
       "      <td>AITA for catfishing my underaged sister on Tin...</td>\n",
       "      <td>YTA</td>\n",
       "    </tr>\n",
       "  </tbody>\n",
       "</table>\n",
       "</div>"
      ],
      "text/plain": [
       "                                                   title label\n",
       "29410  AITA for refusing to pay back my cousin after ...   ESH\n",
       "16142  AITA for wanting my girlfriend to wear makeup ...   YTA\n",
       "4184   AITA for telling a friend’s friend that he cou...   YTA\n",
       "28267  WIBTA if I told a close family friend that her...   YTA\n",
       "7540   AITA for catfishing my underaged sister on Tin...   YTA"
      ]
     },
     "execution_count": 10,
     "metadata": {},
     "output_type": "execute_result"
    }
   ],
   "source": [
    "pd.set_option('display.max_rows', None)\n",
    "pd.set_option('display.max_columns', None)\n",
    "pd.set_option('display.width', None)\n",
    "good_submissions_df[['title', 'label']].head()"
   ]
  },
  {
   "cell_type": "code",
   "execution_count": 11,
   "metadata": {},
   "outputs": [
    {
     "data": {
      "text/plain": [
       "YTA    901\n",
       "NAH    640\n",
       "ESH    423\n",
       "UNK     36\n",
       "Name: label, dtype: int64"
      ]
     },
     "execution_count": 11,
     "metadata": {},
     "output_type": "execute_result"
    }
   ],
   "source": [
    "good_submissions_df.label.value_counts()"
   ]
  },
  {
   "cell_type": "code",
   "execution_count": 12,
   "metadata": {},
   "outputs": [],
   "source": [
    "dataset_df = good_submissions_df[good_submissions_df.label != 'UNK']"
   ]
  },
  {
   "cell_type": "code",
   "execution_count": 13,
   "metadata": {},
   "outputs": [],
   "source": [
    "test_dataset_df = dataset_df.sample(frac=0.1)"
   ]
  },
  {
   "cell_type": "code",
   "execution_count": 14,
   "metadata": {},
   "outputs": [],
   "source": [
    "traindev_dataset_df = dataset_df.drop(test_dataset_df.index)"
   ]
  },
  {
   "cell_type": "code",
   "execution_count": 15,
   "metadata": {},
   "outputs": [],
   "source": [
    "train_dataset_df = traindev_dataset_df.sample(frac=0.8)\n",
    "dev_dataset_df = traindev_dataset_df.drop(train_dataset_df.index)"
   ]
  },
  {
   "cell_type": "code",
   "execution_count": 16,
   "metadata": {},
   "outputs": [],
   "source": [
    "dev_dataset_df.to_pickle('../aita/aita-dev.pkl')\n",
    "train_dataset_df.to_pickle('../aita/aita-train.pkl')\n",
    "test_dataset_df.to_pickle('../aita/aita-test.pkl')"
   ]
  },
  {
   "cell_type": "code",
   "execution_count": null,
   "metadata": {},
   "outputs": [],
   "source": []
  },
  {
   "cell_type": "code",
   "execution_count": null,
   "metadata": {},
   "outputs": [],
   "source": []
  }
 ],
 "metadata": {
  "kernelspec": {
   "display_name": "Python 3",
   "language": "python",
   "name": "python3"
  },
  "language_info": {
   "codemirror_mode": {
    "name": "ipython",
    "version": 3
   },
   "file_extension": ".py",
   "mimetype": "text/x-python",
   "name": "python",
   "nbconvert_exporter": "python",
   "pygments_lexer": "ipython3",
   "version": "3.6.9"
  },
  "latex_envs": {
   "LaTeX_envs_menu_present": true,
   "autoclose": false,
   "autocomplete": true,
   "bibliofile": "biblio.bib",
   "cite_by": "apalike",
   "current_citInitial": 1,
   "eqLabelWithNumbers": true,
   "eqNumInitial": 1,
   "hotkeys": {
    "equation": "Ctrl-E",
    "itemize": "Ctrl-I"
   },
   "labels_anchors": false,
   "latex_user_defs": false,
   "report_style_numbering": false,
   "user_envs_cfg": false
  },
  "toc": {
   "base_numbering": 1,
   "nav_menu": {},
   "number_sections": true,
   "sideBar": true,
   "skip_h1_title": false,
   "title_cell": "Table of Contents",
   "title_sidebar": "Contents",
   "toc_cell": false,
   "toc_position": {},
   "toc_section_display": true,
   "toc_window_display": false
  }
 },
 "nbformat": 4,
 "nbformat_minor": 4
}
