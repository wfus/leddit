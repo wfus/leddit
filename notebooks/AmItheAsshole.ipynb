{
 "cells": [
  {
   "cell_type": "markdown",
   "metadata": {},
   "source": [
    "# Am I the AHole Dataset Construction\n",
    "\n",
    "Constructing datasets for the AITA subreddit as an exercise using AllenNLP."
   ]
  },
  {
   "cell_type": "code",
   "execution_count": 2,
   "metadata": {
    "ExecuteTime": {
     "end_time": "2020-02-11T18:53:37.041431Z",
     "start_time": "2020-02-11T18:53:36.594030Z"
    }
   },
   "outputs": [],
   "source": [
    "import sys\n",
    "sys.path.append('.')\n",
    "sys.path.append('..')\n",
    "\n",
    "from subreddit_frequency import load_dataframe_from_jsonl\n",
    "from tqdm import tqdm\n",
    "tqdm.pandas()\n",
    "\n",
    "import seaborn as sns\n",
    "from datetime import datetime\n",
    "sns.set('paper')\n",
    "\n",
    "from ipywidgets import interact\n",
    "import pandas as pd\n",
    "from pathlib import Path\n",
    "from matplotlib import pyplot as plt"
   ]
  },
  {
   "cell_type": "markdown",
   "metadata": {},
   "source": [
    "## Data Loading\n",
    "\n",
    "Loads the data from sharded files, need to rebuild and concatonate.\n",
    "May take up a lot of memory, so runon a computer with enough RAM."
   ]
  },
  {
   "cell_type": "code",
   "execution_count": 3,
   "metadata": {
    "ExecuteTime": {
     "end_time": "2020-02-11T18:53:54.178230Z",
     "start_time": "2020-02-11T18:53:38.447579Z"
    }
   },
   "outputs": [
    {
     "name": "stderr",
     "output_type": "stream",
     "text": [
      "93it [00:00, 15350.45it/s]\n",
      "104it [00:00, 20029.74it/s]\n",
      "94it [00:00, 13392.59it/s]\n",
      "128it [00:00, 19030.55it/s]\n",
      "0it [00:00, ?it/s]\n",
      "360it [00:00, 31757.65it/s]\n",
      "116it [00:00, 18654.22it/s]\n",
      "104it [00:00, 26008.09it/s]\n",
      "130it [00:00, 17527.95it/s]\n",
      "106it [00:00, 25775.19it/s]\n",
      "333it [00:00, 31597.48it/s]\n",
      "110it [00:00, 50340.80it/s]\n",
      "1926it [00:00, 19253.18it/s]"
     ]
    },
    {
     "name": "stdout",
     "output_type": "stream",
     "text": [
      "../data/RS_2016-04.zst_AmItheAsshole.dump\n",
      "../data/RS_2016-08.zst_AmItheAsshole.dump\n",
      "../data/RS_2016-06.zst_AmItheAsshole.dump\n",
      "../data/RS_2016-01.zst_AmItheAsshole.dump\n",
      "../data/RS_2019-09.zst_AmItheAsshole.dump\n",
      "../data/RS_2017-09.bz2_AmItheAsshole.dump\n",
      "../data/RS_2016-09.zst_AmItheAsshole.dump\n",
      "../data/RS_2017-05.bz2_AmItheAsshole.dump\n",
      "../data/RS_2017-01.bz2_AmItheAsshole.dump\n",
      "../data/RS_2017-03.bz2_AmItheAsshole.dump\n",
      "../data/RS_2017-11.bz2_AmItheAsshole.dump\n",
      "../data/RS_2016-07.zst_AmItheAsshole.dump\n",
      "../data/RS_2019-05.zst_AmItheAsshole.dump\n"
     ]
    },
    {
     "name": "stderr",
     "output_type": "stream",
     "text": [
      "27375it [00:00, 28734.87it/s]\n",
      "154it [00:00, 48185.22it/s]\n",
      "102it [00:00, 49868.17it/s]\n",
      "339it [00:00, 46563.70it/s]\n",
      "113it [00:00, 38237.70it/s]\n",
      "3895it [00:00, 7275.45it/s]"
     ]
    },
    {
     "name": "stdout",
     "output_type": "stream",
     "text": [
      "../data/RS_2016-12.zst_AmItheAsshole.dump\n",
      "../data/RS_2016-11.zst_AmItheAsshole.dump\n",
      "../data/RS_2017-10.bz2_AmItheAsshole.dump\n",
      "../data/RS_2017-06.bz2_AmItheAsshole.dump\n",
      "../data/RS_2019-06.zst_AmItheAsshole.dump\n"
     ]
    },
    {
     "name": "stderr",
     "output_type": "stream",
     "text": [
      "28643it [00:01, 24914.90it/s]\n",
      "136it [00:00, 41425.22it/s]\n",
      "88it [00:00, 16493.09it/s]\n",
      "98it [00:00, 25543.24it/s]\n",
      "2553it [00:00, 25528.38it/s]"
     ]
    },
    {
     "name": "stdout",
     "output_type": "stream",
     "text": [
      "../data/RS_2017-07.bz2_AmItheAsshole.dump\n",
      "../data/RS_2016-05.zst_AmItheAsshole.dump\n",
      "../data/RS_2016-03.zst_AmItheAsshole.dump\n",
      "../data/RS_2018-12.zst_AmItheAsshole.dump\n"
     ]
    },
    {
     "name": "stderr",
     "output_type": "stream",
     "text": [
      "7561it [00:00, 18062.18it/s]\n",
      "104it [00:00, 38160.06it/s]\n",
      "918it [00:00, 26407.49it/s]\n",
      "97it [00:00, 40664.42it/s]\n",
      "2629it [00:00, 26289.08it/s]"
     ]
    },
    {
     "name": "stdout",
     "output_type": "stream",
     "text": [
      "../data/RS_2017-08.bz2_AmItheAsshole.dump\n",
      "../data/RS_2019-07.zst_AmItheAsshole.dump\n",
      "../data/RS_2016-10.zst_AmItheAsshole.dump\n",
      "../data/RS_2018-11.zst_AmItheAsshole.dump\n"
     ]
    },
    {
     "name": "stderr",
     "output_type": "stream",
     "text": [
      "6479it [00:00, 26204.09it/s]\n",
      "2481it [00:00, 24808.13it/s]"
     ]
    },
    {
     "name": "stdout",
     "output_type": "stream",
     "text": [
      "../data/RS_2019-01.zst_AmItheAsshole.dump\n"
     ]
    },
    {
     "name": "stderr",
     "output_type": "stream",
     "text": [
      "11577it [00:00, 27289.83it/s]\n",
      "2820it [00:00, 28197.54it/s]"
     ]
    },
    {
     "name": "stdout",
     "output_type": "stream",
     "text": [
      "../data/RS_2019-08.zst_AmItheAsshole.dump\n"
     ]
    },
    {
     "name": "stderr",
     "output_type": "stream",
     "text": [
      "34476it [00:01, 22793.74it/s]\n",
      "2632it [00:00, 26316.32it/s]"
     ]
    },
    {
     "name": "stdout",
     "output_type": "stream",
     "text": [
      "../data/RS_2019-04.zst_AmItheAsshole.dump\n"
     ]
    },
    {
     "name": "stderr",
     "output_type": "stream",
     "text": [
      "26443it [00:01, 22327.58it/s]\n",
      "139it [00:00, 37219.63it/s]\n",
      "2582it [00:00, 25816.58it/s]"
     ]
    },
    {
     "name": "stdout",
     "output_type": "stream",
     "text": [
      "../data/RS_2017-04.bz2_AmItheAsshole.dump\n",
      "../data/RS_2019-03.zst_AmItheAsshole.dump\n"
     ]
    },
    {
     "name": "stderr",
     "output_type": "stream",
     "text": [
      "23976it [00:00, 31003.20it/s]\n",
      "2507it [00:00, 25060.46it/s]"
     ]
    },
    {
     "name": "stdout",
     "output_type": "stream",
     "text": [
      "../data/RS_2019-02.zst_AmItheAsshole.dump\n"
     ]
    },
    {
     "name": "stderr",
     "output_type": "stream",
     "text": [
      "15621it [00:00, 18324.62it/s]\n",
      "94it [00:00, 38453.58it/s]\n",
      "115it [00:00, 46455.26it/s]"
     ]
    },
    {
     "name": "stdout",
     "output_type": "stream",
     "text": [
      "../data/RS_2017-02.bz2_AmItheAsshole.dump\n",
      "../data/RS_2016-02.zst_AmItheAsshole.dump\n"
     ]
    },
    {
     "name": "stderr",
     "output_type": "stream",
     "text": [
      "\n",
      "/home/johnkeszler/anaconda3/lib/python3.7/site-packages/ipykernel_launcher.py:4: FutureWarning: Sorting because non-concatenation axis is not aligned. A future version\n",
      "of pandas will change to not sort by default.\n",
      "\n",
      "To accept the future behavior, pass 'sort=False'.\n",
      "\n",
      "To retain the current behavior and silence the warning, pass 'sort=True'.\n",
      "\n",
      "  after removing the cwd from sys.path.\n"
     ]
    }
   ],
   "source": [
    "submissions_df = pd.concat([\n",
    "    load_dataframe_from_jsonl(a)\n",
    "    for a in Path(\"../data\").glob(\"RS_*Asshole.dump\")\n",
    "],axis=0)"
   ]
  },
  {
   "cell_type": "code",
   "execution_count": null,
   "metadata": {},
   "outputs": [],
   "source": []
  },
  {
   "cell_type": "code",
   "execution_count": 4,
   "metadata": {
    "ExecuteTime": {
     "end_time": "2020-02-11T19:02:06.002924Z",
     "start_time": "2020-02-11T18:53:54.180548Z"
    }
   },
   "outputs": [
    {
     "name": "stderr",
     "output_type": "stream",
     "text": [
      "2035it [00:00, 95255.94it/s]\n",
      "3893it [00:00, 38919.46it/s]"
     ]
    },
    {
     "name": "stdout",
     "output_type": "stream",
     "text": [
      "../data/RC_2016-11.bz2_AmItheAsshole.dump\n",
      "../data/RC_2019-05.zst_AmItheAsshole.dump\n"
     ]
    },
    {
     "name": "stderr",
     "output_type": "stream",
     "text": [
      "1120561it [00:28, 39271.88it/s]\n",
      "1555it [00:00, 18779.02it/s]\n",
      "2288it [00:00, 89374.32it/s]\n",
      "1186it [00:00, 76023.48it/s]\n",
      "0it [00:00, ?it/s]"
     ]
    },
    {
     "name": "stdout",
     "output_type": "stream",
     "text": [
      "../data/RC_2016-09.bz2_AmItheAsshole.dump\n",
      "../data/RC_2016-12.bz2_AmItheAsshole.dump\n",
      "../data/RC_2016-03.bz2_AmItheAsshole.dump\n",
      "../data/RC_2019-02.zst_AmItheAsshole.dump\n"
     ]
    },
    {
     "name": "stderr",
     "output_type": "stream",
     "text": [
      "508604it [00:13, 37705.45it/s]\n",
      "1731it [00:00, 31024.44it/s]\n",
      "3596it [00:00, 35955.92it/s]"
     ]
    },
    {
     "name": "stdout",
     "output_type": "stream",
     "text": [
      "../data/RC_2017-07.bz2_AmItheAsshole.dump\n",
      "../data/RC_2019-04.zst_AmItheAsshole.dump\n"
     ]
    },
    {
     "name": "stderr",
     "output_type": "stream",
     "text": [
      "117960it [00:02, 52196.54it/s]"
     ]
    },
    {
     "data": {
      "text/html": [
       "<b>limit_output extension: Maximum message size of 10000 exceeded with 10023 characters</b>"
      ]
     },
     "metadata": {},
     "output_type": "display_data"
    }
   ],
   "source": [
    "comments_df = pd.concat([\n",
    "    load_dataframe_from_jsonl(a)\n",
    "    for a in Path(\"../data\").glob(\"RC_*Asshole.dump\")\n",
    "],axis=0)"
   ]
  },
  {
   "cell_type": "markdown",
   "metadata": {},
   "source": [
    "## Dataset Statistics"
   ]
  },
  {
   "cell_type": "code",
   "execution_count": 6,
   "metadata": {
    "ExecuteTime": {
     "end_time": "2020-02-11T20:20:29.655074Z",
     "start_time": "2020-02-11T20:20:23.798581Z"
    }
   },
   "outputs": [
    {
     "data": {
      "image/png": "[encoded data removed]",
      "text/plain": [
       "<Figure size 432x288 with 1 Axes>"
      ]
     },
     "metadata": {
      "needs_background": "light"
     },
     "output_type": "display_data"
    }
   ],
   "source": [
    "#print(comments_df.created_utc.conve.describe())\n",
    "sns.distplot(submissions_df.num_comments,bins=5000, kde=True);\n",
    "plt.xlim(0,200)\n",
    "plt.show()"
   ]
  },
  {
   "cell_type": "code",
   "execution_count": 7,
   "metadata": {
    "ExecuteTime": {
     "end_time": "2020-02-11T20:20:29.668466Z",
     "start_time": "2020-02-11T20:20:29.656703Z"
    }
   },
   "outputs": [
    {
     "data": {
      "text/plain": [
       "count    186326.000000\n",
       "mean        101.364587\n",
       "std        1051.081844\n",
       "min           0.000000\n",
       "25%           1.000000\n",
       "50%           2.000000\n",
       "75%           7.000000\n",
       "max       66384.000000\n",
       "Name: score, dtype: float64"
      ]
     },
     "execution_count": 7,
     "metadata": {},
     "output_type": "execute_result"
    }
   ],
   "source": [
    "submissions_df.score.describe()"
   ]
  },
  {
   "cell_type": "code",
   "execution_count": 8,
   "metadata": {
    "ExecuteTime": {
     "end_time": "2020-02-11T20:20:49.875120Z",
     "start_time": "2020-02-11T20:20:41.148587Z"
    }
   },
   "outputs": [
    {
     "data": {
      "image/png": "[encoded data removed]",
      "text/plain": [
       "<Figure size 432x288 with 1 Axes>"
      ]
     },
     "metadata": {
      "needs_background": "light"
     },
     "output_type": "display_data"
    }
   ],
   "source": [
    "sns.regplot(x='score', y='num_comments', data=submissions_df)\n",
    "plt.show()"
   ]
  },
  {
   "cell_type": "markdown",
   "metadata": {},
   "source": [
    "Preprocess the comment to have:\n",
    "* the id of the previous post that it is a comment to\n",
    "* the absolute value of the score"
   ]
  },
  {
   "cell_type": "markdown",
   "metadata": {},
   "source": [
    "## Helper Functions\n",
    "\n",
    "Helper functions to:\n",
    "1. Get comments from ID\n",
    "2. Determine if someone is an AH"
   ]
  },
  {
   "cell_type": "code",
   "execution_count": 9,
   "metadata": {
    "ExecuteTime": {
     "end_time": "2020-02-11T20:21:28.892636Z",
     "start_time": "2020-02-11T20:21:28.883578Z"
    }
   },
   "outputs": [],
   "source": [
    "def get_comments_from_id(df, parent_id):\n",
    "    cols = ['author_flair_text', 'stickied', 'author', 'body', 'score', 'score_abs', 'judgement']\n",
    "    return df[df.prev_id == parent_id][cols]"
   ]
  },
  {
   "cell_type": "code",
   "execution_count": 10,
   "metadata": {
    "ExecuteTime": {
     "end_time": "2020-02-11T20:21:29.470483Z",
     "start_time": "2020-02-11T20:21:29.463518Z"
    }
   },
   "outputs": [],
   "source": [
    "def determine_AH(body):\n",
    "    \"\"\"Determines if poster thinks asshole or not asshole.\"\"\"\n",
    "    if body.startswith(\"YTA\"):\n",
    "        return \"YTA\"\n",
    "    elif body.startswith(\"ESH\"):\n",
    "        return \"ESH\"\n",
    "    elif body.startswith(\"NAH\"):\n",
    "        return \"NAH\"\n",
    "    elif body.startswith(\"NTA\"):\n",
    "        return \"NTA\"\n",
    "    else:\n",
    "        return \"UNK\""
   ]
  },
  {
   "cell_type": "code",
   "execution_count": 11,
   "metadata": {
    "ExecuteTime": {
     "end_time": "2020-02-11T20:21:46.422860Z",
     "start_time": "2020-02-11T20:21:30.190104Z"
    }
   },
   "outputs": [],
   "source": [
    "comments_df['prev_id'] = comments_df.parent_id.map(lambda x: x.split('_')[-1])\n",
    "comments_df['score_abs'] = comments_df.score.map(abs)\n",
    "comments_df['judgement'] = comments_df.body.map(determine_AH)\n",
    "submissions_df['timestamp'] = submissions_df.created_utc.map(datetime.fromtimestamp)\n",
    "submissions_df = submissions_df.sort_values('num_comments', ascending=False)"
   ]
  },
  {
   "cell_type": "markdown",
   "metadata": {},
   "source": [
    "Only get the most popular titles with the highest number of comments."
   ]
  },
  {
   "cell_type": "code",
   "execution_count": 12,
   "metadata": {
    "ExecuteTime": {
     "end_time": "2020-02-11T20:21:46.469978Z",
     "start_time": "2020-02-11T20:21:46.424449Z"
    }
   },
   "outputs": [],
   "source": [
    "pd.set_option('display.max_rows', 500)\n",
    "good_submissions_df = submissions_df[submissions_df.num_comments > 30]"
   ]
  },
  {
   "cell_type": "code",
   "execution_count": 13,
   "metadata": {
    "ExecuteTime": {
     "end_time": "2020-02-11T20:21:46.475214Z",
     "start_time": "2020-02-11T20:21:46.471745Z"
    }
   },
   "outputs": [
    {
     "data": {
      "text/plain": [
       "33043"
      ]
     },
     "execution_count": 13,
     "metadata": {},
     "output_type": "execute_result"
    }
   ],
   "source": [
    "len(good_submissions_df)"
   ]
  },
  {
   "cell_type": "code",
   "execution_count": 14,
   "metadata": {
    "ExecuteTime": {
     "end_time": "2020-02-11T20:21:46.485947Z",
     "start_time": "2020-02-11T20:21:46.476692Z"
    }
   },
   "outputs": [
    {
     "data": {
      "text/plain": [
       "['AITA for giving my concert ticket to another girl after my friend said she only wanted to go with me as \"friends\"?',\n",
       " 'AITA for refusing to pay back my cousin after my baby ruined her blouse?',\n",
       " 'AITA for cancelling my wedding because fiancee almost got my dog killed?',\n",
       " 'AITA for wanting my girlfriend to wear makeup and take care of body hair?',\n",
       " 'AITA for telling a friend’s friend that he couldn’t keep the “jackpot” that he hit on my antique slot machine? (About $700)']"
      ]
     },
     "metadata": {},
     "output_type": "display_data"
    },
    {
     "data": {
      "text/plain": [
       "['c5y237', 'cw43oc', 'bmi2qj', 'cqin60', 'cm0bft']"
      ]
     },
     "metadata": {},
     "output_type": "display_data"
    }
   ],
   "source": [
    "display(list(good_submissions_df.head().title))\n",
    "display(list(good_submissions_df.head().id))"
   ]
  },
  {
   "cell_type": "markdown",
   "metadata": {},
   "source": [
    "For matching, filter by if the comment actually makes a judgement."
   ]
  },
  {
   "cell_type": "code",
   "execution_count": 15,
   "metadata": {
    "ExecuteTime": {
     "end_time": "2020-02-11T20:22:06.229044Z",
     "start_time": "2020-02-11T20:22:05.768909Z"
    }
   },
   "outputs": [
    {
     "data": {
      "text/plain": [
       "UNK    6157208\n",
       "NTA    1662273\n",
       "YTA     822422\n",
       "NAH     287302\n",
       "ESH     212204\n",
       "Name: judgement, dtype: int64"
      ]
     },
     "execution_count": 15,
     "metadata": {},
     "output_type": "execute_result"
    }
   ],
   "source": [
    "comments_df.judgement.value_counts()"
   ]
  },
  {
   "cell_type": "code",
   "execution_count": 16,
   "metadata": {
    "ExecuteTime": {
     "end_time": "2020-02-11T20:23:11.754649Z",
     "start_time": "2020-02-11T20:22:09.676836Z"
    }
   },
   "outputs": [],
   "source": [
    "# Determine label and label_fine for each prev_id\n",
    "judgement_df = comments_df[comments_df.judgement != \"UNK\"].reset_index()\n",
    "for judge in judgement_df.judgement.unique():\n",
    "    judgement_df[judge] = (judgement_df.judgement == judge).astype(int)\n",
    "count_df = judgement_df.groupby(['prev_id'])[judgement_df.judgement.unique()].sum()\n",
    "count_df['label_fine'] = count_df.apply(lambda x : dict(x), axis=1)\n",
    "count_df['label'] = count_df[judgement_df.judgement.unique()].idxmax(axis=1)\n",
    "count_df['id'] = count_df.index"
   ]
  },
  {
   "cell_type": "code",
   "execution_count": 18,
   "metadata": {
    "ExecuteTime": {
     "end_time": "2020-02-11T20:24:22.782887Z",
     "start_time": "2020-02-11T20:24:21.456154Z"
    }
   },
   "outputs": [],
   "source": [
    "good_submissions_df = good_submissions_df.merge(count_df[['label', 'label_fine', 'id']], left_on='id', right_on='id')"
   ]
  },
  {
   "cell_type": "markdown",
   "metadata": {},
   "source": [
    "When the mode is returned, there will sometimes be ties.\n",
    "So let's get rid of the ties."
   ]
  },
  {
   "cell_type": "code",
   "execution_count": 26,
   "metadata": {
    "ExecuteTime": {
     "end_time": "2020-02-11T20:24:59.808497Z",
     "start_time": "2020-02-11T20:24:59.796982Z"
    }
   },
   "outputs": [
    {
     "data": {
      "text/plain": [
       "4027     {'NTA': 39, 'YTA': 16, 'NAH': 5, 'ESH': 13}\n",
       "6347       {'NTA': 8, 'YTA': 17, 'NAH': 4, 'ESH': 0}\n",
       "13235      {'NTA': 20, 'YTA': 1, 'NAH': 1, 'ESH': 2}\n",
       "Name: label_fine, dtype: object"
      ]
     },
     "execution_count": 26,
     "metadata": {},
     "output_type": "execute_result"
    }
   ],
   "source": [
    "good_submissions_df.label_fine.sample(3)"
   ]
  },
  {
   "cell_type": "code",
   "execution_count": 28,
   "metadata": {
    "ExecuteTime": {
     "end_time": "2020-02-11T20:25:08.372904Z",
     "start_time": "2020-02-11T20:25:08.356982Z"
    }
   },
   "outputs": [],
   "source": [
    "label_counts = good_submissions_df.label.value_counts()"
   ]
  },
  {
   "cell_type": "code",
   "execution_count": 29,
   "metadata": {
    "ExecuteTime": {
     "end_time": "2020-02-11T20:25:09.281848Z",
     "start_time": "2020-02-11T20:25:09.244886Z"
    }
   },
   "outputs": [
    {
     "data": {
      "text/plain": [
       "NTA    0.569423\n",
       "YTA    0.337666\n",
       "NAH    0.059715\n",
       "ESH    0.033197\n",
       "Name: label, dtype: float64"
      ]
     },
     "execution_count": 29,
     "metadata": {},
     "output_type": "execute_result"
    }
   ],
   "source": [
    "label_counts / label_counts.sum()"
   ]
  },
  {
   "cell_type": "code",
   "execution_count": 30,
   "metadata": {
    "ExecuteTime": {
     "end_time": "2020-02-11T20:25:11.193543Z",
     "start_time": "2020-02-11T20:25:10.932920Z"
    }
   },
   "outputs": [
    {
     "name": "stdout",
     "output_type": "stream",
     "text": [
      "Series([], Name: title, dtype: object)\n"
     ]
    }
   ],
   "source": [
    "pd.set_option('display.max_rows', None)\n",
    "pd.set_option('display.max_columns', None)\n",
    "pd.set_option('display.width', None)\n",
    "good_submissions_df[['title', 'label']].head()\n",
    "print(good_submissions_df[good_submissions_df.label == 'UNK'].title)"
   ]
  },
  {
   "cell_type": "code",
   "execution_count": 31,
   "metadata": {
    "ExecuteTime": {
     "end_time": "2020-02-11T20:25:13.852162Z",
     "start_time": "2020-02-11T20:25:13.793945Z"
    }
   },
   "outputs": [
    {
     "data": {
      "text/html": [
       "<div>\n",
       "<style scoped>\n",
       "    .dataframe tbody tr th:only-of-type {\n",
       "        vertical-align: middle;\n",
       "    }\n",
       "\n",
       "    .dataframe tbody tr th {\n",
       "        vertical-align: top;\n",
       "    }\n",
       "\n",
       "    .dataframe thead th {\n",
       "        text-align: right;\n",
       "    }\n",
       "</style>\n",
       "<table border=\"1\" class=\"dataframe\">\n",
       "  <thead>\n",
       "    <tr style=\"text-align: right;\">\n",
       "      <th></th>\n",
       "      <th>all_awardings</th>\n",
       "      <th>approved_at_utc</th>\n",
       "      <th>archived</th>\n",
       "      <th>associated_award</th>\n",
       "      <th>author</th>\n",
       "      <th>author_cakeday</th>\n",
       "      <th>author_created_utc</th>\n",
       "      <th>author_flair_background_color</th>\n",
       "      <th>author_flair_css_class</th>\n",
       "      <th>author_flair_richtext</th>\n",
       "      <th>author_flair_template_id</th>\n",
       "      <th>author_flair_text</th>\n",
       "      <th>author_flair_text_color</th>\n",
       "      <th>author_flair_type</th>\n",
       "      <th>author_fullname</th>\n",
       "      <th>author_patreon_flair</th>\n",
       "      <th>author_premium</th>\n",
       "      <th>awarders</th>\n",
       "      <th>banned_at_utc</th>\n",
       "      <th>body</th>\n",
       "      <th>can_gild</th>\n",
       "      <th>can_mod_post</th>\n",
       "      <th>collapsed</th>\n",
       "      <th>collapsed_because_crowd_control</th>\n",
       "      <th>collapsed_reason</th>\n",
       "      <th>controversiality</th>\n",
       "      <th>created_utc</th>\n",
       "      <th>distinguished</th>\n",
       "      <th>edited</th>\n",
       "      <th>gilded</th>\n",
       "      <th>gildings</th>\n",
       "      <th>id</th>\n",
       "      <th>is_submitter</th>\n",
       "      <th>link_id</th>\n",
       "      <th>locked</th>\n",
       "      <th>mod_note</th>\n",
       "      <th>mod_reason_by</th>\n",
       "      <th>mod_reason_title</th>\n",
       "      <th>no_follow</th>\n",
       "      <th>parent_id</th>\n",
       "      <th>permalink</th>\n",
       "      <th>quarantined</th>\n",
       "      <th>removal_reason</th>\n",
       "      <th>retrieved_on</th>\n",
       "      <th>score</th>\n",
       "      <th>send_replies</th>\n",
       "      <th>steward_reports</th>\n",
       "      <th>stickied</th>\n",
       "      <th>subreddit</th>\n",
       "      <th>subreddit_id</th>\n",
       "      <th>subreddit_name_prefixed</th>\n",
       "      <th>subreddit_type</th>\n",
       "      <th>total_awards_received</th>\n",
       "      <th>ups</th>\n",
       "      <th>prev_id</th>\n",
       "      <th>score_abs</th>\n",
       "      <th>judgement</th>\n",
       "    </tr>\n",
       "  </thead>\n",
       "  <tbody>\n",
       "    <tr>\n",
       "      <th>0</th>\n",
       "      <td>NaN</td>\n",
       "      <td>NaN</td>\n",
       "      <td>NaN</td>\n",
       "      <td>NaN</td>\n",
       "      <td>shadowwolfsl</td>\n",
       "      <td>NaN</td>\n",
       "      <td>NaN</td>\n",
       "      <td>NaN</td>\n",
       "      <td>None</td>\n",
       "      <td>NaN</td>\n",
       "      <td>NaN</td>\n",
       "      <td>None</td>\n",
       "      <td>NaN</td>\n",
       "      <td>NaN</td>\n",
       "      <td>NaN</td>\n",
       "      <td>NaN</td>\n",
       "      <td>NaN</td>\n",
       "      <td>NaN</td>\n",
       "      <td>NaN</td>\n",
       "      <td>I try. I feel terrible because everyone else i...</td>\n",
       "      <td>NaN</td>\n",
       "      <td>NaN</td>\n",
       "      <td>NaN</td>\n",
       "      <td>NaN</td>\n",
       "      <td>NaN</td>\n",
       "      <td>0</td>\n",
       "      <td>1477959164</td>\n",
       "      <td>None</td>\n",
       "      <td>False</td>\n",
       "      <td>0</td>\n",
       "      <td>NaN</td>\n",
       "      <td>d9g5lrn</td>\n",
       "      <td>NaN</td>\n",
       "      <td>t3_5acgc9</td>\n",
       "      <td>NaN</td>\n",
       "      <td>NaN</td>\n",
       "      <td>NaN</td>\n",
       "      <td>NaN</td>\n",
       "      <td>NaN</td>\n",
       "      <td>t1_d9fuknh</td>\n",
       "      <td>NaN</td>\n",
       "      <td>NaN</td>\n",
       "      <td>NaN</td>\n",
       "      <td>1481097920</td>\n",
       "      <td>1</td>\n",
       "      <td>NaN</td>\n",
       "      <td>NaN</td>\n",
       "      <td>False</td>\n",
       "      <td>AmItheAsshole</td>\n",
       "      <td>t5_2xhvq</td>\n",
       "      <td>NaN</td>\n",
       "      <td>NaN</td>\n",
       "      <td>NaN</td>\n",
       "      <td>NaN</td>\n",
       "      <td>d9fuknh</td>\n",
       "      <td>1</td>\n",
       "      <td>UNK</td>\n",
       "    </tr>\n",
       "    <tr>\n",
       "      <th>1</th>\n",
       "      <td>NaN</td>\n",
       "      <td>NaN</td>\n",
       "      <td>NaN</td>\n",
       "      <td>NaN</td>\n",
       "      <td>neverr_ben_better</td>\n",
       "      <td>NaN</td>\n",
       "      <td>NaN</td>\n",
       "      <td>NaN</td>\n",
       "      <td>None</td>\n",
       "      <td>NaN</td>\n",
       "      <td>NaN</td>\n",
       "      <td>None</td>\n",
       "      <td>NaN</td>\n",
       "      <td>NaN</td>\n",
       "      <td>NaN</td>\n",
       "      <td>NaN</td>\n",
       "      <td>NaN</td>\n",
       "      <td>NaN</td>\n",
       "      <td>NaN</td>\n",
       "      <td>Tbh, you're all kind of petty.\\n\\nYour sister ...</td>\n",
       "      <td>NaN</td>\n",
       "      <td>NaN</td>\n",
       "      <td>NaN</td>\n",
       "      <td>NaN</td>\n",
       "      <td>NaN</td>\n",
       "      <td>0</td>\n",
       "      <td>1477959600</td>\n",
       "      <td>None</td>\n",
       "      <td>1477959879</td>\n",
       "      <td>0</td>\n",
       "      <td>NaN</td>\n",
       "      <td>d9g5xd3</td>\n",
       "      <td>NaN</td>\n",
       "      <td>t3_5aeb1u</td>\n",
       "      <td>NaN</td>\n",
       "      <td>NaN</td>\n",
       "      <td>NaN</td>\n",
       "      <td>NaN</td>\n",
       "      <td>NaN</td>\n",
       "      <td>t3_5aeb1u</td>\n",
       "      <td>NaN</td>\n",
       "      <td>NaN</td>\n",
       "      <td>NaN</td>\n",
       "      <td>1481098097</td>\n",
       "      <td>6</td>\n",
       "      <td>NaN</td>\n",
       "      <td>NaN</td>\n",
       "      <td>False</td>\n",
       "      <td>AmItheAsshole</td>\n",
       "      <td>t5_2xhvq</td>\n",
       "      <td>NaN</td>\n",
       "      <td>NaN</td>\n",
       "      <td>NaN</td>\n",
       "      <td>NaN</td>\n",
       "      <td>5aeb1u</td>\n",
       "      <td>6</td>\n",
       "      <td>UNK</td>\n",
       "    </tr>\n",
       "    <tr>\n",
       "      <th>2</th>\n",
       "      <td>NaN</td>\n",
       "      <td>NaN</td>\n",
       "      <td>NaN</td>\n",
       "      <td>NaN</td>\n",
       "      <td>[deleted]</td>\n",
       "      <td>NaN</td>\n",
       "      <td>NaN</td>\n",
       "      <td>NaN</td>\n",
       "      <td>None</td>\n",
       "      <td>NaN</td>\n",
       "      <td>NaN</td>\n",
       "      <td>None</td>\n",
       "      <td>NaN</td>\n",
       "      <td>NaN</td>\n",
       "      <td>NaN</td>\n",
       "      <td>NaN</td>\n",
       "      <td>NaN</td>\n",
       "      <td>NaN</td>\n",
       "      <td>NaN</td>\n",
       "      <td>[deleted]</td>\n",
       "      <td>NaN</td>\n",
       "      <td>NaN</td>\n",
       "      <td>NaN</td>\n",
       "      <td>NaN</td>\n",
       "      <td>NaN</td>\n",
       "      <td>0</td>\n",
       "      <td>1477959844</td>\n",
       "      <td>None</td>\n",
       "      <td>False</td>\n",
       "      <td>0</td>\n",
       "      <td>NaN</td>\n",
       "      <td>d9g63tr</td>\n",
       "      <td>NaN</td>\n",
       "      <td>t3_5aeb1u</td>\n",
       "      <td>NaN</td>\n",
       "      <td>NaN</td>\n",
       "      <td>NaN</td>\n",
       "      <td>NaN</td>\n",
       "      <td>NaN</td>\n",
       "      <td>t1_d9g5xd3</td>\n",
       "      <td>NaN</td>\n",
       "      <td>NaN</td>\n",
       "      <td>NaN</td>\n",
       "      <td>1481098183</td>\n",
       "      <td>2</td>\n",
       "      <td>NaN</td>\n",
       "      <td>NaN</td>\n",
       "      <td>False</td>\n",
       "      <td>AmItheAsshole</td>\n",
       "      <td>t5_2xhvq</td>\n",
       "      <td>NaN</td>\n",
       "      <td>NaN</td>\n",
       "      <td>NaN</td>\n",
       "      <td>NaN</td>\n",
       "      <td>d9g5xd3</td>\n",
       "      <td>2</td>\n",
       "      <td>UNK</td>\n",
       "    </tr>\n",
       "    <tr>\n",
       "      <th>3</th>\n",
       "      <td>NaN</td>\n",
       "      <td>NaN</td>\n",
       "      <td>NaN</td>\n",
       "      <td>NaN</td>\n",
       "      <td>Celera314</td>\n",
       "      <td>NaN</td>\n",
       "      <td>NaN</td>\n",
       "      <td>NaN</td>\n",
       "      <td>None</td>\n",
       "      <td>NaN</td>\n",
       "      <td>NaN</td>\n",
       "      <td>None</td>\n",
       "      <td>NaN</td>\n",
       "      <td>NaN</td>\n",
       "      <td>NaN</td>\n",
       "      <td>NaN</td>\n",
       "      <td>NaN</td>\n",
       "      <td>NaN</td>\n",
       "      <td>NaN</td>\n",
       "      <td>How do you know he waited to contact you about...</td>\n",
       "      <td>NaN</td>\n",
       "      <td>NaN</td>\n",
       "      <td>NaN</td>\n",
       "      <td>NaN</td>\n",
       "      <td>NaN</td>\n",
       "      <td>0</td>\n",
       "      <td>1477960010</td>\n",
       "      <td>None</td>\n",
       "      <td>False</td>\n",
       "      <td>0</td>\n",
       "      <td>NaN</td>\n",
       "      <td>d9g686c</td>\n",
       "      <td>NaN</td>\n",
       "      <td>t3_5afndb</td>\n",
       "      <td>NaN</td>\n",
       "      <td>NaN</td>\n",
       "      <td>NaN</td>\n",
       "      <td>NaN</td>\n",
       "      <td>NaN</td>\n",
       "      <td>t1_d9g3bzm</td>\n",
       "      <td>NaN</td>\n",
       "      <td>NaN</td>\n",
       "      <td>NaN</td>\n",
       "      <td>1481098245</td>\n",
       "      <td>5</td>\n",
       "      <td>NaN</td>\n",
       "      <td>NaN</td>\n",
       "      <td>False</td>\n",
       "      <td>AmItheAsshole</td>\n",
       "      <td>t5_2xhvq</td>\n",
       "      <td>NaN</td>\n",
       "      <td>NaN</td>\n",
       "      <td>NaN</td>\n",
       "      <td>NaN</td>\n",
       "      <td>d9g3bzm</td>\n",
       "      <td>5</td>\n",
       "      <td>UNK</td>\n",
       "    </tr>\n",
       "    <tr>\n",
       "      <th>4</th>\n",
       "      <td>NaN</td>\n",
       "      <td>NaN</td>\n",
       "      <td>NaN</td>\n",
       "      <td>NaN</td>\n",
       "      <td>Ce-Jay</td>\n",
       "      <td>NaN</td>\n",
       "      <td>NaN</td>\n",
       "      <td>NaN</td>\n",
       "      <td>None</td>\n",
       "      <td>NaN</td>\n",
       "      <td>NaN</td>\n",
       "      <td>None</td>\n",
       "      <td>NaN</td>\n",
       "      <td>NaN</td>\n",
       "      <td>NaN</td>\n",
       "      <td>NaN</td>\n",
       "      <td>NaN</td>\n",
       "      <td>NaN</td>\n",
       "      <td>NaN</td>\n",
       "      <td>Because he had to clock back in from his break...</td>\n",
       "      <td>NaN</td>\n",
       "      <td>NaN</td>\n",
       "      <td>NaN</td>\n",
       "      <td>NaN</td>\n",
       "      <td>NaN</td>\n",
       "      <td>0</td>\n",
       "      <td>1477960291</td>\n",
       "      <td>None</td>\n",
       "      <td>False</td>\n",
       "      <td>0</td>\n",
       "      <td>NaN</td>\n",
       "      <td>d9g6fnl</td>\n",
       "      <td>NaN</td>\n",
       "      <td>t3_5afndb</td>\n",
       "      <td>NaN</td>\n",
       "      <td>NaN</td>\n",
       "      <td>NaN</td>\n",
       "      <td>NaN</td>\n",
       "      <td>NaN</td>\n",
       "      <td>t1_d9g686c</td>\n",
       "      <td>NaN</td>\n",
       "      <td>NaN</td>\n",
       "      <td>NaN</td>\n",
       "      <td>1481098374</td>\n",
       "      <td>5</td>\n",
       "      <td>NaN</td>\n",
       "      <td>NaN</td>\n",
       "      <td>False</td>\n",
       "      <td>AmItheAsshole</td>\n",
       "      <td>t5_2xhvq</td>\n",
       "      <td>NaN</td>\n",
       "      <td>NaN</td>\n",
       "      <td>NaN</td>\n",
       "      <td>NaN</td>\n",
       "      <td>d9g686c</td>\n",
       "      <td>5</td>\n",
       "      <td>UNK</td>\n",
       "    </tr>\n",
       "  </tbody>\n",
       "</table>\n",
       "</div>"
      ],
      "text/plain": [
       "  all_awardings approved_at_utc archived associated_award             author  \\\n",
       "0           NaN             NaN      NaN              NaN       shadowwolfsl   \n",
       "1           NaN             NaN      NaN              NaN  neverr_ben_better   \n",
       "2           NaN             NaN      NaN              NaN          [deleted]   \n",
       "3           NaN             NaN      NaN              NaN          Celera314   \n",
       "4           NaN             NaN      NaN              NaN             Ce-Jay   \n",
       "\n",
       "  author_cakeday  author_created_utc author_flair_background_color  \\\n",
       "0            NaN                 NaN                           NaN   \n",
       "1            NaN                 NaN                           NaN   \n",
       "2            NaN                 NaN                           NaN   \n",
       "3            NaN                 NaN                           NaN   \n",
       "4            NaN                 NaN                           NaN   \n",
       "\n",
       "  author_flair_css_class author_flair_richtext author_flair_template_id  \\\n",
       "0                   None                   NaN                      NaN   \n",
       "1                   None                   NaN                      NaN   \n",
       "2                   None                   NaN                      NaN   \n",
       "3                   None                   NaN                      NaN   \n",
       "4                   None                   NaN                      NaN   \n",
       "\n",
       "  author_flair_text author_flair_text_color author_flair_type author_fullname  \\\n",
       "0              None                     NaN               NaN             NaN   \n",
       "1              None                     NaN               NaN             NaN   \n",
       "2              None                     NaN               NaN             NaN   \n",
       "3              None                     NaN               NaN             NaN   \n",
       "4              None                     NaN               NaN             NaN   \n",
       "\n",
       "  author_patreon_flair author_premium awarders  banned_at_utc  \\\n",
       "0                  NaN            NaN      NaN            NaN   \n",
       "1                  NaN            NaN      NaN            NaN   \n",
       "2                  NaN            NaN      NaN            NaN   \n",
       "3                  NaN            NaN      NaN            NaN   \n",
       "4                  NaN            NaN      NaN            NaN   \n",
       "\n",
       "                                                body can_gild can_mod_post  \\\n",
       "0  I try. I feel terrible because everyone else i...      NaN          NaN   \n",
       "1  Tbh, you're all kind of petty.\\n\\nYour sister ...      NaN          NaN   \n",
       "2                                          [deleted]      NaN          NaN   \n",
       "3  How do you know he waited to contact you about...      NaN          NaN   \n",
       "4  Because he had to clock back in from his break...      NaN          NaN   \n",
       "\n",
       "  collapsed collapsed_because_crowd_control collapsed_reason  \\\n",
       "0       NaN                             NaN              NaN   \n",
       "1       NaN                             NaN              NaN   \n",
       "2       NaN                             NaN              NaN   \n",
       "3       NaN                             NaN              NaN   \n",
       "4       NaN                             NaN              NaN   \n",
       "\n",
       "   controversiality  created_utc distinguished      edited  gilded gildings  \\\n",
       "0                 0   1477959164          None       False       0      NaN   \n",
       "1                 0   1477959600          None  1477959879       0      NaN   \n",
       "2                 0   1477959844          None       False       0      NaN   \n",
       "3                 0   1477960010          None       False       0      NaN   \n",
       "4                 0   1477960291          None       False       0      NaN   \n",
       "\n",
       "        id is_submitter    link_id locked  mod_note  mod_reason_by  \\\n",
       "0  d9g5lrn          NaN  t3_5acgc9    NaN       NaN            NaN   \n",
       "1  d9g5xd3          NaN  t3_5aeb1u    NaN       NaN            NaN   \n",
       "2  d9g63tr          NaN  t3_5aeb1u    NaN       NaN            NaN   \n",
       "3  d9g686c          NaN  t3_5afndb    NaN       NaN            NaN   \n",
       "4  d9g6fnl          NaN  t3_5afndb    NaN       NaN            NaN   \n",
       "\n",
       "   mod_reason_title no_follow   parent_id permalink quarantined  \\\n",
       "0               NaN       NaN  t1_d9fuknh       NaN         NaN   \n",
       "1               NaN       NaN   t3_5aeb1u       NaN         NaN   \n",
       "2               NaN       NaN  t1_d9g5xd3       NaN         NaN   \n",
       "3               NaN       NaN  t1_d9g3bzm       NaN         NaN   \n",
       "4               NaN       NaN  t1_d9g686c       NaN         NaN   \n",
       "\n",
       "  removal_reason  retrieved_on  score send_replies steward_reports  stickied  \\\n",
       "0            NaN    1481097920      1          NaN             NaN     False   \n",
       "1            NaN    1481098097      6          NaN             NaN     False   \n",
       "2            NaN    1481098183      2          NaN             NaN     False   \n",
       "3            NaN    1481098245      5          NaN             NaN     False   \n",
       "4            NaN    1481098374      5          NaN             NaN     False   \n",
       "\n",
       "       subreddit subreddit_id subreddit_name_prefixed subreddit_type  \\\n",
       "0  AmItheAsshole     t5_2xhvq                     NaN            NaN   \n",
       "1  AmItheAsshole     t5_2xhvq                     NaN            NaN   \n",
       "2  AmItheAsshole     t5_2xhvq                     NaN            NaN   \n",
       "3  AmItheAsshole     t5_2xhvq                     NaN            NaN   \n",
       "4  AmItheAsshole     t5_2xhvq                     NaN            NaN   \n",
       "\n",
       "   total_awards_received  ups  prev_id  score_abs judgement  \n",
       "0                    NaN  NaN  d9fuknh          1       UNK  \n",
       "1                    NaN  NaN   5aeb1u          6       UNK  \n",
       "2                    NaN  NaN  d9g5xd3          2       UNK  \n",
       "3                    NaN  NaN  d9g3bzm          5       UNK  \n",
       "4                    NaN  NaN  d9g686c          5       UNK  "
      ]
     },
     "execution_count": 31,
     "metadata": {},
     "output_type": "execute_result"
    }
   ],
   "source": [
    "comments_df.head()"
   ]
  },
  {
   "cell_type": "code",
   "execution_count": 33,
   "metadata": {
    "ExecuteTime": {
     "end_time": "2020-02-11T20:25:33.249251Z",
     "start_time": "2020-02-11T20:25:33.131790Z"
    }
   },
   "outputs": [
    {
     "data": {
      "text/plain": [
       "[]"
      ]
     },
     "execution_count": 33,
     "metadata": {},
     "output_type": "execute_result"
    },
    {
     "data": {
      "image/png": "[encoded data removed]",
      "text/plain": [
       "<Figure size 432x288 with 1 Axes>"
      ]
     },
     "metadata": {
      "needs_background": "light"
     },
     "output_type": "display_data"
    }
   ],
   "source": [
    "label_counts = good_submissions_df.label.value_counts().to_frame()\n",
    "label_counts.columns = ['counts']\n",
    "label_counts['label'] = label_counts.index\n",
    "sns.barplot(y='label', x='counts', data=label_counts)\n",
    "plt.plot()"
   ]
  },
  {
   "cell_type": "markdown",
   "metadata": {},
   "source": [
    "## Train Test Split\n",
    "\n",
    "Eliminates the posts that have an unknown label, and splits our huge dataset into a train/val/test split."
   ]
  },
  {
   "cell_type": "code",
   "execution_count": 55,
   "metadata": {
    "ExecuteTime": {
     "end_time": "2020-02-11T20:31:33.398304Z",
     "start_time": "2020-02-11T20:31:33.319028Z"
    }
   },
   "outputs": [],
   "source": [
    "dataset_df = good_submissions_df[good_submissions_df.label != 'UNK']"
   ]
  },
  {
   "cell_type": "code",
   "execution_count": 56,
   "metadata": {
    "ExecuteTime": {
     "end_time": "2020-02-11T20:31:33.597405Z",
     "start_time": "2020-02-11T20:31:33.574873Z"
    }
   },
   "outputs": [],
   "source": [
    "test_dataset_df = dataset_df.sample(frac=0.1)"
   ]
  },
  {
   "cell_type": "code",
   "execution_count": 57,
   "metadata": {
    "ExecuteTime": {
     "end_time": "2020-02-11T20:31:33.813082Z",
     "start_time": "2020-02-11T20:31:33.742538Z"
    }
   },
   "outputs": [],
   "source": [
    "traindev_dataset_df = dataset_df.drop(test_dataset_df.index)"
   ]
  },
  {
   "cell_type": "code",
   "execution_count": 58,
   "metadata": {
    "ExecuteTime": {
     "end_time": "2020-02-11T20:31:34.046290Z",
     "start_time": "2020-02-11T20:31:33.949613Z"
    }
   },
   "outputs": [],
   "source": [
    "train_dataset_df = traindev_dataset_df.sample(frac=0.8)\n",
    "dev_dataset_df = traindev_dataset_df.drop(train_dataset_df.index)"
   ]
  },
  {
   "cell_type": "code",
   "execution_count": 59,
   "metadata": {
    "ExecuteTime": {
     "end_time": "2020-02-11T20:31:35.064339Z",
     "start_time": "2020-02-11T20:31:34.198748Z"
    }
   },
   "outputs": [],
   "source": [
    "dev_dataset_df.to_pickle('../aita/aita-dev.pkl')\n",
    "train_dataset_df.to_pickle('../aita/aita-train.pkl')\n",
    "test_dataset_df.to_pickle('../aita/aita-test.pkl')"
   ]
  },
  {
   "cell_type": "code",
   "execution_count": 60,
   "metadata": {
    "ExecuteTime": {
     "end_time": "2020-02-11T20:31:35.072183Z",
     "start_time": "2020-02-11T20:31:35.066089Z"
    }
   },
   "outputs": [
    {
     "data": {
      "text/plain": [
       "NTA    0.576547\n",
       "YTA    0.331922\n",
       "NAH    0.057003\n",
       "ESH    0.034528\n",
       "Name: label, dtype: float64"
      ]
     },
     "execution_count": 60,
     "metadata": {},
     "output_type": "execute_result"
    }
   ],
   "source": [
    "test_dataset_df.label.value_counts() / test_dataset_df.label.value_counts().sum()"
   ]
  },
  {
   "cell_type": "code",
   "execution_count": 61,
   "metadata": {
    "ExecuteTime": {
     "end_time": "2020-02-11T20:31:39.004249Z",
     "start_time": "2020-02-11T20:31:38.982247Z"
    }
   },
   "outputs": [
    {
     "data": {
      "text/plain": [
       "NTA    0.560724\n",
       "YTA    0.343529\n",
       "NAH    0.063348\n",
       "ESH    0.032398\n",
       "Name: label, dtype: float64"
      ]
     },
     "execution_count": 61,
     "metadata": {},
     "output_type": "execute_result"
    }
   ],
   "source": [
    "dev_dataset_df.label.value_counts() / dev_dataset_df.label.value_counts().sum()"
   ]
  },
  {
   "cell_type": "markdown",
   "metadata": {},
   "source": [
    "Linear regression"
   ]
  },
  {
   "cell_type": "code",
   "execution_count": 80,
   "metadata": {
    "ExecuteTime": {
     "end_time": "2020-02-11T20:45:23.592153Z",
     "start_time": "2020-02-11T20:45:23.527493Z"
    }
   },
   "outputs": [
    {
     "data": {
      "text/plain": [
       "23748    Recently, I attended a funeral. One mourner wa...\n",
       "23601    Everyone involved is 22-25. \\n\\nFor my birthda...\n",
       "20210                                            [deleted]\n",
       "19092    My family have a tradition where we go on a fa...\n",
       "20375    This happened a few years ago, but I have alwa...\n",
       "14750    It's his bday and it was brought up last night...\n",
       "19111    So some short backstory, I go to music school ...\n",
       "27135    Cast;\\n\\nme - me\\n\\nOF - Organizer Friend\\n\\nA...\n",
       "7593     So I am an 18 year old male who is attending a...\n",
       "10582                                            [deleted]\n",
       "7806     My mother is notoriously tight with her money....\n",
       "21253    A family member told me a few times over the l...\n",
       "23196    So I have this friend (let's call him MK). Abo...\n",
       "19528                                            [deleted]\n",
       "1504     I attended a music festival/concert with my gi...\n",
       "15094                                            [removed]\n",
       "9503     Hey, so for context I have been dating my boyf...\n",
       "4758     My husband works incredibly hard, long, crazy ...\n",
       "26536                                            [removed]\n",
       "30183                                            [deleted]\n",
       "6168                                             [deleted]\n",
       "8323                                             [removed]\n",
       "23914                                            [deleted]\n",
       "14590    The other day, I was at the library, and a wom...\n",
       "24308                                            [deleted]\n",
       "17393    When it comes to cursing, I’ve always taught m...\n",
       "10001    Context! I am in no way, a milk first supporte...\n",
       "17092    My boyfriend and I have been dating for three ...\n",
       "28145    My girlfriend and I have been together for abo...\n",
       "12401    I live in a large building. Theres a front doo...\n",
       "12845                                            [removed]\n",
       "3532     My mother and I both work for the same company...\n",
       "20040    Throwaway because of the personal details. Me[...\n",
       "2724     \\nSo my partner and I have a pig as a pet. A p...\n",
       "6625                                             [removed]\n",
       "26287    So, I figured I'd ask a pretty low-drama quest...\n",
       "7231                                             [removed]\n",
       "16901    So my name's J. I kissed a guy named D when he...\n",
       "26355    So my family has terrible mental illnesses inc...\n",
       "21542                                            [removed]\n",
       "21593    Hello reddit. Allow me to submit myself to you...\n",
       "20725                                            [deleted]\n",
       "20149    Pretty simple scenario.  My plane had just lan...\n",
       "16169    I was supposed to go on a date with a girl. I'...\n",
       "9486     I am getting married in 2 weeks (yay) and I wa...\n",
       "11832                                            [deleted]\n",
       "11509                                            [deleted]\n",
       "26268    Posted this here initially and got quite a few...\n",
       "10036                                            [removed]\n",
       "18218                                            [removed]\n",
       "22620    My wife is still friends with an ex-boyfriend ...\n",
       "18147    Alright so long story short, I had a night out...\n",
       "9908                                             [removed]\n",
       "4276     I am in my mid-fifties approaching retirement ...\n",
       "2735     I’m going to be honest with you guys, I don’t ...\n",
       "11253                                            [removed]\n",
       "13800    Looking for some real judgement here. About 3 ...\n",
       "19396                                            [deleted]\n",
       "25252     Yesterday my girlfriend and I went on a road ...\n",
       "24025    Using a throwaway for obvious reasons as this ...\n",
       "17327                                            [removed]\n",
       "15824    I have a coworker who smells constantly. He’s ...\n",
       "19484    A little context. My cat wasn't doing so hot b...\n",
       "17373    Hey everyone.\\n\\nIt’s been almost two years bu...\n",
       "28860    Back story before the argument. GF and I are i...\n",
       "1347     I have a dogtag necklace engraved with the nam...\n",
       "9122                                             [deleted]\n",
       "11065    I was going out with a guy I really really lik...\n",
       "28898                                            [removed]\n",
       "9197                                             [deleted]\n",
       "24730    So my boyfriend and I live together and we pay...\n",
       "23446    Background:\\n\\nWhen I was in 7th grade (12 ish...\n",
       "14982    OK, this happened a few months ago, but my wif...\n",
       "16399    No one really said I was, but as someone who’s...\n",
       "23       While sitting next to my girlfriend on a plane...\n",
       "3482     I work in an open insurance office, my desk is...\n",
       "21029                                            [deleted]\n",
       "949      I’ve been in a friends with benefits relations...\n",
       "19091    My girlfriend called me \"really annoying\", \"ru...\n",
       "26453    Im 20F in uni and the oldest of 4. The 7F is i...\n",
       "8531                                             [deleted]\n",
       "10117    I adopted 2 senior dogs from a shelter around ...\n",
       "6085                                             [removed]\n",
       "22429    I just remembered an interaction I had in a ni...\n",
       "18224    So a while ago I found out my now Ex of just u...\n",
       "10119                                            [removed]\n",
       "20859                                            [removed]\n",
       "28827                                            [removed]\n",
       "8568     To tell you the truth, I dread them coming ove...\n",
       "29337                                            [deleted]\n",
       "21508                                            [deleted]\n",
       "17137    That essentially sums it up. We’re not without...\n",
       "15194    I was playing in an organized tournament for b...\n",
       "15195    I have a very visible disability in the form o...\n",
       "16395    To set the stage, I pesonally put in over 6 ho...\n",
       "12081                                            [deleted]\n",
       "19656    I have a large park behind my apartment buildi...\n",
       "26005    Ok, here’s the thing. I am probably the furthe...\n",
       "725      My girlfriend has been a stay at home mom to o...\n",
       "724      My husband and I have been trying to conceive ...\n",
       "6936     (Throwaway for privacy, on mobile, and not a n...\n",
       "28791    I(25F) live with my bf, our friend and her bf ...\n",
       "20825    It's not like I never told them. The topic com...\n",
       "29198    About three weeks ago, girlfriend was driving ...\n",
       "6330     Me (22F) and my boyfriend (22M) (half chinese,...\n",
       "30429    In a nutshell, we have struggled to get along ...\n",
       "11307                                            [removed]\n",
       "24798                                            [deleted]\n",
       "8758     Background: in rapid succession boyfriend aske...\n",
       "3009     The story is I went to a restaurant with my gi...\n",
       "27198                                            [removed]\n",
       "8430     The gym I attend is pretty small and has only ...\n",
       "17871                                            [removed]\n",
       "20882    My girlfriend and her sister come from a very,...\n",
       "23832    I’m in a long distance relationship with my gi...\n",
       "17573    I'm 21f, he's 20m. One of my good friends from...\n",
       "23768    My (31M) gf (27F) and I were supposed to fly d...\n",
       "330      Backstory: I’ll try and make this as non-biase...\n",
       "1960     Before anyone starts, please don't spam respon...\n",
       "13352    My girlfriend and I have an awesome relationsh...\n",
       "4152     Final update:Hi, we just came back to hotel, I...\n",
       "30109    This was a while ago mind you. This was not re...\n",
       "11563    My parents have a problem with me sleeping nak...\n",
       "28612    My boyfriend has an \"X\" that he's a bit secret...\n",
       "5976     My mom hasn't had a job since she started dati...\n",
       "14321                                            [removed]\n",
       "6431     I have been dating my girlfriend for about a y...\n",
       "1083     My wife and I have been married for 7 years an...\n",
       "11688                                            [deleted]\n",
       "30485    On mobile so formatting might get messed up.\\n...\n",
       "24485    Evening all,\\nFirst post and im on mobile! Let...\n",
       "715      Using a throwaway even though my roommate will...\n",
       "13701                                            [deleted]\n",
       "27036    Context which will be needed: I just got a new...\n",
       "2696     My partner doesn't work, so I take care of the...\n",
       "7665                                             [removed]\n",
       "28003    I was walking the dog with my grandma and then...\n",
       "12727                                            [removed]\n",
       "5517     I'm 21, my girlfriend is 25 and her sister (fo...\n",
       "26799    SO is overweight. Probably by about 100 lbs. I...\n",
       "30515                                            [deleted]\n",
       "27006    Me: Working remote from a cafe because I'm tra...\n",
       "25297    I've been talking and asking them if they want...\n",
       "13835                                            [removed]\n",
       "24306                                            [deleted]\n",
       "4415                                             [removed]\n",
       "23453    Backstory: Rocky marriage, got back together t...\n",
       "29668                                            [deleted]\n",
       "15148                                            [deleted]\n",
       "22427    Long story short, I store my summer car at my ...\n",
       "4163      Hi, I (28M) have been with my SO (28F) for 3 ...\n",
       "21247    My husband mentions the other day that my moth...\n",
       "8553                                             [deleted]\n",
       "10975    A few years ago I was drunkenly walking throug...\n",
       "7335     My sister 20F asked if I would take her and he...\n",
       "19410    Today I tottaly ignored my girlfriend(25) requ...\n",
       "650      A little background, I hadn't gotten my wife j...\n",
       "13999                                            [removed]\n",
       "24255    For context on my family situation; I was move...\n",
       "6169     Two weeks ago while we were both participating...\n",
       "19793                                            [deleted]\n",
       "5441     So I just moved to a small suburb outside of a...\n",
       "8605     I understand that beauty is subjective, someon...\n",
       "12625    Hello everyone, I was just thrown completely f...\n",
       "29728    So atm I’m technically in two schools in a way...\n",
       "23870                                            [removed]\n",
       "30492    I met someone on a dating app and we had a lot...\n",
       "10899                                            [deleted]\n",
       "4249     I made most of my money through railroading, m...\n",
       "21302                        "
      ]
     },
     "execution_count": 80,
     "metadata": {},
     "output_type": "execute_result"
    },
    {
     "data": {
      "text/html": [
       "<b>limit_output extension: Maximum message size of 10000 exceeded with 181161 characters</b>"
      ]
     },
     "metadata": {},
     "output_type": "display_data"
    }
   ],
   "source": [
    "test_dataset_df['selftext']"
   ]
  },
  {
   "cell_type": "code",
   "execution_count": 76,
   "metadata": {
    "ExecuteTime": {
     "end_time": "2020-02-11T20:42:13.669516Z",
     "start_time": "2020-02-11T20:42:13.638699Z"
    }
   },
   "outputs": [
    {
     "data": {
      "text/html": [
       "<div>\n",
       "<style scoped>\n",
       "    .dataframe tbody tr th:only-of-type {\n",
       "        vertical-align: middle;\n",
       "    }\n",
       "\n",
       "    .dataframe tbody tr th {\n",
       "        vertical-align: top;\n",
       "    }\n",
       "\n",
       "    .dataframe thead th {\n",
       "        text-align: right;\n",
       "    }\n",
       "</style>\n",
       "<table border=\"1\" class=\"dataframe\">\n",
       "  <thead>\n",
       "    <tr style=\"text-align: right;\">\n",
       "      <th></th>\n",
       "      <th>bad</th>\n",
       "      <th>cat</th>\n",
       "      <th>day</th>\n",
       "      <th>good</th>\n",
       "    </tr>\n",
       "  </thead>\n",
       "  <tbody>\n",
       "    <tr>\n",
       "      <th>test sentence</th>\n",
       "      <td>0</td>\n",
       "      <td>0</td>\n",
       "      <td>2</td>\n",
       "      <td>1</td>\n",
       "    </tr>\n",
       "  </tbody>\n",
       "</table>\n",
       "</div>"
      ],
      "text/plain": [
       "               bad  cat  day  good\n",
       "test sentence    0    0    2     1"
      ]
     },
     "execution_count": 76,
     "metadata": {},
     "output_type": "execute_result"
    }
   ],
   "source": [
    "import re\n",
    "\n",
    "\n",
    "def clean_text(text):\n",
    "    \"\"\"\n",
    "    Applies some pre-processing on the given text.\n",
    "\n",
    "    Steps :\n",
    "    - Removing HTML tags\n",
    "    - Removing punctuation\n",
    "    - Lowering text\n",
    "    \"\"\"\n",
    "    \n",
    "    # remove HTML tags\n",
    "    text = re.sub(r'<.*?>', '', text)\n",
    "    \n",
    "    # remove the characters [\\], ['] and [\"]\n",
    "    text = re.sub(r\"\\\\\", \"\", text)    \n",
    "    text = re.sub(r\"\\'\", \"\", text)    \n",
    "    text = re.sub(r\"\\\"\", \"\", text)    \n",
    "    \n",
    "    # convert text to lowercase\n",
    "    text = text.strip().lower()\n",
    "    \n",
    "    # replace punctuation characters with spaces\n",
    "    filters='!\"\\'#$%&()*+,-./:;<=>?@[\\\\]^_`{|}~\\t\\n'\n",
    "    translate_dict = dict((c, \" \") for c in filters)\n",
    "    translate_map = str.maketrans(translate_dict)\n",
    "    text = text.translate(translate_map)\n",
    "\n",
    "    return text\n",
    "\n",
    "\n",
    "from sklearn.feature_extraction.text import CountVectorizer\n",
    "\n",
    "\n",
    "training_texts = [\n",
    "    \"This is a good cat\",\n",
    "    \"This is a bad day\"\n",
    "]\n",
    "\n",
    "test_texts = [\n",
    "    \"This day is a good day\"\n",
    "]\n",
    "\n",
    "# this vectorizer will skip stop words\n",
    "vectorizer = CountVectorizer(\n",
    "    stop_words=\"english\",\n",
    "    preprocessor=clean_text\n",
    ")\n",
    "\n",
    "# fit the vectorizer on the training text\n",
    "vectorizer.fit(training_texts)\n",
    "\n",
    "# get the vectorizer's vocabulary\n",
    "inv_vocab = {v: k for k, v in vectorizer.vocabulary_.items()}\n",
    "vocabulary = [inv_vocab[i] for i in range(len(inv_vocab))]\n",
    "\n",
    "# vectorization example\n",
    "pd.DataFrame(\n",
    "    data=vectorizer.transform(test_texts).toarray(),\n",
    "    index=[\"test sentence\"],\n",
    "    columns=vocabulary\n",
    ")"
   ]
  },
  {
   "cell_type": "code",
   "execution_count": null,
   "metadata": {},
   "outputs": [],
   "source": []
  }
 ],
 "metadata": {
  "kernelspec": {
   "display_name": "Python 3",
   "language": "python",
   "name": "python3"
  },
  "language_info": {
   "codemirror_mode": {
    "name": "ipython",
    "version": 3
   },
   "file_extension": ".py",
   "mimetype": "text/x-python",
   "name": "python",
   "nbconvert_exporter": "python",
   "pygments_lexer": "ipython3",
   "version": "3.7.3"
  },
  "latex_envs": {
   "LaTeX_envs_menu_present": true,
   "autoclose": false,
   "autocomplete": true,
   "bibliofile": "biblio.bib",
   "cite_by": "apalike",
   "current_citInitial": 1,
   "eqLabelWithNumbers": true,
   "eqNumInitial": 1,
   "hotkeys": {
    "equation": "Ctrl-E",
    "itemize": "Ctrl-I"
   },
   "labels_anchors": false,
   "latex_user_defs": false,
   "report_style_numbering": false,
   "user_envs_cfg": false
  },
  "toc": {
   "base_numbering": 1,
   "nav_menu": {},
   "number_sections": true,
   "sideBar": true,
   "skip_h1_title": false,
   "title_cell": "Table of Contents",
   "title_sidebar": "Contents",
   "toc_cell": false,
   "toc_position": {},
   "toc_section_display": true,
   "toc_window_display": false
  }
 },
 "nbformat": 4,
 "nbformat_minor": 4
}
