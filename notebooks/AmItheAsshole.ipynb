{
 "cells": [
  {
   "cell_type": "code",
   "execution_count": 4,
   "metadata": {},
   "outputs": [],
   "source": [
    "import sys\n",
    "sys.path.append('.')\n",
    "sys.path.append('..')\n",
    "from subreddit_frequency import load_dataframe_from_jsonl"
   ]
  },
  {
   "cell_type": "code",
   "execution_count": 8,
   "metadata": {},
   "outputs": [
    {
     "name": "stderr",
     "output_type": "stream",
     "text": [
      "1243213it [00:41, 30211.11it/s]\n"
     ]
    }
   ],
   "source": [
    "df = load_dataframe_from_jsonl(\"../data/RC_2019-09_AmItheAsshole.dump\")"
   ]
  },
  {
   "cell_type": "code",
   "execution_count": 10,
   "metadata": {},
   "outputs": [
    {
     "name": "stdout",
     "output_type": "stream",
     "text": [
      "<class 'pandas.core.frame.DataFrame'>\n",
      "RangeIndex: 1243213 entries, 0 to 1243212\n",
      "Data columns (total 47 columns):\n",
      "all_awardings                      1243213 non-null object\n",
      "associated_award                   0 non-null object\n",
      "author                             1243213 non-null object\n",
      "author_created_utc                 779135 non-null float64\n",
      "author_flair_background_color      576793 non-null object\n",
      "author_flair_css_class             2176 non-null object\n",
      "author_flair_richtext              1132234 non-null object\n",
      "author_flair_template_id           463407 non-null object\n",
      "author_flair_text                  465826 non-null object\n",
      "author_flair_text_color            576805 non-null object\n",
      "author_flair_type                  1132234 non-null object\n",
      "author_fullname                    1132234 non-null object\n",
      "author_patreon_flair               1132234 non-null object\n",
      "author_premium                     1132234 non-null object\n",
      "awarders                           1243213 non-null object\n",
      "body                               1243213 non-null object\n",
      "can_gild                           1243213 non-null bool\n",
      "can_mod_post                       1243213 non-null bool\n",
      "collapsed                          1243213 non-null bool\n",
      "collapsed_because_crowd_control    0 non-null object\n",
      "collapsed_reason                   55017 non-null object\n",
      "controversiality                   1243213 non-null int64\n",
      "created_utc                        1243213 non-null int64\n",
      "distinguished                      62864 non-null object\n",
      "edited                             1243213 non-null object\n",
      "gilded                             1243213 non-null int64\n",
      "gildings                           1243213 non-null object\n",
      "id                                 1243213 non-null object\n",
      "is_submitter                       1243213 non-null bool\n",
      "link_id                            1243213 non-null object\n",
      "locked                             1243213 non-null bool\n",
      "no_follow                          1243213 non-null bool\n",
      "parent_id                          1243213 non-null object\n",
      "permalink                          1243213 non-null object\n",
      "quarantined                        1243213 non-null bool\n",
      "removal_reason                     0 non-null object\n",
      "retrieved_on                       1243213 non-null int64\n",
      "score                              1243213 non-null int64\n",
      "send_replies                       1243213 non-null bool\n",
      "steward_reports                    1243213 non-null object\n",
      "stickied                           1243213 non-null bool\n",
      "subreddit                          1243213 non-null object\n",
      "subreddit_id                       1243213 non-null object\n",
      "subreddit_name_prefixed            1243213 non-null object\n",
      "subreddit_type                     1243213 non-null object\n",
      "total_awards_received              1243213 non-null int64\n",
      "author_cakeday                     3785 non-null object\n",
      "dtypes: bool(9), float64(1), int64(6), object(31)\n",
      "memory usage: 371.1+ MB\n"
     ]
    }
   ],
   "source": [
    "df.info()"
   ]
  },
  {
   "cell_type": "code",
   "execution_count": null,
   "metadata": {},
   "outputs": [],
   "source": []
  }
 ],
 "metadata": {
  "kernelspec": {
   "display_name": "Python 3",
   "language": "python",
   "name": "python3"
  },
  "language_info": {
   "codemirror_mode": {
    "name": "ipython",
    "version": 3
   },
   "file_extension": ".py",
   "mimetype": "text/x-python",
   "name": "python",
   "nbconvert_exporter": "python",
   "pygments_lexer": "ipython3",
   "version": "3.6.9"
  }
 },
 "nbformat": 4,
 "nbformat_minor": 4
}
