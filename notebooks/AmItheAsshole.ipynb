{
 "cells": [
  {
   "cell_type": "markdown",
   "metadata": {},
   "source": [
    "# Am I the AHole Dataset Construction\n",
    "\n",
    "Constructing datasets for the AITA subreddit as an exercise using AllenNLP."
   ]
  },
  {
   "cell_type": "code",
   "execution_count": 1,
   "metadata": {
    "ExecuteTime": {
     "end_time": "2020-02-09T13:20:53.754551Z",
     "start_time": "2020-02-09T13:20:53.190699Z"
    }
   },
   "outputs": [
    {
     "name": "stderr",
     "output_type": "stream",
     "text": [
      "/Library/Frameworks/Python.framework/Versions/3.7/lib/python3.7/site-packages/tqdm/std.py:658: FutureWarning: The Panel class is removed from pandas. Accessing it from the top-level namespace will also be removed in the next version\n",
      "  from pandas import Panel\n"
     ]
    }
   ],
   "source": [
    "import sys\n",
    "sys.path.append('.')\n",
    "sys.path.append('..')\n",
    "\n",
    "from subreddit_frequency import load_dataframe_from_jsonl\n",
    "from tqdm import tqdm\n",
    "tqdm.pandas()\n",
    "\n",
    "import seaborn as sns\n",
    "from datetime import datetime\n",
    "sns.set('paper')\n",
    "\n",
    "from ipywidgets import interact\n",
    "import pandas as pd\n",
    "from pathlib import Path\n",
    "from matplotlib import pyplot as plt"
   ]
  },
  {
   "cell_type": "markdown",
   "metadata": {},
   "source": [
    "## Data Loading\n",
    "\n",
    "Loads the data from sharded files, need to rebuild and concatonate.\n",
    "May take up a lot of memory, so runon a computer with enough RAM."
   ]
  },
  {
   "cell_type": "code",
   "execution_count": 2,
   "metadata": {
    "ExecuteTime": {
     "end_time": "2020-02-09T13:20:56.654966Z",
     "start_time": "2020-02-09T13:20:56.116784Z"
    }
   },
   "outputs": [
    {
     "name": "stderr",
     "output_type": "stream",
     "text": [
      "7561it [00:00, 22781.51it/s]\n"
     ]
    }
   ],
   "source": [
    "submissions_df = pd.concat([\n",
    "    load_dataframe_from_jsonl(a)\n",
    "    for a in Path(\"../data\").glob(\"RS_*\")\n",
    "],axis=0)"
   ]
  },
  {
   "cell_type": "code",
   "execution_count": 3,
   "metadata": {
    "ExecuteTime": {
     "end_time": "2020-02-09T13:21:07.468082Z",
     "start_time": "2020-02-09T13:20:58.534012Z"
    }
   },
   "outputs": [
    {
     "name": "stderr",
     "output_type": "stream",
     "text": [
      "209347it [00:05, 36353.70it/s]\n"
     ]
    }
   ],
   "source": [
    "comments_df = pd.concat([\n",
    "    load_dataframe_from_jsonl(a)\n",
    "    for a in Path(\"../data\").glob(\"RC_*\")\n",
    "],axis=0)"
   ]
  },
  {
   "cell_type": "markdown",
   "metadata": {},
   "source": [
    "## Dataset Statistics"
   ]
  },
  {
   "cell_type": "code",
   "execution_count": 4,
   "metadata": {
    "ExecuteTime": {
     "end_time": "2020-02-09T13:21:16.946945Z",
     "start_time": "2020-02-09T13:21:10.852602Z"
    }
   },
   "outputs": [
    {
     "data": {
      "image/png": "[encoded data removed]",
      "text/plain": [
       "<Figure size 432x288 with 1 Axes>"
      ]
     },
     "metadata": {
      "needs_background": "light"
     },
     "output_type": "display_data"
    }
   ],
   "source": [
    "#print(comments_df.created_utc.conve.describe())\n",
    "sns.distplot(submissions_df.num_comments,bins=5000, kde=True);\n",
    "plt.xlim(0,200)\n",
    "plt.show()"
   ]
  },
  {
   "cell_type": "code",
   "execution_count": 5,
   "metadata": {
    "ExecuteTime": {
     "end_time": "2020-02-09T13:21:28.636465Z",
     "start_time": "2020-02-09T13:21:28.628383Z"
    }
   },
   "outputs": [
    {
     "data": {
      "text/plain": [
       "count     7561.000000\n",
       "mean        58.649253\n",
       "std        531.442131\n",
       "min          0.000000\n",
       "25%          1.000000\n",
       "50%          2.000000\n",
       "75%          7.000000\n",
       "max      17150.000000\n",
       "Name: score, dtype: float64"
      ]
     },
     "execution_count": 5,
     "metadata": {},
     "output_type": "execute_result"
    }
   ],
   "source": [
    "submissions_df.score.describe()"
   ]
  },
  {
   "cell_type": "code",
   "execution_count": 7,
   "metadata": {
    "ExecuteTime": {
     "end_time": "2020-02-09T13:21:58.871049Z",
     "start_time": "2020-02-09T13:21:58.291997Z"
    }
   },
   "outputs": [
    {
     "data": {
      "image/png": "[encoded data removed]",
      "text/plain": [
       "<Figure size 432x288 with 1 Axes>"
      ]
     },
     "metadata": {
      "needs_background": "light"
     },
     "output_type": "display_data"
    }
   ],
   "source": [
    "sns.regplot(x='score', y='num_comments', data=submissions_df)\n",
    "plt.show()"
   ]
  },
  {
   "cell_type": "markdown",
   "metadata": {},
   "source": [
    "Preprocess the comment to have:\n",
    "* the id of the previous post that it is a comment to\n",
    "* the absolute value of the score"
   ]
  },
  {
   "cell_type": "markdown",
   "metadata": {},
   "source": [
    "## Helper Functions\n",
    "\n",
    "Helper functions to:\n",
    "1. Get comments from ID\n",
    "2. Determine if someone is an AH"
   ]
  },
  {
   "cell_type": "code",
   "execution_count": 8,
   "metadata": {
    "ExecuteTime": {
     "end_time": "2020-02-09T13:22:00.406886Z",
     "start_time": "2020-02-09T13:22:00.403679Z"
    }
   },
   "outputs": [],
   "source": [
    "def get_comments_from_id(df, parent_id):\n",
    "    cols = ['author_flair_text', 'stickied', 'author', 'body', 'score', 'score_abs', 'judgement']\n",
    "    return df[df.prev_id == parent_id][cols]"
   ]
  },
  {
   "cell_type": "code",
   "execution_count": 9,
   "metadata": {
    "ExecuteTime": {
     "end_time": "2020-02-09T13:22:01.144075Z",
     "start_time": "2020-02-09T13:22:01.139734Z"
    }
   },
   "outputs": [],
   "source": [
    "def determine_AH(body):\n",
    "    \"\"\"Determines if poster thinks asshole or not asshole.\"\"\"\n",
    "    if body.startswith(\"YTA\"):\n",
    "        return \"YTA\"\n",
    "    elif body.startswith(\"ESH\"):\n",
    "        return \"ESH\"\n",
    "    elif body.startswith(\"NAH\"):\n",
    "        return \"NAH\"\n",
    "    elif body.startswith(\"NTA\"):\n",
    "        return \"NTA\"\n",
    "    else:\n",
    "        return \"UNK\""
   ]
  },
  {
   "cell_type": "code",
   "execution_count": 95,
   "metadata": {
    "ExecuteTime": {
     "end_time": "2020-02-09T14:16:42.533138Z",
     "start_time": "2020-02-09T14:16:42.185024Z"
    }
   },
   "outputs": [],
   "source": [
    "comments_df['prev_id'] = comments_df.parent_id.map(lambda x: x.split('_')[-1])\n",
    "comments_df['score_abs'] = comments_df.score.map(abs)\n",
    "comments_df['judgement'] = comments_df.body.map(determine_AH)\n",
    "submissions_df['timestamp'] = submissions_df.created_utc.map(datetime.fromtimestamp)\n",
    "submissions_df = submissions_df.sort_values('num_comments', ascending=False)"
   ]
  },
  {
   "cell_type": "markdown",
   "metadata": {},
   "source": [
    "Only get the most popular titles with the highest number of comments."
   ]
  },
  {
   "cell_type": "code",
   "execution_count": 96,
   "metadata": {
    "ExecuteTime": {
     "end_time": "2020-02-09T14:16:44.781623Z",
     "start_time": "2020-02-09T14:16:44.776295Z"
    }
   },
   "outputs": [],
   "source": [
    "pd.set_option('display.max_rows', 500)\n",
    "good_submissions_df = submissions_df[submissions_df.num_comments > 30]"
   ]
  },
  {
   "cell_type": "code",
   "execution_count": 97,
   "metadata": {
    "ExecuteTime": {
     "end_time": "2020-02-09T14:16:45.788170Z",
     "start_time": "2020-02-09T14:16:45.784560Z"
    }
   },
   "outputs": [
    {
     "data": {
      "text/plain": [
       "1072"
      ]
     },
     "execution_count": 97,
     "metadata": {},
     "output_type": "execute_result"
    }
   ],
   "source": [
    "len(good_submissions_df)"
   ]
  },
  {
   "cell_type": "code",
   "execution_count": 98,
   "metadata": {
    "ExecuteTime": {
     "end_time": "2020-02-09T14:16:47.038852Z",
     "start_time": "2020-02-09T14:16:47.032321Z"
    }
   },
   "outputs": [
    {
     "data": {
      "text/plain": [
       "['AITA for being mad at my boyfriend for getting a lap dance?',\n",
       " \"AITA for not wanting to pay for my stepkid's education despite paying for my own kid?\",\n",
       " 'AITA for telling my husband he needs to box up his deceased wife’s stuff so we can move into their old bedroom?',\n",
       " \"AITA for breaking up with my SO who revealed they're trans\",\n",
       " 'AITA for not wanting a kid that could potential go blind at age 20?']"
      ]
     },
     "metadata": {},
     "output_type": "display_data"
    },
    {
     "data": {
      "text/plain": [
       "['a4wgq8', 'a9nsfg', 'a3ix8x', 'aa35ws', 'a2dzn2']"
      ]
     },
     "metadata": {},
     "output_type": "display_data"
    }
   ],
   "source": [
    "display(list(good_submissions_df.head().title))\n",
    "display(list(good_submissions_df.head().id))"
   ]
  },
  {
   "cell_type": "markdown",
   "metadata": {},
   "source": [
    "For matching, filter by if the comment actually makes a judgement."
   ]
  },
  {
   "cell_type": "code",
   "execution_count": 99,
   "metadata": {
    "ExecuteTime": {
     "end_time": "2020-02-09T14:16:53.135871Z",
     "start_time": "2020-02-09T14:16:53.112377Z"
    }
   },
   "outputs": [
    {
     "data": {
      "text/plain": [
       "UNK    141574\n",
       "NTA     40233\n",
       "YTA     18541\n",
       "ESH      4590\n",
       "NAH      4409\n",
       "Name: judgement, dtype: int64"
      ]
     },
     "execution_count": 99,
     "metadata": {},
     "output_type": "execute_result"
    }
   ],
   "source": [
    "comments_df.judgement.value_counts()"
   ]
  },
  {
   "cell_type": "code",
   "execution_count": 136,
   "metadata": {
    "ExecuteTime": {
     "end_time": "2020-02-09T14:33:12.232945Z",
     "start_time": "2020-02-09T14:33:11.663170Z"
    }
   },
   "outputs": [],
   "source": [
    "# Determine label and label_fine for each prev_id\n",
    "judgement_df = comments_df[comments_df.judgement != \"UNK\"].reset_index()\n",
    "for judge in judgement_df.judgement.unique():\n",
    "    judgement_df[judge] = (judgement_df.judgement == judge).astype(int)\n",
    "count_df = judgement_df.groupby(['prev_id'])[judgement_df.judgement.unique()].sum()\n",
    "count_df['label_fine'] = count_df.apply(lambda x : dict(x), axis=1)\n",
    "count_df['label'] = count_df[judgement_df.judgement.unique()].idxmax(axis=1)\n",
    "count_df['id'] = count_df.index"
   ]
  },
  {
   "cell_type": "code",
   "execution_count": 140,
   "metadata": {
    "ExecuteTime": {
     "end_time": "2020-02-09T14:35:21.092044Z",
     "start_time": "2020-02-09T14:35:21.055208Z"
    }
   },
   "outputs": [],
   "source": [
    "good_submissions_df = good_submissions_df.merge(count_df[['label', 'label_fine', 'id']], left_on='id', right_on='id')"
   ]
  },
  {
   "cell_type": "markdown",
   "metadata": {},
   "source": [
    "When the mode is returned, there will sometimes be ties.\n",
    "So let's get rid of the ties."
   ]
  },
  {
   "cell_type": "code",
   "execution_count": 142,
   "metadata": {
    "ExecuteTime": {
     "end_time": "2020-02-09T14:35:46.150890Z",
     "start_time": "2020-02-09T14:35:46.142808Z"
    }
   },
   "outputs": [
    {
     "data": {
      "text/plain": [
       "0    a4wgq8\n",
       "1    a9nsfg\n",
       "2    a3ix8x\n",
       "3    aa35ws\n",
       "4    a2dzn2\n",
       "Name: id, dtype: object"
      ]
     },
     "execution_count": 142,
     "metadata": {},
     "output_type": "execute_result"
    }
   ],
   "source": [
    "good_submissions_df.head().id"
   ]
  },
  {
   "cell_type": "code",
   "execution_count": 144,
   "metadata": {
    "ExecuteTime": {
     "end_time": "2020-02-09T14:35:56.661036Z",
     "start_time": "2020-02-09T14:35:56.655280Z"
    }
   },
   "outputs": [
    {
     "data": {
      "text/plain": [
       "NTA    633\n",
       "YTA    377\n",
       "ESH     29\n",
       "NAH     25\n",
       "Name: label, dtype: int64"
      ]
     },
     "execution_count": 144,
     "metadata": {},
     "output_type": "execute_result"
    }
   ],
   "source": [
    "good_submissions_df.label.value_counts()"
   ]
  },
  {
   "cell_type": "code",
   "execution_count": null,
   "metadata": {},
   "outputs": [],
   "source": [
    "pd.set_option('display.max_rows', None)\n",
    "pd.set_option('display.max_columns', None)\n",
    "pd.set_option('display.width', None)\n",
    "good_submissions_df[['title', 'label']].head()\n",
    "print(good_submissions_df[good_submissions_df.label == 'UNK'].title)"
   ]
  },
  {
   "cell_type": "code",
   "execution_count": null,
   "metadata": {},
   "outputs": [],
   "source": [
    "comments_df.head()"
   ]
  },
  {
   "cell_type": "code",
   "execution_count": null,
   "metadata": {},
   "outputs": [],
   "source": [
    "label_counts = good_submissions_df.label.value_counts().to_frame()\n",
    "label_counts.columns = ['counts']\n",
    "label_counts['label'] = label_counts.index\n",
    "sns.barplot(y='label', x='counts', data=label_counts)\n",
    "plt.plot()"
   ]
  },
  {
   "cell_type": "markdown",
   "metadata": {},
   "source": [
    "## Train Test Split\n",
    "\n",
    "Eliminates the posts that have an unknown label, and splits our huge dataset into a train/val/test split."
   ]
  },
  {
   "cell_type": "code",
   "execution_count": 47,
   "metadata": {
    "ExecuteTime": {
     "end_time": "2020-02-09T01:25:29.956759Z",
     "start_time": "2020-02-09T01:25:29.701904Z"
    }
   },
   "outputs": [],
   "source": [
    "dataset_df = good_submissions_df[good_submissions_df.label != 'UNK']"
   ]
  },
  {
   "cell_type": "code",
   "execution_count": 48,
   "metadata": {
    "ExecuteTime": {
     "end_time": "2020-02-09T01:25:30.287066Z",
     "start_time": "2020-02-09T01:25:30.268706Z"
    }
   },
   "outputs": [],
   "source": [
    "test_dataset_df = dataset_df.sample(frac=0.1)"
   ]
  },
  {
   "cell_type": "code",
   "execution_count": 49,
   "metadata": {
    "ExecuteTime": {
     "end_time": "2020-02-09T01:25:31.308397Z",
     "start_time": "2020-02-09T01:25:31.239919Z"
    }
   },
   "outputs": [],
   "source": [
    "traindev_dataset_df = dataset_df.drop(test_dataset_df.index)"
   ]
  },
  {
   "cell_type": "code",
   "execution_count": 50,
   "metadata": {
    "ExecuteTime": {
     "end_time": "2020-02-09T01:25:31.953064Z",
     "start_time": "2020-02-09T01:25:31.874146Z"
    }
   },
   "outputs": [],
   "source": [
    "train_dataset_df = traindev_dataset_df.sample(frac=0.8)\n",
    "dev_dataset_df = traindev_dataset_df.drop(train_dataset_df.index)"
   ]
  },
  {
   "cell_type": "code",
   "execution_count": 51,
   "metadata": {
    "ExecuteTime": {
     "end_time": "2020-02-09T01:25:32.944093Z",
     "start_time": "2020-02-09T01:25:32.599949Z"
    }
   },
   "outputs": [],
   "source": [
    "dev_dataset_df.to_pickle('../aita/aita-dev.pkl')\n",
    "train_dataset_df.to_pickle('../aita/aita-train.pkl')\n",
    "test_dataset_df.to_pickle('../aita/aita-test.pkl')"
   ]
  },
  {
   "cell_type": "code",
   "execution_count": null,
   "metadata": {},
   "outputs": [],
   "source": []
  }
 ],
 "metadata": {
  "kernelspec": {
   "display_name": "Python 3",
   "language": "python",
   "name": "python3"
  },
  "language_info": {
   "codemirror_mode": {
    "name": "ipython",
    "version": 3
   },
   "file_extension": ".py",
   "mimetype": "text/x-python",
   "name": "python",
   "nbconvert_exporter": "python",
   "pygments_lexer": "ipython3",
   "version": "3.7.3"
  },
  "latex_envs": {
   "LaTeX_envs_menu_present": true,
   "autoclose": false,
   "autocomplete": true,
   "bibliofile": "biblio.bib",
   "cite_by": "apalike",
   "current_citInitial": 1,
   "eqLabelWithNumbers": true,
   "eqNumInitial": 1,
   "hotkeys": {
    "equation": "Ctrl-E",
    "itemize": "Ctrl-I"
   },
   "labels_anchors": false,
   "latex_user_defs": false,
   "report_style_numbering": false,
   "user_envs_cfg": false
  },
  "toc": {
   "base_numbering": 1,
   "nav_menu": {},
   "number_sections": true,
   "sideBar": true,
   "skip_h1_title": false,
   "title_cell": "Table of Contents",
   "title_sidebar": "Contents",
   "toc_cell": false,
   "toc_position": {},
   "toc_section_display": true,
   "toc_window_display": false
  }
 },
 "nbformat": 4,
 "nbformat_minor": 4
}
