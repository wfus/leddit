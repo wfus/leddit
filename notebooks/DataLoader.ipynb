{
 "cells": [
  {
   "cell_type": "markdown",
   "metadata": {
    "toc": true
   },
   "source": [
    "<h1>Table of Contents<span class=\"tocSkip\"></span></h1>\n",
    "<div class=\"toc\"><ul class=\"toc-item\"></ul></div>"
   ]
  },
  {
   "cell_type": "code",
   "execution_count": 1,
   "metadata": {
    "ExecuteTime": {
     "end_time": "2020-03-15T21:49:59.029516Z",
     "start_time": "2020-03-15T21:49:55.984291Z"
    }
   },
   "outputs": [
    {
     "name": "stderr",
     "output_type": "stream",
     "text": [
      "I0315 14:49:57.451073 140602649925440 file_utils.py:38] PyTorch version 1.4.0 available.\n"
     ]
    }
   ],
   "source": [
    "from overrides import overrides\n",
    "from typing import List, Sequence, Iterable, Tuple, Dict\n",
    "\n",
    "from allennlp.common.checks import ConfigurationError\n",
    "from allennlp.common.file_utils import cached_path\n",
    "from allennlp.data.dataset_readers.dataset_reader import DatasetReader\n",
    "from allennlp.data.fields import LabelField, TextField, ArrayField\n",
    "from allennlp.data.instance import Instance\n",
    "from allennlp.data.tokenizers import Tokenizer, SpacyTokenizer\n",
    "from allennlp.data.tokenizers import PretrainedTransformerTokenizer\n",
    "from allennlp.data.token_indexers import TokenIndexer, SingleIdTokenIndexer\n",
    "from allennlp.data.tokenizers import Token\n",
    "from sklearn.utils import resample\n",
    "\n",
    "import pandas as pd"
   ]
  },
  {
   "cell_type": "code",
   "execution_count": 3,
   "metadata": {
    "ExecuteTime": {
     "end_time": "2020-03-15T21:50:04.392268Z",
     "start_time": "2020-03-15T21:50:04.385767Z"
    }
   },
   "outputs": [],
   "source": [
    "import sys\n",
    "sys.path.append('..')\n",
    "import aita.AITAReader"
   ]
  },
  {
   "cell_type": "code",
   "execution_count": 11,
   "metadata": {
    "ExecuteTime": {
     "end_time": "2020-03-15T21:51:35.879948Z",
     "start_time": "2020-03-15T21:51:34.499152Z"
    }
   },
   "outputs": [],
   "source": [
    "import logging\n",
    "logger = logging.getLogger()\n",
    "logger.setLevel(logging.WARNING)\n",
    "tokenizer = PretrainedTransformerTokenizer('roberta-base', max_length=128)"
   ]
  },
  {
   "cell_type": "code",
   "execution_count": 13,
   "metadata": {
    "ExecuteTime": {
     "end_time": "2020-03-15T21:51:46.834864Z",
     "start_time": "2020-03-15T21:51:46.828898Z"
    }
   },
   "outputs": [],
   "source": [
    "reader = aita.AITAReader.AITATestReader(tokenizer, two_classes=True)"
   ]
  },
  {
   "cell_type": "code",
   "execution_count": 19,
   "metadata": {
    "ExecuteTime": {
     "end_time": "2020-03-15T21:52:53.014978Z",
     "start_time": "2020-03-15T21:52:52.626332Z"
    }
   },
   "outputs": [
    {
     "data": {
      "application/vnd.jupyter.widget-view+json": {
       "model_id": "0ab7dd16bb0e4a52bf4ba6cb36f15a3f",
       "version_major": 2,
       "version_minor": 0
      },
      "text/plain": [
       "HBox(children=(FloatProgress(value=1.0, bar_style='info', max=1.0), HTML(value='')))"
      ]
     },
     "metadata": {},
     "output_type": "display_data"
    },
    {
     "name": "stderr",
     "output_type": "stream",
     "text": [
      "I0315 14:52:52.680950 140602649925440 AITAReader.py:238] Label Initial Counts\n",
      "I0315 14:52:52.686344 140602649925440 AITAReader.py:239] NTA    35\n",
      "YTA    21\n",
      "NAH     2\n",
      "Name: label, dtype: int64\n",
      "I0315 14:52:52.688386 140602649925440 AITAReader.py:243] Simplifying dataset to only use 2 classes\n",
      "I0315 14:52:52.689343 140602649925440 AITAReader.py:244] Using classes: ['NTA', 'YTA']\n",
      "I0315 14:52:52.693876 140602649925440 AITAReader.py:247] Resampling labels, since resample_labels was set to true.\n",
      "I0315 14:52:52.732476 140602649925440 AITAReader.py:260] New label sampling is:\n",
      "I0315 14:52:52.735882 140602649925440 AITAReader.py:261] YTA    35\n",
      "NTA    35\n",
      "Name: label, dtype: int64\n"
     ]
    },
    {
     "name": "stdout",
     "output_type": "stream",
     "text": [
      "\n"
     ]
    }
   ],
   "source": [
    "import logging\n",
    "logger = logging.getLogger()\n",
    "logger.setLevel(logging.INFO)\n",
    "a = reader.read('../data/aita-tiny-test.pkl')"
   ]
  },
  {
   "cell_type": "code",
   "execution_count": 14,
   "metadata": {
    "ExecuteTime": {
     "end_time": "2020-03-15T16:45:33.936986Z",
     "start_time": "2020-03-15T16:45:33.931008Z"
    }
   },
   "outputs": [
    {
     "name": "stdout",
     "output_type": "stream",
     "text": [
      "Help on method tokenize_sentence_pair in module allennlp.data.tokenizers.pretrained_transformer_tokenizer:\n",
      "\n",
      "tokenize_sentence_pair(sentence_1:str, sentence_2:str) -> List[allennlp.data.tokenizers.token.Token] method of allennlp.data.tokenizers.pretrained_transformer_tokenizer.PretrainedTransformerTokenizer instance\n",
      "    This methods properly handles a pair of sentences.\n",
      "\n"
     ]
    }
   ],
   "source": [
    "help(tokenizer.tokenize_sentence_pair)"
   ]
  },
  {
   "cell_type": "code",
   "execution_count": 18,
   "metadata": {
    "ExecuteTime": {
     "end_time": "2020-03-15T16:47:33.951094Z",
     "start_time": "2020-03-15T16:47:33.930253Z"
    }
   },
   "outputs": [
    {
     "ename": "TypeError",
     "evalue": "tokenize() takes 2 positional arguments but 3 were given",
     "output_type": "error",
     "traceback": [
      "\u001b[0;31m---------------------------------------------------------------------------\u001b[0m",
      "\u001b[0;31mTypeError\u001b[0m                                 Traceback (most recent call last)",
      "\u001b[0;32m<ipython-input-18-e1550424da32>\u001b[0m in \u001b[0;36m<module>\u001b[0;34m\u001b[0m\n\u001b[0;32m----> 1\u001b[0;31m \u001b[0mtokenizer\u001b[0m\u001b[0;34m.\u001b[0m\u001b[0mtokenize\u001b[0m\u001b[0;34m(\u001b[0m\u001b[0;34m\"Hi \"\u001b[0m \u001b[0;34m*\u001b[0m \u001b[0;36m1000\u001b[0m\u001b[0;34m,\u001b[0m \u001b[0;34m\"Test \"\u001b[0m \u001b[0;34m*\u001b[0m \u001b[0;36m100\u001b[0m\u001b[0;34m)\u001b[0m\u001b[0;34m\u001b[0m\u001b[0;34m\u001b[0m\u001b[0m\n\u001b[0m",
      "\u001b[0;31mTypeError\u001b[0m: tokenize() takes 2 positional arguments but 3 were given"
     ]
    }
   ],
   "source": [
    "tokenizer.tokenize(\"Hi \" * 1000, \"Test \" * 100)"
   ]
  },
  {
   "cell_type": "code",
   "execution_count": null,
   "metadata": {},
   "outputs": [],
   "source": []
  }
 ],
 "metadata": {
  "kernelspec": {
   "display_name": "Python 3",
   "language": "python",
   "name": "python3"
  },
  "language_info": {
   "codemirror_mode": {
    "name": "ipython",
    "version": 3
   },
   "file_extension": ".py",
   "mimetype": "text/x-python",
   "name": "python",
   "nbconvert_exporter": "python",
   "pygments_lexer": "ipython3",
   "version": "3.6.9"
  },
  "latex_envs": {
   "LaTeX_envs_menu_present": true,
   "autoclose": false,
   "autocomplete": true,
   "bibliofile": "biblio.bib",
   "cite_by": "apalike",
   "current_citInitial": 1,
   "eqLabelWithNumbers": true,
   "eqNumInitial": 1,
   "hotkeys": {
    "equation": "Ctrl-E",
    "itemize": "Ctrl-I"
   },
   "labels_anchors": false,
   "latex_user_defs": false,
   "report_style_numbering": false,
   "user_envs_cfg": false
  },
  "toc": {
   "base_numbering": 1,
   "nav_menu": {},
   "number_sections": true,
   "sideBar": true,
   "skip_h1_title": false,
   "title_cell": "Table of Contents",
   "title_sidebar": "Contents",
   "toc_cell": true,
   "toc_position": {},
   "toc_section_display": true,
   "toc_window_display": false
  }
 },
 "nbformat": 4,
 "nbformat_minor": 2
}
