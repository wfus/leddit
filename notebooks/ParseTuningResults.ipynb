{
 "cells": [
  {
   "cell_type": "code",
   "execution_count": 6,
   "metadata": {
    "ExecuteTime": {
     "end_time": "2020-03-19T21:39:11.282318Z",
     "start_time": "2020-03-19T21:39:11.278119Z"
    }
   },
   "outputs": [],
   "source": [
    "from pathlib import Path\n",
    "import numpy as np\n",
    "import pandas as pd\n",
    "import json"
   ]
  },
  {
   "cell_type": "code",
   "execution_count": 3,
   "metadata": {
    "ExecuteTime": {
     "end_time": "2020-03-19T21:38:39.667818Z",
     "start_time": "2020-03-19T21:38:39.663350Z"
    }
   },
   "outputs": [],
   "source": [
    "log_dir = (Path.cwd().parent / 'logs')\n",
    "record_path = log_dir / \"twoclass_tuning\" / \"results.jsonl\""
   ]
  },
  {
   "cell_type": "code",
   "execution_count": 8,
   "metadata": {
    "ExecuteTime": {
     "end_time": "2020-03-19T21:39:58.028742Z",
     "start_time": "2020-03-19T21:39:58.009193Z"
    }
   },
   "outputs": [],
   "source": [
    "df = pd.DataFrame([\n",
    "    json.loads(a) for a in record_path.read_text().split('\\n')\n",
    "])"
   ]
  },
  {
   "cell_type": "code",
   "execution_count": 10,
   "metadata": {
    "ExecuteTime": {
     "end_time": "2020-03-19T21:40:25.983620Z",
     "start_time": "2020-03-19T21:40:25.951869Z"
    }
   },
   "outputs": [
    {
     "name": "stdout",
     "output_type": "stream",
     "text": [
      "<class 'pandas.core.frame.DataFrame'>\n",
      "RangeIndex: 22 entries, 0 to 21\n",
      "Data columns (total 52 columns):\n",
      " #   Column                                                       Non-Null Count  Dtype  \n",
      "---  ------                                                       --------------  -----  \n",
      " 0   training_epochs                                              22 non-null     int64  \n",
      " 1   peak_cpu_memory_MB                                           22 non-null     float64\n",
      " 2   validation_data_path                                         22 non-null     object \n",
      " 3   numpy_seed                                                   22 non-null     object \n",
      " 4   train_data_path                                              22 non-null     object \n",
      " 5   training_accuracy                                            22 non-null     float64\n",
      " 6   training_cpu_memory_MB                                       22 non-null     float64\n",
      " 7   best_epoch                                                   22 non-null     int64  \n",
      " 8   epoch                                                        22 non-null     int64  \n",
      " 9   random_seed                                                  22 non-null     object \n",
      " 10  training_duration                                            22 non-null     float64\n",
      " 11  validation_accuracy                                          22 non-null     float64\n",
      " 12  training_loss                                                22 non-null     float64\n",
      " 13  training_gpu_0_memory_MB                                     22 non-null     int64  \n",
      " 14  directory                                                    22 non-null     object \n",
      " 15  pytorch_seed                                                 22 non-null     object \n",
      " 16  peak_gpu_0_memory_MB                                         22 non-null     int64  \n",
      " 17  training_start_epoch                                         22 non-null     int64  \n",
      " 18  test_data_path                                               22 non-null     object \n",
      " 19  best_validation_accuracy                                     22 non-null     float64\n",
      " 20  best_validation_loss                                         22 non-null     float64\n",
      " 21  validation_loss                                              22 non-null     float64\n",
      " 22  dataset_reader.type                                          22 non-null     object \n",
      " 23  dataset_reader.token_indexers.tokens.type                    22 non-null     object \n",
      " 24  dataset_reader.token_indexers.tokens.max_length              22 non-null     int64  \n",
      " 25  dataset_reader.token_indexers.tokens.model_name              22 non-null     object \n",
      " 26  dataset_reader.tokenizer.type                                22 non-null     object \n",
      " 27  dataset_reader.tokenizer.max_length                          22 non-null     int64  \n",
      " 28  dataset_reader.tokenizer.model_name                          22 non-null     object \n",
      " 29  dataset_reader.two_classes                                   22 non-null     bool   \n",
      " 30  trainer.cuda_device                                          22 non-null     int64  \n",
      " 31  trainer.learning_rate_scheduler.type                         22 non-null     object \n",
      " 32  trainer.learning_rate_scheduler.cut_frac                     22 non-null     float64\n",
      " 33  trainer.num_epochs                                           22 non-null     int64  \n",
      " 34  trainer.optimizer.type                                       22 non-null     object \n",
      " 35  trainer.optimizer.lr                                         22 non-null     float64\n",
      " 36  trainer.optimizer.weight_decay                               22 non-null     float64\n",
      " 37  trainer.validation_metric                                    22 non-null     object \n",
      " 38  data_loader.batch_sampler.type                               22 non-null     object \n",
      " 39  data_loader.batch_sampler.batch_size                         22 non-null     int64  \n",
      " 40  model.type                                                   22 non-null     object \n",
      " 41  model.dropout                                                22 non-null     float64\n",
      " 42  model.feedforward.activations                                22 non-null     object \n",
      " 43  model.feedforward.hidden_dims                                22 non-null     object \n",
      " 44  model.feedforward.input_dim                                  22 non-null     int64  \n",
      " 45  model.feedforward.num_layers                                 22 non-null     int64  \n",
      " 46  model.seq2vec_encoder.type                                   22 non-null     object \n",
      " 47  model.seq2vec_encoder.cls_is_last_token                      22 non-null     bool   \n",
      " 48  model.seq2vec_encoder.embedding_dim                          22 non-null     int64  \n",
      " 49  model.text_field_embedder.token_embedders.tokens.type        22 non-null     object \n",
      " 50  model.text_field_embedder.token_embedders.tokens.max_length  22 non-null     int64  \n",
      " 51  model.text_field_embedder.token_embedders.tokens.model_name  22 non-null     object \n",
      "dtypes: bool(2), float64(13), int64(15), object(22)\n",
      "memory usage: 8.8+ KB\n"
     ]
    }
   ],
   "source": [
    "df.info()"
   ]
  },
  {
   "cell_type": "code",
   "execution_count": 17,
   "metadata": {
    "ExecuteTime": {
     "end_time": "2020-03-19T21:41:58.711347Z",
     "start_time": "2020-03-19T21:41:58.705163Z"
    }
   },
   "outputs": [],
   "source": [
    "df = df.sort_values('best_validation_accuracy', ascending=False)"
   ]
  },
  {
   "cell_type": "code",
   "execution_count": 18,
   "metadata": {
    "ExecuteTime": {
     "end_time": "2020-03-19T21:41:59.362131Z",
     "start_time": "2020-03-19T21:41:59.347955Z"
    }
   },
   "outputs": [
    {
     "data": {
      "text/html": [
       "<div>\n",
       "<style scoped>\n",
       "    .dataframe tbody tr th:only-of-type {\n",
       "        vertical-align: middle;\n",
       "    }\n",
       "\n",
       "    .dataframe tbody tr th {\n",
       "        vertical-align: top;\n",
       "    }\n",
       "\n",
       "    .dataframe thead th {\n",
       "        text-align: right;\n",
       "    }\n",
       "</style>\n",
       "<table border=\"1\" class=\"dataframe\">\n",
       "  <thead>\n",
       "    <tr style=\"text-align: right;\">\n",
       "      <th></th>\n",
       "      <th>best_validation_accuracy</th>\n",
       "    </tr>\n",
       "  </thead>\n",
       "  <tbody>\n",
       "    <tr>\n",
       "      <th>2</th>\n",
       "      <td>0.638961</td>\n",
       "    </tr>\n",
       "    <tr>\n",
       "      <th>21</th>\n",
       "      <td>0.636540</td>\n",
       "    </tr>\n",
       "    <tr>\n",
       "      <th>3</th>\n",
       "      <td>0.635571</td>\n",
       "    </tr>\n",
       "    <tr>\n",
       "      <th>9</th>\n",
       "      <td>0.631536</td>\n",
       "    </tr>\n",
       "    <tr>\n",
       "      <th>1</th>\n",
       "      <td>0.619916</td>\n",
       "    </tr>\n",
       "  </tbody>\n",
       "</table>\n",
       "</div>"
      ],
      "text/plain": [
       "    best_validation_accuracy\n",
       "2                   0.638961\n",
       "21                  0.636540\n",
       "3                   0.635571\n",
       "9                   0.631536\n",
       "1                   0.619916"
      ]
     },
     "execution_count": 18,
     "metadata": {},
     "output_type": "execute_result"
    }
   ],
   "source": [
    "df.head()[['best_validation_accuracy']]"
   ]
  },
  {
   "cell_type": "code",
   "execution_count": null,
   "metadata": {},
   "outputs": [],
   "source": []
  }
 ],
 "metadata": {
  "kernelspec": {
   "display_name": "Python 3",
   "language": "python",
   "name": "python3"
  },
  "language_info": {
   "codemirror_mode": {
    "name": "ipython",
    "version": 3
   },
   "file_extension": ".py",
   "mimetype": "text/x-python",
   "name": "python",
   "nbconvert_exporter": "python",
   "pygments_lexer": "ipython3",
   "version": "3.6.9"
  },
  "toc": {
   "base_numbering": 1,
   "nav_menu": {},
   "number_sections": true,
   "sideBar": true,
   "skip_h1_title": false,
   "title_cell": "Table of Contents",
   "title_sidebar": "Contents",
   "toc_cell": false,
   "toc_position": {},
   "toc_section_display": true,
   "toc_window_display": false
  }
 },
 "nbformat": 4,
 "nbformat_minor": 4
}
