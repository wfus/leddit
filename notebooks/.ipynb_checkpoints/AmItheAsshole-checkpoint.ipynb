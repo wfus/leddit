{
 "cells": [
  {
   "cell_type": "code",
   "execution_count": 39,
   "metadata": {},
   "outputs": [],
   "source": [
    "import sys\n",
    "sys.path.append('.')\n",
    "sys.path.append('..')\n",
    "\n",
    "from subreddit_frequency import load_dataframe_from_jsonl\n",
    "from tqdm import tqdm\n",
    "tqdm.pandas()\n",
    "\n",
    "import seaborn as sns\n",
    "from datetime import datetime\n",
    "sns.set('paper')\n",
    "\n",
    "from ipywidgets import interact\n",
    "import pandas as pd"
   ]
  },
  {
   "cell_type": "code",
   "execution_count": 25,
   "metadata": {},
   "outputs": [
    {
     "name": "stderr",
     "output_type": "stream",
     "text": [
      "1454892it [00:45, 32194.47it/s]\n",
      "34476it [00:01, 24617.49it/s]\n"
     ]
    }
   ],
   "source": [
    "comments_df = load_dataframe_from_jsonl(\"../data/RC_2019-08_AmItheAsshole.dump\")\n",
    "submissions_df = load_dataframe_from_jsonl(\"../data/RS_2019-08_AmItheAsshole.dump\")"
   ]
  },
  {
   "cell_type": "markdown",
   "metadata": {},
   "source": [
    "Preprocess the comment to have:\n",
    "* the id of the previous post that it is a comment to\n",
    "* the absolute value of the score"
   ]
  },
  {
   "cell_type": "code",
   "execution_count": 69,
   "metadata": {},
   "outputs": [],
   "source": [
    "def get_comments_from_id(df, parent_id):\n",
    "    cols = ['author_flair_text', 'stickied', 'author', 'body', 'score', 'score_abs', 'judgement']\n",
    "    return df[df.prev_id == parent_id][cols]"
   ]
  },
  {
   "cell_type": "code",
   "execution_count": 70,
   "metadata": {},
   "outputs": [],
   "source": [
    "def determine_AH(body):\n",
    "    \"\"\"Determines if poster thinks asshole or not asshole.\"\"\"\n",
    "    if body.startswith(\"YTA\"):\n",
    "        return \"YTA\"\n",
    "    elif body.startswith(\"ESH\"):\n",
    "        return \"ESH\"\n",
    "    elif body.startswith(\"NAH\"):\n",
    "        return \"NAH\"\n",
    "    else:\n",
    "        return \"UNK\""
   ]
  },
  {
   "cell_type": "code",
   "execution_count": 71,
   "metadata": {},
   "outputs": [],
   "source": [
    "comments_df['prev_id'] = comments_df.parent_id.map(lambda x: x.split('_')[-1])\n",
    "comments_df['score_abs'] = comments_df.score.map(abs)\n",
    "comments_df['judgement'] = comments_df.body.map(determine_AH)\n",
    "submissions_df['timestamp'] = submissions_df.created_utc.map(datetime.fromtimestamp)\n",
    "submissions_df = submissions_df.sort_values('num_comments', ascending=False)"
   ]
  },
  {
   "cell_type": "markdown",
   "metadata": {},
   "source": [
    "Only get the most popular titles with the highest number of comments."
   ]
  },
  {
   "cell_type": "code",
   "execution_count": 72,
   "metadata": {},
   "outputs": [],
   "source": [
    "pd.set_option('display.max_rows', 500)\n",
    "good_submissions_df = submissions_df[['title', 'num_comments', 'id']].head(2000)"
   ]
  },
  {
   "cell_type": "code",
   "execution_count": 73,
   "metadata": {},
   "outputs": [
    {
     "data": {
      "text/plain": [
       "['AITA for refusing to pay back my cousin after my baby ruined her blouse?',\n",
       " 'AITA for wanting my girlfriend to wear makeup and take care of body hair?',\n",
       " 'AITA for telling a friend’s friend that he couldn’t keep the “jackpot” that he hit on my antique slot machine? (About $700)',\n",
       " 'WIBTA if I told a close family friend that her husband cheated on her 4 years ago?',\n",
       " 'AITA for catfishing my underaged sister on Tinder and humiliating her in order to teach her a lesson?']"
      ]
     },
     "metadata": {},
     "output_type": "display_data"
    },
    {
     "data": {
      "text/plain": [
       "['cw43oc', 'cqin60', 'cm0bft', 'cvlkut', 'cn7li5']"
      ]
     },
     "metadata": {},
     "output_type": "display_data"
    }
   ],
   "source": [
    "display(list(good_submissions_df.head().title))\n",
    "display(list(good_submissions_df.head().id))"
   ]
  },
  {
   "cell_type": "code",
   "execution_count": 82,
   "metadata": {},
   "outputs": [],
   "source": [
    "def get_label_from_comments(df):\n",
    "    return df[df.judgement != \"UNK\"].groupby('judgement').score.sum().idxmax()"
   ]
  },
  {
   "cell_type": "code",
   "execution_count": 74,
   "metadata": {},
   "outputs": [],
   "source": [
    "test_df = get_comments_from_id(comments_df, \"cn7li5\").sort_values('score', ascending=False)"
   ]
  },
  {
   "cell_type": "code",
   "execution_count": 81,
   "metadata": {},
   "outputs": [
    {
     "data": {
      "text/plain": [
       "'YTA'"
      ]
     },
     "execution_count": 81,
     "metadata": {},
     "output_type": "execute_result"
    }
   ],
   "source": []
  },
  {
   "cell_type": "code",
   "execution_count": null,
   "metadata": {},
   "outputs": [],
   "source": []
  }
 ],
 "metadata": {
  "kernelspec": {
   "display_name": "Python 3",
   "language": "python",
   "name": "python3"
  },
  "language_info": {
   "codemirror_mode": {
    "name": "ipython",
    "version": 3
   },
   "file_extension": ".py",
   "mimetype": "text/x-python",
   "name": "python",
   "nbconvert_exporter": "python",
   "pygments_lexer": "ipython3",
   "version": "3.6.9"
  }
 },
 "nbformat": 4,
 "nbformat_minor": 4
}
