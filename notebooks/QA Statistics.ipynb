{
 "cells": [
  {
   "cell_type": "markdown",
   "metadata": {
    "toc": true
   },
   "source": [
    "<h1>Table of Contents<span class=\"tocSkip\"></span></h1>\n",
    "<div class=\"toc\"><ul class=\"toc-item\"></ul></div>"
   ]
  },
  {
   "cell_type": "code",
   "execution_count": 1,
   "metadata": {
    "ExecuteTime": {
     "end_time": "2020-03-21T19:57:55.771034Z",
     "start_time": "2020-03-21T19:57:55.179933Z"
    }
   },
   "outputs": [],
   "source": [
    "import pandas as pd\n",
    "from pathlib import Path\n",
    "import seaborn as sns\n",
    "import numpy as np\n",
    "import statsmodels\n",
    "\n",
    "from ipywidgets import interact\n",
    "from IPython.display import display, Markdown, Latex\n",
    "\n",
    "from matplotlib import pyplot as plt"
   ]
  },
  {
   "cell_type": "code",
   "execution_count": 2,
   "metadata": {
    "ExecuteTime": {
     "end_time": "2020-03-21T19:57:55.829682Z",
     "start_time": "2020-03-21T19:57:55.825461Z"
    }
   },
   "outputs": [],
   "source": [
    "data_path = Path.cwd().parent / 'data'"
   ]
  },
  {
   "cell_type": "code",
   "execution_count": 3,
   "metadata": {
    "ExecuteTime": {
     "end_time": "2020-03-21T19:57:56.335588Z",
     "start_time": "2020-03-21T19:57:56.160974Z"
    }
   },
   "outputs": [],
   "source": [
    "df = pd.read_pickle(data_path / \"aita-qa-train.pkl\")"
   ]
  },
  {
   "cell_type": "code",
   "execution_count": 4,
   "metadata": {
    "ExecuteTime": {
     "end_time": "2020-03-21T19:57:56.759575Z",
     "start_time": "2020-03-21T19:57:56.743457Z"
    }
   },
   "outputs": [
    {
     "data": {
      "text/plain": [
       "NTA    6024\n",
       "YTA    3524\n",
       "NAH     700\n",
       "ESH     340\n",
       "Name: label, dtype: int64"
      ]
     },
     "execution_count": 4,
     "metadata": {},
     "output_type": "execute_result"
    }
   ],
   "source": [
    "df.label.value_counts()"
   ]
  },
  {
   "cell_type": "code",
   "execution_count": 5,
   "metadata": {
    "ExecuteTime": {
     "end_time": "2020-03-21T19:57:57.110830Z",
     "start_time": "2020-03-21T19:57:57.095156Z"
    }
   },
   "outputs": [],
   "source": [
    "df['title_lower'] = df.title.map(lambda x: x.lower())"
   ]
  },
  {
   "cell_type": "code",
   "execution_count": 6,
   "metadata": {
    "ExecuteTime": {
     "end_time": "2020-03-21T19:57:57.688357Z",
     "start_time": "2020-03-21T19:57:57.586853Z"
    }
   },
   "outputs": [
    {
     "data": {
      "application/vnd.jupyter.widget-view+json": {
       "model_id": "9aeb1ab787434b3e8914fb6fb599d349",
       "version_major": 2,
       "version_minor": 0
      },
      "text/plain": [
       "interactive(children=(Text(value='', description='filter_words'), Output()), _dom_classes=('widget-interact',)…"
      ]
     },
     "metadata": {},
     "output_type": "display_data"
    }
   ],
   "source": [
    "pd.set_option('display.max_colwidth', 400)\n",
    "\n",
    "@interact\n",
    "def filter_by_keyword(filter_words=\"\"):\n",
    "    plot_df = df\n",
    "    filter_words = [a.strip() for a in filter_words.split(',')]\n",
    "    if len(filter_words) > 0:\n",
    "        plot_df = df[df.title_lower.map(lambda x: any([word in x for word in filter_words]))]\n",
    "    display(Markdown(f\"__Total number found: {len(plot_df)}/{len(df)}__\"))\n",
    "    display(plot_df.head(10)[['title']])"
   ]
  },
  {
   "cell_type": "code",
   "execution_count": 7,
   "metadata": {
    "ExecuteTime": {
     "end_time": "2020-03-21T19:57:58.378866Z",
     "start_time": "2020-03-21T19:57:58.330776Z"
    }
   },
   "outputs": [
    {
     "data": {
      "application/vnd.jupyter.widget-view+json": {
       "model_id": "867129edfd0941a484b8a2785020152d",
       "version_major": 2,
       "version_minor": 0
      },
      "text/plain": [
       "interactive(children=(IntSlider(value=5294, description='idx', max=10588), Output()), _dom_classes=('widget-in…"
      ]
     },
     "metadata": {},
     "output_type": "display_data"
    }
   ],
   "source": [
    "@interact\n",
    "def view_fine(idx=(0, len(df), 1)):\n",
    "    row = df.iloc[idx]\n",
    "    display(Markdown(f\"__{row.title}__\"))\n",
    "    \n",
    "    display(Markdown(f\"*{row.label}*\"))\n",
    "    \n",
    "    \n",
    "    display(Markdown(row.selftext))\n",
    "    \n",
    "    display(Markdown(\"__ARGUMENTS FOR NTA__\"))\n",
    "    for argument in row.nta_list:\n",
    "        display(Markdown(argument))\n",
    "        \n",
    "    display(Markdown(\"__ARGUMENTS FOR YTA__\"))\n",
    "    for argument in row.yta_list:\n",
    "        display(Markdown(argument))"
   ]
  },
  {
   "cell_type": "code",
   "execution_count": 10,
   "metadata": {
    "ExecuteTime": {
     "end_time": "2020-03-21T19:50:56.535250Z",
     "start_time": "2020-03-21T19:50:56.507114Z"
    }
   },
   "outputs": [],
   "source": [
    "df['len_title'] = df.title.map(lambda x: len(x.split()))"
   ]
  },
  {
   "cell_type": "code",
   "execution_count": 11,
   "metadata": {
    "ExecuteTime": {
     "end_time": "2020-03-21T19:50:57.888384Z",
     "start_time": "2020-03-21T19:50:57.721447Z"
    }
   },
   "outputs": [
    {
     "data": {
      "image/png": "[encoded data removed]",
      "text/plain": [
       "<Figure size 432x288 with 1 Axes>"
      ]
     },
     "metadata": {
      "needs_background": "light"
     },
     "output_type": "display_data"
    }
   ],
   "source": [
    "sns.distplot(df.len_title)\n",
    "plt.show()"
   ]
  },
  {
   "cell_type": "code",
   "execution_count": null,
   "metadata": {},
   "outputs": [],
   "source": []
  }
 ],
 "metadata": {
  "kernelspec": {
   "display_name": "Python 3",
   "language": "python",
   "name": "python3"
  },
  "language_info": {
   "codemirror_mode": {
    "name": "ipython",
    "version": 3
   },
   "file_extension": ".py",
   "mimetype": "text/x-python",
   "name": "python",
   "nbconvert_exporter": "python",
   "pygments_lexer": "ipython3",
   "version": "3.6.9"
  },
  "latex_envs": {
   "LaTeX_envs_menu_present": true,
   "autoclose": false,
   "autocomplete": true,
   "bibliofile": "biblio.bib",
   "cite_by": "apalike",
   "current_citInitial": 1,
   "eqLabelWithNumbers": true,
   "eqNumInitial": 1,
   "hotkeys": {
    "equation": "Ctrl-E",
    "itemize": "Ctrl-I"
   },
   "labels_anchors": false,
   "latex_user_defs": false,
   "report_style_numbering": false,
   "user_envs_cfg": false
  },
  "toc": {
   "base_numbering": 1,
   "nav_menu": {},
   "number_sections": true,
   "sideBar": true,
   "skip_h1_title": false,
   "title_cell": "Table of Contents",
   "title_sidebar": "Contents",
   "toc_cell": true,
   "toc_position": {},
   "toc_section_display": true,
   "toc_window_display": false
  }
 },
 "nbformat": 4,
 "nbformat_minor": 2
}
