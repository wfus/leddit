{
 "cells": [
  {
   "cell_type": "markdown",
   "metadata": {},
   "source": [
    "# Reddit /r/Politics trends"
   ]
  },
  {
   "cell_type": "code",
   "execution_count": 23,
   "metadata": {
    "ExecuteTime": {
     "end_time": "2020-02-09T12:39:25.579696Z",
     "start_time": "2020-02-09T12:39:25.574168Z"
    }
   },
   "outputs": [],
   "source": [
    "import sys\n",
    "sys.path.append('.')\n",
    "sys.path.append('..')\n",
    "\n",
    "from subreddit_frequency import load_dataframe_from_jsonl\n",
    "from tqdm import tqdm\n",
    "tqdm.pandas()\n",
    "\n",
    "import seaborn as sns\n",
    "from datetime import datetime\n",
    "sns.set('paper')\n",
    "\n",
    "from ipywidgets import interact\n",
    "import pandas as pd\n",
    "from pathlib import Path\n",
    "from matplotlib import pyplot as plt\n",
    "\n",
    "from dateutil import tz\n",
    "from datetime import datetime"
   ]
  },
  {
   "cell_type": "code",
   "execution_count": 2,
   "metadata": {
    "ExecuteTime": {
     "end_time": "2020-02-09T12:28:10.384250Z",
     "start_time": "2020-02-09T12:27:33.238749Z"
    }
   },
   "outputs": [
    {
     "name": "stderr",
     "output_type": "stream",
     "text": [
      "30953it [00:01, 20071.28it/s]\n",
      "30467it [00:01, 18637.83it/s]\n",
      "0it [00:00, ?it/s]\n",
      "27406it [00:01, 16377.59it/s]\n",
      "27375it [00:00, 29396.55it/s]\n",
      "28643it [00:01, 21100.97it/s]\n",
      "27735it [00:01, 17152.98it/s]\n",
      "7561it [00:00, 22530.16it/s]\n",
      "30027it [00:01, 16958.58it/s]\n",
      "29665it [00:01, 15555.42it/s]\n",
      "6479it [00:00, 20957.93it/s]\n",
      "11577it [00:00, 23761.10it/s]\n",
      "35220it [00:02, 14841.66it/s]\n",
      "34476it [00:01, 29623.58it/s]\n",
      "26443it [00:00, 28260.57it/s]\n",
      "25888it [00:02, 11847.81it/s]\n",
      "406it [00:00, 20091.17it/s]\n",
      "23976it [00:00, 28119.36it/s]\n",
      "15621it [00:00, 26275.26it/s]\n",
      "/home/johnkeszler/anaconda3/lib/python3.7/site-packages/ipykernel_launcher.py:4: FutureWarning: Sorting because non-concatenation axis is not aligned. A future version\n",
      "of pandas will change to not sort by default.\n",
      "\n",
      "To accept the future behavior, pass 'sort=False'.\n",
      "\n",
      "To retain the current behavior and silence the warning, pass 'sort=True'.\n",
      "\n",
      "  after removing the cwd from sys.path.\n"
     ]
    }
   ],
   "source": [
    "submissions_df = pd.concat([\n",
    "    load_dataframe_from_jsonl(a)\n",
    "    for a in Path(\"../data\").glob(\"RS_*\")\n",
    "],axis=0)"
   ]
  },
  {
   "cell_type": "code",
   "execution_count": 9,
   "metadata": {
    "ExecuteTime": {
     "end_time": "2020-02-09T12:34:26.595900Z",
     "start_time": "2020-02-09T12:34:25.959694Z"
    }
   },
   "outputs": [],
   "source": [
    "df = submissions_df[(submissions_df.selftext != '[deleted]') &\n",
    "                    (submissions_df.selftext != '[removed]')]"
   ]
  },
  {
   "cell_type": "code",
   "execution_count": 10,
   "metadata": {
    "ExecuteTime": {
     "end_time": "2020-02-09T12:34:27.782632Z",
     "start_time": "2020-02-09T12:34:27.777861Z"
    }
   },
   "outputs": [
    {
     "data": {
      "text/plain": [
       "261770"
      ]
     },
     "execution_count": 10,
     "metadata": {},
     "output_type": "execute_result"
    }
   ],
   "source": [
    "len(df)"
   ]
  },
  {
   "cell_type": "code",
   "execution_count": 30,
   "metadata": {
    "ExecuteTime": {
     "end_time": "2020-02-09T12:42:08.336578Z",
     "start_time": "2020-02-09T12:42:04.327221Z"
    }
   },
   "outputs": [
    {
     "name": "stderr",
     "output_type": "stream",
     "text": [
      "/home/johnkeszler/anaconda3/lib/python3.7/site-packages/ipykernel_launcher.py:1: SettingWithCopyWarning: \n",
      "A value is trying to be set on a copy of a slice from a DataFrame.\n",
      "Try using .loc[row_indexer,col_indexer] = value instead\n",
      "\n",
      "See the caveats in the documentation: http://pandas.pydata.org/pandas-docs/stable/indexing.html#indexing-view-versus-copy\n",
      "  \"\"\"Entry point for launching an IPython kernel.\n",
      "/home/johnkeszler/anaconda3/lib/python3.7/site-packages/ipykernel_launcher.py:2: SettingWithCopyWarning: \n",
      "A value is trying to be set on a copy of a slice from a DataFrame.\n",
      "Try using .loc[row_indexer,col_indexer] = value instead\n",
      "\n",
      "See the caveats in the documentation: http://pandas.pydata.org/pandas-docs/stable/indexing.html#indexing-view-versus-copy\n",
      "  \n",
      "/home/johnkeszler/anaconda3/lib/python3.7/site-packages/ipykernel_launcher.py:3: SettingWithCopyWarning: \n",
      "A value is trying to be set on a copy of a slice from a DataFrame.\n",
      "Try using .loc[row_indexer,col_indexer] = value instead\n",
      "\n",
      "See the caveats in the documentation: http://pandas.pydata.org/pandas-docs/stable/indexing.html#indexing-view-versus-copy\n",
      "  This is separate from the ipykernel package so we can avoid doing imports until\n"
     ]
    }
   ],
   "source": [
    "df['bernie'] = df.title.map(lambda x: 'bernie' in x.lower())\n",
    "df['create_date'] = df.created_utc.map(datetime.fromtimestamp)\n",
    "df['create_hour'] = df.create_date.map(lambda x: x.hour)"
   ]
  },
  {
   "cell_type": "code",
   "execution_count": 20,
   "metadata": {
    "ExecuteTime": {
     "end_time": "2020-02-09T12:38:21.022985Z",
     "start_time": "2020-02-09T12:38:21.018807Z"
    }
   },
   "outputs": [],
   "source": [
    "from_zone = tz.tzutc()\n",
    "to_zone = tz.tzlocal()"
   ]
  },
  {
   "cell_type": "code",
   "execution_count": null,
   "metadata": {},
   "outputs": [],
   "source": [
    "df."
   ]
  }
 ],
 "metadata": {
  "kernelspec": {
   "display_name": "Python 3",
   "language": "python",
   "name": "python3"
  },
  "language_info": {
   "codemirror_mode": {
    "name": "ipython",
    "version": 3
   },
   "file_extension": ".py",
   "mimetype": "text/x-python",
   "name": "python",
   "nbconvert_exporter": "python",
   "pygments_lexer": "ipython3",
   "version": "3.7.3"
  },
  "latex_envs": {
   "LaTeX_envs_menu_present": true,
   "autoclose": false,
   "autocomplete": true,
   "bibliofile": "biblio.bib",
   "cite_by": "apalike",
   "current_citInitial": 1,
   "eqLabelWithNumbers": true,
   "eqNumInitial": 1,
   "hotkeys": {
    "equation": "Ctrl-E",
    "itemize": "Ctrl-I"
   },
   "labels_anchors": false,
   "latex_user_defs": false,
   "report_style_numbering": false,
   "user_envs_cfg": false
  },
  "toc": {
   "base_numbering": 1,
   "nav_menu": {},
   "number_sections": true,
   "sideBar": true,
   "skip_h1_title": false,
   "title_cell": "Table of Contents",
   "title_sidebar": "Contents",
   "toc_cell": false,
   "toc_position": {},
   "toc_section_display": true,
   "toc_window_display": false
  }
 },
 "nbformat": 4,
 "nbformat_minor": 4
}
