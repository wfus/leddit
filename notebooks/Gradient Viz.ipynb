{
 "cells": [
  {
   "cell_type": "markdown",
   "metadata": {
    "toc": true
   },
   "source": [
    "<h1>Table of Contents<span class=\"tocSkip\"></span></h1>\n",
    "<div class=\"toc\"><ul class=\"toc-item\"></ul></div>"
   ]
  },
  {
   "cell_type": "code",
   "execution_count": 1,
   "metadata": {
    "ExecuteTime": {
     "end_time": "2020-03-15T16:01:20.175211Z",
     "start_time": "2020-03-15T16:01:16.991001Z"
    }
   },
   "outputs": [],
   "source": [
    "import sys\n",
    "sys.path.append('.')\n",
    "sys.path.append('..')\n",
    "import logging\n",
    "logger = logging.getLogger()\n",
    "logger.setLevel(logging.ERROR)\n",
    "\n",
    "from aita.AITAPredictor import AITAClassifier\n",
    "from aita.test_reader import AITATestReader\n",
    "from allennlp.common.file_utils import cached_path\n",
    "from allennlp.models.archival import load_archive "
   ]
  },
  {
   "cell_type": "code",
   "execution_count": 2,
   "metadata": {
    "ExecuteTime": {
     "end_time": "2020-03-15T16:01:36.503019Z",
     "start_time": "2020-03-15T16:01:27.726533Z"
    }
   },
   "outputs": [
    {
     "data": {
      "application/vnd.jupyter.widget-view+json": {
       "model_id": "787d532b3e484380a1bcb25ab4490e18",
       "version_major": 2,
       "version_minor": 0
      },
      "text/plain": [
       "HBox(children=(FloatProgress(value=1.0, bar_style='info', max=1.0), HTML(value='')))"
      ]
     },
     "metadata": {},
     "output_type": "display_data"
    },
    {
     "name": "stdout",
     "output_type": "stream",
     "text": [
      "\n"
     ]
    }
   ],
   "source": [
    "archive = load_archive('/tmp/roberta-base.tar.gz')\n",
    "predictor = AITAClassifier.from_archive(archive)\n",
    "validation_instances = predictor._dataset_reader.read('../data/aita-tiny-test.pkl')\n",
    "gradients, outputs = predictor.get_gradients(validation_instances[:2])"
   ]
  },
  {
   "cell_type": "code",
   "execution_count": 14,
   "metadata": {
    "ExecuteTime": {
     "end_time": "2020-03-15T16:08:23.404845Z",
     "start_time": "2020-03-15T16:08:23.396743Z"
    }
   },
   "outputs": [
    {
     "data": {
      "text/plain": [
       "{'logits': tensor([[ 1.0422, -0.0680, -2.8264,  1.9148],\n",
       "         [ 1.9197,  1.3438, -2.8119, -0.2908]], grad_fn=<AddmmBackward>),\n",
       " 'probs': tensor([[0.2671, 0.0880, 0.0056, 0.6393],\n",
       "         [0.5950, 0.3345, 0.0052, 0.0652]], grad_fn=<SoftmaxBackward>),\n",
       " 'loss': tensor(0.9196, grad_fn=<NllLossBackward>),\n",
       " 'label': ['ESH', 'YTA']}"
      ]
     },
     "execution_count": 14,
     "metadata": {},
     "output_type": "execute_result"
    }
   ],
   "source": [
    "outputs"
   ]
  },
  {
   "cell_type": "code",
   "execution_count": 13,
   "metadata": {
    "ExecuteTime": {
     "end_time": "2020-03-15T16:08:13.042502Z",
     "start_time": "2020-03-15T16:08:13.036116Z"
    }
   },
   "outputs": [
    {
     "data": {
      "text/plain": [
       "(128, 768)"
      ]
     },
     "execution_count": 13,
     "metadata": {},
     "output_type": "execute_result"
    }
   ],
   "source": [
    "gradients['grad_input_1'][0].shape"
   ]
  },
  {
   "cell_type": "code",
   "execution_count": 10,
   "metadata": {
    "ExecuteTime": {
     "end_time": "2020-03-15T16:07:29.897090Z",
     "start_time": "2020-03-15T16:07:29.884578Z"
    }
   },
   "outputs": [
    {
     "data": {
      "text/plain": [
       "{'grad_input_1': array([[[ 3.7145116e-03,  3.3431458e-03,  2.8573154e-03, ...,\n",
       "           1.5167197e-05, -4.8719477e-03, -2.2986620e-03],\n",
       "         [-1.3497671e-03,  8.0167671e-04,  7.7035674e-04, ...,\n",
       "           1.0905619e-03, -5.5438059e-04, -1.5614424e-03],\n",
       "         [-1.5700646e-04, -1.6816141e-03, -2.8906294e-04, ...,\n",
       "           6.5582855e-05,  3.2360705e-03, -1.0136397e-03],\n",
       "         ...,\n",
       "         [-1.7488052e-03,  5.7906273e-04, -4.1425848e-04, ...,\n",
       "          -1.1897685e-03,  8.5009700e-03,  4.5829858e-03],\n",
       "         [ 6.9070035e-03, -2.7353028e-03, -1.3624832e-03, ...,\n",
       "           4.8038769e-03, -2.6561209e-04, -2.5620712e-03],\n",
       "         [ 1.8964935e-03, -1.1677563e-03, -1.6932155e-03, ...,\n",
       "           6.1180443e-03, -2.6613779e-03, -6.3917805e-03]],\n",
       " \n",
       "        [[ 0.0000000e+00,  0.0000000e+00,  0.0000000e+00, ...,\n",
       "           0.0000000e+00,  0.0000000e+00,  0.0000000e+00],\n",
       "         [ 0.0000000e+00,  0.0000000e+00,  0.0000000e+00, ...,\n",
       "           0.0000000e+00,  0.0000000e+00,  0.0000000e+00],\n",
       "         [ 0.0000000e+00,  0.0000000e+00,  0.0000000e+00, ...,\n",
       "           0.0000000e+00,  0.0000000e+00,  0.0000000e+00],\n",
       "         ...,\n",
       "         [ 0.0000000e+00,  0.0000000e+00,  0.0000000e+00, ...,\n",
       "           0.0000000e+00,  0.0000000e+00,  0.0000000e+00],\n",
       "         [ 0.0000000e+00,  0.0000000e+00,  0.0000000e+00, ...,\n",
       "           0.0000000e+00,  0.0000000e+00,  0.0000000e+00],\n",
       "         [ 0.0000000e+00,  0.0000000e+00,  0.0000000e+00, ...,\n",
       "           0.0000000e+00,  0.0000000e+00,  0.0000000e+00]],\n",
       " \n",
       "        [[ 0.0000000e+00,  0.0000000e+00,  0.0000000e+00, ...,\n",
       "           0.0000000e+00,  0.0000000e+00,  0.0000000e+00],\n",
       "         [ 0.0000000e+00,  0.0000000e+00,  0.0000000e+00, ...,\n",
       "           0.0000000e+00,  0.0000000e+00,  0.0000000e+00],\n",
       "         [ 0.0000000e+00,  0.0000000e+00,  0.0000000e+00, ...,\n",
       "           0.0000000e+00,  0.0000000e+00,  0.0000000e+00],\n",
       "         ...,\n",
       "         [ 0.0000000e+00,  0.0000000e+00,  0.0000000e+00, ...,\n",
       "           0.0000000e+00,  0.0000000e+00,  0.0000000e+00],\n",
       "         [ 0.0000000e+00,  0.0000000e+00,  0.0000000e+00, ...,\n",
       "           0.0000000e+00,  0.0000000e+00,  0.0000000e+00],\n",
       "         [ 0.0000000e+00,  0.0000000e+00,  0.0000000e+00, ...,\n",
       "           0.0000000e+00,  0.0000000e+00,  0.0000000e+00]],\n",
       " \n",
       "        ...,\n",
       " \n",
       "        [[ 0.0000000e+00,  0.0000000e+00,  0.0000000e+00, ...,\n",
       "           0.0000000e+00,  0.0000000e+00,  0.0000000e+00],\n",
       "         [ 0.0000000e+00,  0.0000000e+00,  0.0000000e+00, ...,\n",
       "           0.0000000e+00,  0.0000000e+00,  0.0000000e+00],\n",
       "         [ 0.0000000e+00,  0.0000000e+00,  0.0000000e+00, ...,\n",
       "           0.0000000e+00,  0.0000000e+00,  0.0000000e+00],\n",
       "         ...,\n",
       "         [ 0.0000000e+00,  0.0000000e+00,  0.0000000e+00, ...,\n",
       "           0.0000000e+00,  0.0000000e+00,  0.0000000e+00],\n",
       "         [ 0.0000000e+00,  0.0000000e+00,  0.0000000e+00, ...,\n",
       "           0.0000000e+00,  0.0000000e+00,  0.0000000e+00],\n",
       "         [ 0.0000000e+00,  0.0000000e+00,  0.0000000e+00, ...,\n",
       "           0.0000000e+00,  0.0000000e+00,  0.0000000e+00]],\n",
       " \n",
       "        [[ 0.0000000e+00,  0.0000000e+00,  0.0000000e+00, ...,\n",
       "           0.0000000e+00,  0.0000000e+00,  0.0000000e+00],\n",
       "         [ 0.0000000e+00,  0.0000000e+00,  0.0000000e+00, ...,\n",
       "           0.0000000e+00,  0.0000000e+00,  0.0000000e+00],\n",
       "         [ 0.0000000e+00,  0.0000000e+00,  0.0000000e+00, ...,\n",
       "           0.0000000e+00,  0.0000000e+00,  0.0000000e+00],\n",
       "         ...,\n",
       "         [ 0.0000000e+00,  0.0000000e+00,  0.0000000e+00, ...,\n",
       "           0.0000000e+00,  0.0000000e+00,  0.0000000e+00],\n",
       "         [ 0.0000000e+00,  0.0000000e+00,  0.0000000e+00, ...,\n",
       "           0.0000000e+00,  0.0000000e+00,  0.0000000e+00],\n",
       "         [ 0.0000000e+00,  0.0000000e+00,  0.0000000e+00, ...,\n",
       "           0.0000000e+00,  0.0000000e+00,  0.0000000e+00]],\n",
       " \n",
       "        [[ 0.0000000e+00,  0.0000000e+00,  0.0000000e+00, ...,\n",
       "           0.0000000e+00,  0.0000000e+00,  0.0000000e+00],\n",
       "         [ 0.0000000e+00,  0.0000000e+00,  0.0000000e+00, ...,\n",
       "           0.0000000e+00,  0.0000000e+00,  0.0000000e+00],\n",
       "         [ 0.0000000e+00,  0.0000000e+00,  0.0000000e+00, ...,\n",
       "           0.0000000e+00,  0.0000000e+00,  0.0000000e+00],\n",
       "         ...,\n",
       "         [ 0.0000000e+00,  0.0000000e+00,  0.0000000e+00, ...,\n",
       "           0.0000000e+00,  0.0000000e+00,  0.0000000e+00],\n",
       "         [ 0.0000000e+00,  0.0000000e+00,  0.0000000e+00, ...,\n",
       "           0.0000000e+00,  0.0000000e+00,  0.0000000e+00],\n",
       "         [ 0.0000000e+00,  0.0000000e+00,  0.0000000e+00, ...,\n",
       "           0.0000000e+00,  0.0000000e+00,  0.0000000e+00]]], dtype=float32)}"
      ]
     },
     "execution_count": 10,
     "metadata": {},
     "output_type": "execute_result"
    }
   ],
   "source": [
    "gradients"
   ]
  },
  {
   "cell_type": "code",
   "execution_count": null,
   "metadata": {},
   "outputs": [],
   "source": []
  }
 ],
 "metadata": {
  "kernelspec": {
   "display_name": "Python 3",
   "language": "python",
   "name": "python3"
  },
  "language_info": {
   "codemirror_mode": {
    "name": "ipython",
    "version": 3
   },
   "file_extension": ".py",
   "mimetype": "text/x-python",
   "name": "python",
   "nbconvert_exporter": "python",
   "pygments_lexer": "ipython3",
   "version": "3.6.9"
  },
  "latex_envs": {
   "LaTeX_envs_menu_present": true,
   "autoclose": false,
   "autocomplete": true,
   "bibliofile": "biblio.bib",
   "cite_by": "apalike",
   "current_citInitial": 1,
   "eqLabelWithNumbers": true,
   "eqNumInitial": 1,
   "hotkeys": {
    "equation": "Ctrl-E",
    "itemize": "Ctrl-I"
   },
   "labels_anchors": false,
   "latex_user_defs": false,
   "report_style_numbering": false,
   "user_envs_cfg": false
  },
  "toc": {
   "base_numbering": 1,
   "nav_menu": {},
   "number_sections": true,
   "sideBar": true,
   "skip_h1_title": false,
   "title_cell": "Table of Contents",
   "title_sidebar": "Contents",
   "toc_cell": true,
   "toc_position": {},
   "toc_section_display": true,
   "toc_window_display": false
  }
 },
 "nbformat": 4,
 "nbformat_minor": 2
}
